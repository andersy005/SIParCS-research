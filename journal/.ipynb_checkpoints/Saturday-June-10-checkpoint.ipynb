{
 "cells": [
  {
   "cell_type": "code",
   "execution_count": 1,
   "metadata": {},
   "outputs": [
    {
     "data": {
      "application/javascript": [
       "IPython.notebook.set_autosave_interval(120000)"
      ]
     },
     "metadata": {},
     "output_type": "display_data"
    },
    {
     "name": "stdout",
     "output_type": "stream",
     "text": [
      "Autosaving every 120 seconds\n"
     ]
    }
   ],
   "source": [
    "%autosave 120"
   ]
  },
  {
   "cell_type": "markdown",
   "metadata": {},
   "source": [
    "# 10 AM - 12 PM"
   ]
  },
  {
   "cell_type": "markdown",
   "metadata": {},
   "source": [
    "- Calculate the means for the region of interest\n",
    "- Calculate the global temperature average "
   ]
  },
  {
   "cell_type": "markdown",
   "metadata": {
    "collapsed": true
   },
   "source": [
    "# 1 PM - 2: 15 PM\n"
   ]
  },
  {
   "cell_type": "markdown",
   "metadata": {},
   "source": [
    "## [Time Series](http://www.itl.nist.gov/div898/handbook/pmc/section4/pmc41.htm)\n",
    "\n",
    "### Introduction\n",
    "\n",
    "- **Time Series:** An ordered sequence of values of a variable at equally spaced time intervals.\n",
    "\n",
    "- **Applications:** The usage of time series models is twofold:\n",
    "    - Obtain an understanding of the underlying forces and structure that produced the observed data.\n",
    "    - Fit a model and proceed to forecasting, monitoring or even feedback and feedforward control.\n",
    "    \n",
    "- **Techniques:** The fitting of time series models can be an ambitious undertaking. There are many methods of model fitting including the following:\n",
    "    - [Box-Jenkins ARIMA models](http://www.itl.nist.gov/div898/handbook/pmc/section4/pmc44.htm)\n",
    "    - [Box-Jenkins Multivariate Models](http://www.itl.nist.gov/div898/handbook/pmc/section4/pmc45.htm)\n",
    "    - [Holt-Winters Exponential Smoothing (single, double, triple)](http://www.itl.nist.gov/div898/handbook/pmc/section4/pmc43.htm)\n"
   ]
  },
  {
   "cell_type": "markdown",
   "metadata": {},
   "source": [
    "### Moving average or Smoothing Techniques\n",
    "- Inherent in the collection of data taken over time is some form of random variation.\n",
    "\n",
    "There are two distinct methods for reducing of canceling the effect due to random variation ( smoothing methods):\n",
    "- **Averaging Methods**:\n",
    "    - can we use the mean to forecast income if we suspect a trend?\n",
    "    - The \"simple\" average or mean of all past observations is only a useful estimate for forecasting when there are no trends. If there are trends, use different estimates that take the trend into account.\n",
    "\n",
    "- **Exponential Smoothing:**\n",
    "    - This is a very popular scheme to produce a smoothed Time Series. Whereas in Single Moving Averages the past observations are weighted equally, Exponential Smoothing assigns exponentially decreasing weights as the observation get older. In other words, recent observations are given relatively more weight in forecasting than the older observations.\n",
    "\n",
    "    - In the case of moving averages, the weights assigned to the observations are the same and are equal to 1/N. In exponential smoothing, however, there are one or more smoothing parameters to be determined (or estimated) and these choices determine the weights assigned to the observations.\n"
   ]
  },
  {
   "cell_type": "code",
   "execution_count": null,
   "metadata": {
    "collapsed": true
   },
   "outputs": [],
   "source": []
  }
 ],
 "metadata": {
  "kernelspec": {
   "display_name": "Python 2",
   "language": "python",
   "name": "python2"
  },
  "language_info": {
   "codemirror_mode": {
    "name": "ipython",
    "version": 2
   },
   "file_extension": ".py",
   "mimetype": "text/x-python",
   "name": "python",
   "nbconvert_exporter": "python",
   "pygments_lexer": "ipython2",
   "version": "2.7.13"
  }
 },
 "nbformat": 4,
 "nbformat_minor": 2
}
