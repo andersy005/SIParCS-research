{
 "cells": [
  {
   "cell_type": "code",
   "execution_count": 1,
   "metadata": {},
   "outputs": [
    {
     "data": {
      "application/javascript": [
       "IPython.notebook.set_autosave_interval(120000)"
      ]
     },
     "metadata": {},
     "output_type": "display_data"
    },
    {
     "name": "stdout",
     "output_type": "stream",
     "text": [
      "Autosaving every 120 seconds\n"
     ]
    }
   ],
   "source": [
    "%autosave 120"
   ]
  },
  {
   "cell_type": "code",
   "execution_count": 2,
   "metadata": {
    "collapsed": true
   },
   "outputs": [],
   "source": [
    "# Hide warnings if there are any\n",
    "import warnings\n",
    "warnings.filterwarnings('ignore')\n",
    "\n",
    "from pyspark.sql import SparkSession\n",
    "from pyspark import SparkConf\n",
    "import read\n",
    "import numpy as np\n",
    "from __future__ import print_function\n",
    "import h5py\n",
    "from glob import glob\n",
    "import pandas as pd\n",
    "\n",
    "%matplotlib inline\n",
    "import matplotlib\n",
    "matplotlib.style.use('ggplot')\n",
    "import matplotlib.pyplot as plt\n",
    "import os\n",
    "import sys\n",
    "import cf_units as cf"
   ]
  },
  {
   "cell_type": "code",
   "execution_count": 3,
   "metadata": {
    "collapsed": true
   },
   "outputs": [],
   "source": [
    "spark = SparkSession.builder.appName(\"storm-tracker-preprocess\").getOrCreate()"
   ]
  },
  {
   "cell_type": "code",
   "execution_count": 4,
   "metadata": {
    "collapsed": true
   },
   "outputs": [],
   "source": [
    "sc = spark.sparkContext"
   ]
  },
  {
   "cell_type": "code",
   "execution_count": 5,
   "metadata": {
    "collapsed": true
   },
   "outputs": [],
   "source": [
    "partitions = 12"
   ]
  },
  {
   "cell_type": "code",
   "execution_count": 6,
   "metadata": {
    "collapsed": true
   },
   "outputs": [],
   "source": [
    "sc.addPyFile(\"/glade/p/work/abanihi/h5spark/src/main/python/h5spark/read.py\")"
   ]
  },
  {
   "cell_type": "markdown",
   "metadata": {
    "collapsed": true
   },
   "source": [
    "# Data"
   ]
  },
  {
   "cell_type": "code",
   "execution_count": 7,
   "metadata": {
    "collapsed": true
   },
   "outputs": [],
   "source": [
    "filepath = '/glade/scratch/abanihi/data/stormtracker/b.e11.B20TRC5CNBDRD.f09_g16.031.cam.h2.PSL.1990010100Z-2005123118Z.nc'"
   ]
  },
  {
   "cell_type": "markdown",
   "metadata": {},
   "source": [
    "!ncdump -h /glade/scratch/abanihi/data/stormtracker/b.e11.B20TRC5CNBDRD.f09_g16.031.cam.h2.PSL.1990010100Z-2005123118Z.nc"
   ]
  },
  {
   "cell_type": "code",
   "execution_count": 8,
   "metadata": {
    "collapsed": true
   },
   "outputs": [],
   "source": [
    "from netCDF4 import Dataset"
   ]
  },
  {
   "cell_type": "code",
   "execution_count": 9,
   "metadata": {
    "collapsed": true
   },
   "outputs": [],
   "source": [
    "dset = Dataset(filepath)"
   ]
  },
  {
   "cell_type": "code",
   "execution_count": 10,
   "metadata": {
    "collapsed": true
   },
   "outputs": [],
   "source": [
    "from __future__ import print_function\n",
    "from netCDF4 import Dataset\n",
    "\n",
    "\n",
    "\n",
    "def ncdump(dset, verbose=True):\n",
    "    \"\"\"\n",
    "    http://schubert.atmos.colostate.edu/~cslocum/netcdf_example.html\n",
    "    \n",
    "    Function that emulates NCAR's ncdump utility. It outputs dimensions, variables and their\n",
    "    attribute information. It requires a valid instance of Dataset.\n",
    "    \n",
    "    Arguments:\n",
    "    ----------\n",
    "    - dset: netCDF4.Dataset\n",
    "        A netCDF4 dataset object\n",
    "    - verbose: Boolean\n",
    "        whether or not nc_attrs, nc_dims, and nc_vars are printed.\n",
    "        \n",
    "    Returns:\n",
    "    --------\n",
    "    - nc_attrs : list\n",
    "        A Python list of the NetCDF file global attributes\n",
    "    - nc_dims : list\n",
    "        A Python list of the NetCDF file dimensions\n",
    "    - nc_vars : list\n",
    "        A Python list of the NetCDF file variables\n",
    "    \"\"\"\n",
    "    \n",
    "    def print_ncattr(key):\n",
    "        \"\"\"\n",
    "        Prints the NetCDF file attributes for a given key\n",
    "\n",
    "        Parameters\n",
    "        ----------\n",
    "        - key : unicode\n",
    "            a valid netCDF4.Dataset.variables key\n",
    "        \"\"\"\n",
    "        try:\n",
    "            print(\"\\t\\ttype: {}\".format(repr(dset.variables[key].dtype)))\n",
    "            for ncattr in dset.variables[key].ncattrs():\n",
    "                print(\"\\t\\t{} {}\".format(ncattr, repr(dset.variables[key].getncattr(ncattr))))\n",
    "                \n",
    "        except KeyError:\n",
    "            print(\"\\t\\tWARNING: {} does not contain variable attributes\".format(key))\n",
    "            \n",
    "    # NetCDF global attributes\n",
    "    nc_attrs = dset.ncattrs()\n",
    "    if verbose:\n",
    "        print(\"NetCDF Global Attributes:\")\n",
    "        for nc_attr in nc_attrs:\n",
    "            print(\"\\t{}: {}\".format(nc_attr, repr(dset.getncattr(nc_attr))))\n",
    "    \n",
    "    \n",
    "    nc_dims = [dim for dim in dset.dimensions] # list of dset dimensions\n",
    "    # Dimension shape information.\n",
    "    if verbose:\n",
    "        print(\"NetCDF dimension information:\")\n",
    "        for dim in nc_dims:\n",
    "            print(\"\\tName: {}\".format(dim))\n",
    "            print(\"\\t\\tsize: {}\".format(len(dset.dimensions[dim])))\n",
    "            print_ncattr(dim)\n",
    "            \n",
    "            \n",
    "    # Variable information.\n",
    "    nc_vars = [var for var in dset.variables] # list of dset variables\n",
    "    if verbose:\n",
    "        print(\"NetCDF variable information:\")\n",
    "        for var in nc_vars:\n",
    "            if var not in nc_dims:\n",
    "                print(\"\\tName: {}\".format(var))\n",
    "                print(\"\\t\\tdimensions: {}\".format(dset.variables[var].dimensions))\n",
    "                print(\"\\t\\tsize: {}\".format(dset.variables[var].size))\n",
    "                print_ncattr(var)\n",
    "                \n",
    "    return nc_attrs, nc_dims, nc_vars\n"
   ]
  },
  {
   "cell_type": "code",
   "execution_count": 11,
   "metadata": {},
   "outputs": [
    {
     "name": "stdout",
     "output_type": "stream",
     "text": [
      "NetCDF Global Attributes:\n",
      "\tConventions: u'CF-1.0'\n",
      "\tsource: u'CAM'\n",
      "\tcase: u'b.e11.B20TRC5CNBDRD.f09_g16.031'\n",
      "\ttitle: u'UNSET'\n",
      "\tlogname: u'mickelso'\n",
      "\thost: u'ys1325'\n",
      "\tVersion: u'$Name$'\n",
      "\trevision_Id: u'$Id$'\n",
      "\tinitial_file: u'/glade/p/cesmdata/cseg/inputdata/atm/cam/inic/fv/cami-mam3_0000-01-01_0.9x1.25_L30_c100618.nc'\n",
      "\ttopography_file: u'/glade/p/cesmdata/cseg/inputdata/atm/cam/topo/USGS-gtopo30_0.9x1.25_remap_c051027.nc'\n",
      "\timportant_note: u\"This data is part of the project 'Blind Evaluation of Lossy Data-Compression in LENS'.  Please exercise caution before using this data for other purposes.\"\n",
      "NetCDF dimension information:\n",
      "\tName: lat\n",
      "\t\tsize: 192\n",
      "\t\ttype: dtype('float64')\n",
      "\t\tlong_name u'latitude'\n",
      "\t\tunits u'degrees_north'\n",
      "\tName: lon\n",
      "\t\tsize: 288\n",
      "\t\ttype: dtype('float64')\n",
      "\t\tlong_name u'longitude'\n",
      "\t\tunits u'degrees_east'\n",
      "\tName: slat\n",
      "\t\tsize: 191\n",
      "\t\ttype: dtype('float64')\n",
      "\t\tlong_name u'staggered latitude'\n",
      "\t\tunits u'degrees_north'\n",
      "\tName: slon\n",
      "\t\tsize: 288\n",
      "\t\ttype: dtype('float64')\n",
      "\t\tlong_name u'staggered longitude'\n",
      "\t\tunits u'degrees_east'\n",
      "\tName: time\n",
      "\t\tsize: 23360\n",
      "\t\ttype: dtype('float64')\n",
      "\t\tlong_name u'time'\n",
      "\t\tunits u'days since 1920-01-01 00:00:00'\n",
      "\t\tcalendar u'noleap'\n",
      "\t\tbounds u'time_bnds'\n",
      "\tName: nbnd\n",
      "\t\tsize: 2\n",
      "\t\tWARNING: nbnd does not contain variable attributes\n",
      "\tName: chars\n",
      "\t\tsize: 8\n",
      "\t\tWARNING: chars does not contain variable attributes\n",
      "\tName: lev\n",
      "\t\tsize: 30\n",
      "\t\ttype: dtype('float64')\n",
      "\t\tlong_name u'hybrid level at midpoints (1000*(A+B))'\n",
      "\t\tunits u'level'\n",
      "\t\tpositive u'down'\n",
      "\t\tstandard_name u'atmosphere_hybrid_sigma_pressure_coordinate'\n",
      "\t\tformula_terms u'a: hyam b: hybm p0: P0 ps: PS'\n",
      "\tName: ilev\n",
      "\t\tsize: 31\n",
      "\t\ttype: dtype('float64')\n",
      "\t\tlong_name u'hybrid level at interfaces (1000*(A+B))'\n",
      "\t\tunits u'level'\n",
      "\t\tpositive u'down'\n",
      "\t\tstandard_name u'atmosphere_hybrid_sigma_pressure_coordinate'\n",
      "\t\tformula_terms u'a: hyai b: hybi p0: P0 ps: PS'\n",
      "NetCDF variable information:\n",
      "\tName: hyam\n",
      "\t\tdimensions: (u'lev',)\n",
      "\t\tsize: 30\n",
      "\t\ttype: dtype('float64')\n",
      "\t\tlong_name u'hybrid A coefficient at layer midpoints'\n",
      "\tName: hybm\n",
      "\t\tdimensions: (u'lev',)\n",
      "\t\tsize: 30\n",
      "\t\ttype: dtype('float64')\n",
      "\t\tlong_name u'hybrid B coefficient at layer midpoints'\n",
      "\tName: hyai\n",
      "\t\tdimensions: (u'ilev',)\n",
      "\t\tsize: 31\n",
      "\t\ttype: dtype('float64')\n",
      "\t\tlong_name u'hybrid A coefficient at layer interfaces'\n",
      "\tName: hybi\n",
      "\t\tdimensions: (u'ilev',)\n",
      "\t\tsize: 31\n",
      "\t\ttype: dtype('float64')\n",
      "\t\tlong_name u'hybrid B coefficient at layer interfaces'\n",
      "\tName: P0\n",
      "\t\tdimensions: ()\n",
      "\t\tsize: 1.0\n",
      "\t\ttype: dtype('float64')\n",
      "\t\tlong_name u'reference pressure'\n",
      "\t\tunits u'Pa'\n",
      "\tName: date\n",
      "\t\tdimensions: (u'time',)\n",
      "\t\tsize: 23360\n",
      "\t\ttype: dtype('int32')\n",
      "\t\tlong_name u'current date (YYYYMMDD)'\n",
      "\tName: datesec\n",
      "\t\tdimensions: (u'time',)\n",
      "\t\tsize: 23360\n",
      "\t\ttype: dtype('int32')\n",
      "\t\tlong_name u'current seconds of current date'\n",
      "\tName: w_stag\n",
      "\t\tdimensions: (u'slat',)\n",
      "\t\tsize: 191\n",
      "\t\ttype: dtype('float64')\n",
      "\t\tlong_name u'staggered latitude weights'\n",
      "\tName: time_bnds\n",
      "\t\tdimensions: (u'time', u'nbnd')\n",
      "\t\tsize: 46720\n",
      "\t\ttype: dtype('float64')\n",
      "\t\tlong_name u'time interval endpoints'\n",
      "\tName: date_written\n",
      "\t\tdimensions: (u'time', u'chars')\n",
      "\t\tsize: 186880\n",
      "\t\ttype: dtype('S1')\n",
      "\tName: time_written\n",
      "\t\tdimensions: (u'time', u'chars')\n",
      "\t\tsize: 186880\n",
      "\t\ttype: dtype('S1')\n",
      "\tName: ntrm\n",
      "\t\tdimensions: ()\n",
      "\t\tsize: 1.0\n",
      "\t\ttype: dtype('int32')\n",
      "\t\tlong_name u'spectral truncation parameter M'\n",
      "\tName: ntrn\n",
      "\t\tdimensions: ()\n",
      "\t\tsize: 1.0\n",
      "\t\ttype: dtype('int32')\n",
      "\t\tlong_name u'spectral truncation parameter N'\n",
      "\tName: ntrk\n",
      "\t\tdimensions: ()\n",
      "\t\tsize: 1.0\n",
      "\t\ttype: dtype('int32')\n",
      "\t\tlong_name u'spectral truncation parameter K'\n",
      "\tName: ndbase\n",
      "\t\tdimensions: ()\n",
      "\t\tsize: 1.0\n",
      "\t\ttype: dtype('int32')\n",
      "\t\tlong_name u'base day'\n",
      "\tName: nsbase\n",
      "\t\tdimensions: ()\n",
      "\t\tsize: 1.0\n",
      "\t\ttype: dtype('int32')\n",
      "\t\tlong_name u'seconds of base day'\n",
      "\tName: nbdate\n",
      "\t\tdimensions: ()\n",
      "\t\tsize: 1.0\n",
      "\t\ttype: dtype('int32')\n",
      "\t\tlong_name u'base date (YYYYMMDD)'\n",
      "\tName: nbsec\n",
      "\t\tdimensions: ()\n",
      "\t\tsize: 1.0\n",
      "\t\ttype: dtype('int32')\n",
      "\t\tlong_name u'seconds of base date'\n",
      "\tName: mdt\n",
      "\t\tdimensions: ()\n",
      "\t\tsize: 1.0\n",
      "\t\ttype: dtype('int32')\n",
      "\t\tlong_name u'timestep'\n",
      "\t\tunits u's'\n",
      "\tName: nlon\n",
      "\t\tdimensions: (u'lat',)\n",
      "\t\tsize: 192\n",
      "\t\ttype: dtype('int32')\n",
      "\t\tlong_name u'number of longitudes'\n",
      "\tName: wnummax\n",
      "\t\tdimensions: (u'lat',)\n",
      "\t\tsize: 192\n",
      "\t\ttype: dtype('int32')\n",
      "\t\tlong_name u'cutoff Fourier wavenumber'\n",
      "\tName: gw\n",
      "\t\tdimensions: (u'lat',)\n",
      "\t\tsize: 192\n",
      "\t\ttype: dtype('float64')\n",
      "\t\tlong_name u'gauss weights'\n",
      "\tName: ndcur\n",
      "\t\tdimensions: (u'time',)\n",
      "\t\tsize: 23360\n",
      "\t\ttype: dtype('int32')\n",
      "\t\tlong_name u'current day (from base day)'\n",
      "\tName: nscur\n",
      "\t\tdimensions: (u'time',)\n",
      "\t\tsize: 23360\n",
      "\t\ttype: dtype('int32')\n",
      "\t\tlong_name u'current seconds of current day'\n",
      "\tName: co2vmr\n",
      "\t\tdimensions: (u'time',)\n",
      "\t\tsize: 23360\n",
      "\t\ttype: dtype('float64')\n",
      "\t\tlong_name u'co2 volume mixing ratio'\n",
      "\tName: ch4vmr\n",
      "\t\tdimensions: (u'time',)\n",
      "\t\tsize: 23360\n",
      "\t\ttype: dtype('float64')\n",
      "\t\tlong_name u'ch4 volume mixing ratio'\n",
      "\tName: n2ovmr\n",
      "\t\tdimensions: (u'time',)\n",
      "\t\tsize: 23360\n",
      "\t\ttype: dtype('float64')\n",
      "\t\tlong_name u'n2o volume mixing ratio'\n",
      "\tName: f11vmr\n",
      "\t\tdimensions: (u'time',)\n",
      "\t\tsize: 23360\n",
      "\t\ttype: dtype('float64')\n",
      "\t\tlong_name u'f11 volume mixing ratio'\n",
      "\tName: f12vmr\n",
      "\t\tdimensions: (u'time',)\n",
      "\t\tsize: 23360\n",
      "\t\ttype: dtype('float64')\n",
      "\t\tlong_name u'f12 volume mixing ratio'\n",
      "\tName: sol_tsi\n",
      "\t\tdimensions: (u'time',)\n",
      "\t\tsize: 23360\n",
      "\t\ttype: dtype('float64')\n",
      "\t\tlong_name u'total solar irradiance'\n",
      "\t\tunits u'W/m2'\n",
      "\tName: nsteph\n",
      "\t\tdimensions: (u'time',)\n",
      "\t\tsize: 23360\n",
      "\t\ttype: dtype('int32')\n",
      "\t\tlong_name u'current timestep'\n",
      "\tName: PSL\n",
      "\t\tdimensions: (u'time', u'lat', u'lon')\n",
      "\t\tsize: 1291714560\n",
      "\t\ttype: dtype('float32')\n",
      "\t\tunits u'Pa'\n",
      "\t\tlong_name u'Sea level pressure'\n"
     ]
    }
   ],
   "source": [
    "nc_attrs, nc_dims, nc_vars = ncdump(dset)"
   ]
  },
  {
   "cell_type": "code",
   "execution_count": 12,
   "metadata": {
    "collapsed": true
   },
   "outputs": [],
   "source": [
    "lats = dset.variables['lat'][:]\n",
    "lons = dset.variables['lon'][:]\n",
    "time = dset.variables['time'][:]\n",
    "slats = dset.variables['slat'][:]\n",
    "slons = dset.variables['slon'][:]\n",
    "P0 = dset.variables['P0'][:]\n",
    "PSL = dset.variables['PSL'][:]"
   ]
  },
  {
   "cell_type": "code",
   "execution_count": 13,
   "metadata": {
    "collapsed": true
   },
   "outputs": [],
   "source": [
    "dset.close()"
   ]
  },
  {
   "cell_type": "code",
   "execution_count": 14,
   "metadata": {},
   "outputs": [
    {
     "data": {
      "text/plain": [
       "[u'Conventions',\n",
       " u'source',\n",
       " u'case',\n",
       " u'title',\n",
       " u'logname',\n",
       " u'host',\n",
       " u'Version',\n",
       " u'revision_Id',\n",
       " u'initial_file',\n",
       " u'topography_file',\n",
       " u'important_note']"
      ]
     },
     "execution_count": 14,
     "metadata": {},
     "output_type": "execute_result"
    }
   ],
   "source": [
    "nc_attrs"
   ]
  },
  {
   "cell_type": "code",
   "execution_count": 15,
   "metadata": {},
   "outputs": [
    {
     "data": {
      "text/plain": [
       "[u'lat', u'lon', u'slat', u'slon', u'time', u'nbnd', u'chars', u'lev', u'ilev']"
      ]
     },
     "execution_count": 15,
     "metadata": {},
     "output_type": "execute_result"
    }
   ],
   "source": [
    "nc_dims"
   ]
  },
  {
   "cell_type": "code",
   "execution_count": 16,
   "metadata": {},
   "outputs": [
    {
     "data": {
      "text/plain": [
       "(23360, 192, 288)"
      ]
     },
     "execution_count": 16,
     "metadata": {},
     "output_type": "execute_result"
    }
   ],
   "source": [
    "PSL.shape"
   ]
  },
  {
   "cell_type": "code",
   "execution_count": 17,
   "metadata": {
    "collapsed": true
   },
   "outputs": [],
   "source": [
    "from time import time\n",
    "psl_rdd = read.h5read(sc, (filepath, '/PSL'), mode='single', partitions=partitions).zipWithIndex()"
   ]
  },
  {
   "cell_type": "code",
   "execution_count": 18,
   "metadata": {},
   "outputs": [
    {
     "data": {
      "text/plain": [
       "PythonRDD[8] at RDD at PythonRDD.scala:48"
      ]
     },
     "execution_count": 18,
     "metadata": {},
     "output_type": "execute_result"
    }
   ],
   "source": [
    "psl_rdd.cache()"
   ]
  },
  {
   "cell_type": "code",
   "execution_count": 19,
   "metadata": {},
   "outputs": [
    {
     "name": "stdout",
     "output_type": "stream",
     "text": [
      "The total size is 23360\n",
      "Count done in 16.263 seconds\n"
     ]
    }
   ],
   "source": [
    "# action + time \n",
    "t0 = time()\n",
    "total_size = psl_rdd.count()\n",
    "tt = time() - t0\n",
    "print(\"The total size is {}\".format(total_size))\n",
    "print(\"Count done in {} seconds\".format(round(tt,3)))"
   ]
  },
  {
   "cell_type": "code",
   "execution_count": 20,
   "metadata": {},
   "outputs": [
    {
     "name": "stdout",
     "output_type": "stream",
     "text": [
      "(array([[  99190.,   99190.,   99190., ...,   99190.,   99190.,   99190.],\n",
      "       [  99256.,   99254.,   99252., ...,   99260.,   99260.,   99258.],\n",
      "       [  99264.,   99264.,   99262., ...,   99266.,   99266.,   99264.],\n",
      "       ..., \n",
      "       [ 101326.,  101332.,  101336., ...,  101314.,  101318.,  101322.],\n",
      "       [ 101556.,  101560.,  101564., ...,  101548.,  101552.,  101554.],\n",
      "       [ 101854.,  101854.,  101854., ...,  101854.,  101854.,  101854.]], dtype=float32), 0)\n"
     ]
    }
   ],
   "source": [
    "print(psl_rdd.first())"
   ]
  },
  {
   "cell_type": "code",
   "execution_count": null,
   "metadata": {
    "collapsed": true
   },
   "outputs": [],
   "source": []
  }
 ],
 "metadata": {
  "kernelspec": {
   "display_name": "Python 2",
   "language": "python",
   "name": "python2"
  },
  "language_info": {
   "codemirror_mode": {
    "name": "ipython",
    "version": 2
   },
   "file_extension": ".py",
   "mimetype": "text/x-python",
   "name": "python",
   "nbconvert_exporter": "python",
   "pygments_lexer": "ipython2",
   "version": "2.7.13"
  }
 },
 "nbformat": 4,
 "nbformat_minor": 2
}
