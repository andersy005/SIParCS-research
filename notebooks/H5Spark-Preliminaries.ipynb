{
 "cells": [
  {
   "cell_type": "markdown",
   "metadata": {},
   "source": [
    "<small><i>This notebook was put together by [Anderson Banihirwe](andersy005.github.io) as part of [2017 CISL/SIParCS Research Project](https://github.com/NCAR/PySpark4Climate): **PySpark for Big Atmospheric & Oceanic Data Analysis**</i></small>\n"
   ]
  },
  {
   "cell_type": "markdown",
   "metadata": {},
   "source": [
    "<h1 align=\"center\"> HDF5/netCDF4 data format in Spark with H5Spark</h1>\n",
    "\n",
    "![](https://i.imgur.com/ILcF9uH.jpg)"
   ]
  },
  {
   "cell_type": "markdown",
   "metadata": {},
   "source": [
    "# Introduction\n",
    "\n",
    "HPC applications often rely on hierarchical data formats to organize files and datasets. However, accessing data stored in HDF5/netCDF4 files is not natively supported in Spark.\n",
    "    \n",
    "[H5Spark](https://github.com/valiantljk/h5spark) is a Spark Package that:\n",
    "\n",
    "- Supports Hierarchical Data Format, HDF5/netCDF4 and Rich Parallel I/O interface in Spark.\n",
    "\n",
    "- Optimizes I/O performance on HPC.\n",
    "\n",
    "H5Spark was designed for and tested on [Lustre parallel filesystem](http://lustre.org/).\n",
    "\n",
    "Our objective is to test it on **NCAR's Glade**. Glade uses [high-performance GPFS shared file system technology](https://en.wikipedia.org/wiki/IBM_General_Parallel_File_System)."
   ]
  },
  {
   "cell_type": "markdown",
   "metadata": {},
   "source": [
    "In this notebook, we will explore how to explore H5Spark's functionalities to transform HDF5/netCDF4 file formats into RDDs that Spark can understand. "
   ]
  },
  {
   "cell_type": "markdown",
   "metadata": {},
   "source": [
    "# 1. Import Packages"
   ]
  },
  {
   "cell_type": "code",
   "execution_count": 1,
   "metadata": {
    "collapsed": true
   },
   "outputs": [],
   "source": [
    "import pyspark\n",
    "import read # H5Spark package\n",
    "import h5py\n",
    "import numpy as np\n",
    "import seaborn as sns\n",
    "sns.set(color_codes=True)\n",
    "import matplotlib.pyplot as plt\n",
    "%matplotlib inline\n",
    "\n",
    "\n",
    "\n",
    "from pyspark.sql import SparkSession\n",
    "\n",
    "spark = SparkSession.builder.appName(\"h5spark-rdd\").getOrCreate()\n",
    "\n",
    "# Create spark context\n",
    "sc = spark.sparkContext"
   ]
  },
  {
   "cell_type": "markdown",
   "metadata": {
    "collapsed": true
   },
   "source": [
    "# 2. Getting the data and creating the RDD\n",
    "In this case we will use [Global Meteorological Forcing Dataset for Land Surface Modeling](https://rda.ucar.edu/datasets/ds314.0/). We will use a small chunk of this dataset, *monthly temperature means* ```4tas_monthly_1948-2008.nc``` from 1948 to 2008."
   ]
  },
  {
   "cell_type": "markdown",
   "metadata": {
    "collapsed": true
   },
   "source": [
    "Let's load our dataset and inspect it to find out the information that we will need for H5Spark package."
   ]
  },
  {
   "cell_type": "code",
   "execution_count": 2,
   "metadata": {
    "collapsed": true
   },
   "outputs": [],
   "source": [
    "filepath = \"/Users/abanihi/Desktop/netCDF-datasets/4tas_monthly_1948-2008.nc\"\n"
   ]
  },
  {
   "cell_type": "markdown",
   "metadata": {},
   "source": [
    "**Note:**As it was indicated in the introduction section, **H5Spark package supports HDF5 and netCDF4 file formats only**!\n",
    "\n",
    "To transform HDF5/netCDF4 data into RDDs, H5Spark read function  ```h5read(...)``` and friends take the following arguments:\n",
    "\n",
    "\n",
    "| Functions                       | Output                      |\n",
    "|---------------------------------|-----------------------------|\n",
    "| ```h5read(sc, f, v, p)```       | A RDD of double array       |\n",
    "| ```h5read_point(sc, f, v, p)``` | A RDD of (key, value) pair  |\n",
    "| ```h5read_vec(sc, f, v, p)```   | A RDD of vector             |\n",
    "| ```h5read_irow(sc, f, v, p)```  | A RDD of indexed row        |\n",
    "| ```h5read_imat(sc, f, v, p)```  | A RDD of indexed row matrix |\n",
    "\n",
    "Where:\n",
    "- ```sc``` : SparkContext\n",
    "- ```f```  : HDF5/netCDF File Path\n",
    "- ```v```  : Dataset in HDF5\n",
    "- ```*p``` : Partition\n",
    "\n",
    "\n",
    "**Note:** *Spark partition determines the degree of parallelism = MPI processes + OpenMP\n",
    "\n",
    "**Tip:** p > num of cores\n",
    "\n",
    "### HDF5 and NetCDF terminology\n",
    "| **HDF5**        | **NetCDF**          |\n",
    "|-----------------|---------------------|\n",
    "| HDF5 file       | Dataset             |\n",
    "| Dataspace       | Dimensions          |\n",
    "| Attribute       | Attribute           |\n",
    "| dataset         | Variable            |\n",
    "| Dimension scale | Coordinate variable |\n",
    "\n",
    "\n",
    "The next task is to first confirm that our dataset is a netCDF-4 file format and find out what dataset(in HDF5) or variable(in netCDF4) to pass as **v** argument to H5Spark read function."
   ]
  },
  {
   "cell_type": "markdown",
   "metadata": {},
   "source": [
    "## 2.1. Find out which netCDF format it is"
   ]
  },
  {
   "cell_type": "code",
   "execution_count": 3,
   "metadata": {},
   "outputs": [
    {
     "name": "stdout",
     "output_type": "stream",
     "text": [
      "netCDF-4\r\n"
     ]
    }
   ],
   "source": [
    "!ncdump -k /Users/abanihi/Desktop/netCDF-datasets/4tas_monthly_1948-2008.nc"
   ]
  },
  {
   "cell_type": "markdown",
   "metadata": {
    "collapsed": true
   },
   "source": [
    "## 2.2. View a brief summary of our dataset with ```ncdump``` and ```h5dump``` command line tools\n",
    "\n",
    "If you have [the ncdump command-line utility](https://www.unidata.ucar.edu/software/netcdf/workshops/2009/utilities/Ncdump.html) installed, you can issue the command below"
   ]
  },
  {
   "cell_type": "code",
   "execution_count": 4,
   "metadata": {},
   "outputs": [
    {
     "name": "stdout",
     "output_type": "stream",
     "text": [
      "netcdf \\4tas_monthly_1948-2008 {\r\n",
      "dimensions:\r\n",
      "\tlongitude = 360 ;\r\n",
      "\tlatitude = 180 ;\r\n",
      "\tz = 1 ;\r\n",
      "\ttime = UNLIMITED ; // (732 currently)\r\n",
      "variables:\r\n",
      "\tfloat longitude(longitude) ;\r\n",
      "\t\tlongitude:units = \"degrees_east\" ;\r\n",
      "\t\tlongitude:point_spacing = \"even\" ;\r\n",
      "\t\tlongitude:modulo = \" \" ;\r\n",
      "\tfloat latitude(latitude) ;\r\n",
      "\t\tlatitude:units = \"degrees_north\" ;\r\n",
      "\t\tlatitude:point_spacing = \"even\" ;\r\n",
      "\tfloat z(z) ;\r\n",
      "\t\tz:units = \"level\" ;\r\n",
      "\t\tz:positive = \"up\" ;\r\n",
      "\tfloat time(time) ;\r\n",
      "\t\ttime:units = \"months since 1948-01-01 00:00:00\" ;\r\n",
      "\t\ttime:time_origin = \"01-JAN-1948:00:00:00\" ;\r\n",
      "\tfloat tas(time, z, latitude, longitude) ;\r\n",
      "\t\ttas:source = \"Reanalysis 6-hourly air temperature interpolated to 1.0deg with account for elevation changes, interpolated to 3-hourly and scaled to match the diurnal range and mean of the CRU TS3.0 monthly dataset\" ;\r\n",
      "\t\ttas:name = \"tas\" ;\r\n",
      "\t\ttas:title = \"monthly average bias corrected air temperature\" ;\r\n",
      "\t\ttas:date = \"01/01/48\" ;\r\n",
      "\t\ttas:time = \"00:00\" ;\r\n",
      "\t\ttas:long_name = \"Air temperature\" ;\r\n",
      "\t\ttas:units = \"K\" ;\r\n",
      "\t\ttas:missing_value = 2.e+20f ;\r\n",
      "\t\ttas:_FillValue = 2.e+20f ;\r\n",
      "\t\ttas:valid_min = 193.224f ;\r\n",
      "\t\ttas:valid_max = 313.4117f ;\r\n",
      "\r\n",
      "// global attributes:\r\n",
      "\t\t:history = \"Fri Mar 11 14:23:02 EST 2011: created by JS using convert2alma.sh\" ;\r\n",
      "\t\t:title = \"Princeton University Hydroclimatology Group Bias Corrected 59-yr (1948-2006) Meteorological Forcing Dataset\" ;\r\n",
      "\t\t:institution = \"Princeton University\" ;\r\n",
      "\t\t:contact = \"Justin Sheffield (justin@princeton.edu)\" ;\r\n",
      "\t\t:source = \"Forcings are a hybrid of NCEP/NCAR reanalysis and observations\" ;\r\n",
      "\t\t:comment = \"This is an update to the original version reported in Sheffield et al., J. Climate (2006). Updates include: i) extension to 2006; ii) improved sampling procedure for correction of rain day statistics; iii) use of latest versions of CRU, SRB and TRMM products; iv) improved consistency between specific and relative humidity and air temperature. See Sheffield et al., J. Climate (2006) for details of the observations used and the bias correction and downscaling methodology.\" ;\r\n",
      "}\r\n"
     ]
    }
   ],
   "source": [
    "!ncdump -h /Users/abanihi/Desktop/netCDF-datasets/4tas_monthly_1948-2008.nc"
   ]
  },
  {
   "cell_type": "markdown",
   "metadata": {},
   "source": [
    "From this summary, we can get the information that we need. Our dataset has 5 variables(netCDF4) or 5 datasets(HDF5):\n",
    "- longitude\n",
    "- latitude\n",
    "- z\n",
    "- tas\n",
    "- time\n",
    "\n",
    "We are interested in **temperature(tas)** dataset(HDF5) or variable(netCDF4). Therefore, in our case ```v = tas```."
   ]
  },
  {
   "cell_type": "markdown",
   "metadata": {},
   "source": [
    "## 2.3. Helper function to read in our data into an RDD"
   ]
  },
  {
   "cell_type": "code",
   "execution_count": 5,
   "metadata": {
    "collapsed": true
   },
   "outputs": [],
   "source": [
    "def hdf5_to_rdd():\n",
    "    \"\"\"A simple that loads HDF5/netCDF4 file and returns a RDD\"\"\"\n",
    "    rdd_ = read.h5read(sc, (filepath, \"/tas\"), mode='single', partitions=12)\n",
    "    return rdd_"
   ]
  },
  {
   "cell_type": "markdown",
   "metadata": {
    "collapsed": true
   },
   "source": [
    "## 2.4 Create RDD\n"
   ]
  },
  {
   "cell_type": "code",
   "execution_count": 6,
   "metadata": {},
   "outputs": [],
   "source": [
    "tas_rdd = hdf5_to_rdd().cache()"
   ]
  },
  {
   "cell_type": "markdown",
   "metadata": {},
   "source": [
    "# 3. Actions and Transformations"
   ]
  },
  {
   "cell_type": "code",
   "execution_count": 7,
   "metadata": {
    "collapsed": true
   },
   "outputs": [],
   "source": [
    "from time import time\n",
    "from __future__ import print_function"
   ]
  },
  {
   "cell_type": "markdown",
   "metadata": {},
   "source": [
    "## 3.1. Stats\n",
    "\n",
    "Spark has ```stats()``` method that returns a StatCounter object that captures the mean, variance and count of the RDD’s elements in one operation."
   ]
  },
  {
   "cell_type": "code",
   "execution_count": 8,
   "metadata": {
    "collapsed": true
   },
   "outputs": [],
   "source": [
    "# action + time \n",
    "t0 = time()\n",
    "total_size = tas_rdd.count()\n",
    "tt = time() - t0"
   ]
  },
  {
   "cell_type": "code",
   "execution_count": 9,
   "metadata": {},
   "outputs": [
    {
     "name": "stdout",
     "output_type": "stream",
     "text": [
      "The total size is 732\n",
      "Count done in 1.774 seconds\n"
     ]
    }
   ],
   "source": [
    "print(\"The total size is {}\".format(total_size))\n",
    "print(\"Count done in {} seconds\".format(round(tt,3)))"
   ]
  },
  {
   "cell_type": "code",
   "execution_count": 10,
   "metadata": {},
   "outputs": [
    {
     "name": "stdout",
     "output_type": "stream",
     "text": [
      "[[[ 254.5070343   254.48086548  254.84159851 ...,  255.10877991\n",
      "    255.17124939  254.9515686 ]\n",
      "  [ 256.05981445  256.07855225  256.35101318 ...,  256.40127563\n",
      "    256.42196655  256.29632568]\n",
      "  [ 256.27810669  256.22521973  256.60891724 ...,  257.12588501\n",
      "    257.05773926  256.77496338]\n",
      "  ..., \n",
      "  [ 229.79891968  230.23980713  231.19805908 ...,  230.55310059\n",
      "    230.12684631  229.8754425 ]\n",
      "  [ 229.60472107  229.7421875   229.95570374 ...,  230.46591187\n",
      "    229.83030701  229.54327393]\n",
      "  [ 229.84117126  229.88601685  229.7243042  ...,  230.47297668\n",
      "    229.80038452  229.58973694]]]\n"
     ]
    }
   ],
   "source": [
    "print(tas_rdd.first())"
   ]
  },
  {
   "cell_type": "code",
   "execution_count": 11,
   "metadata": {},
   "outputs": [
    {
     "name": "stdout",
     "output_type": "stream",
     "text": [
      "Shape: (1, 180, 360)\n"
     ]
    }
   ],
   "source": [
    "# Find the shape of each element in our rdd\n",
    "shape = tas_rdd.take(1)[0].shape\n",
    "print(\"Shape: {}\".format(shape))"
   ]
  },
  {
   "cell_type": "markdown",
   "metadata": {},
   "source": [
    "From shape and total size values we can confirm that our netCDF4 data was correctly transformed to rdd.\n",
    "\n",
    "The details of our rdd are as follows:\n",
    "- Our RDD has 732 elements, we can think of it as a textfile with 732 lines\n",
    "- Each row in our RDD represents entries for each month since 1948 to 2008 $(\\text{total_num_months}$ $= (2008 - 1948 + 1 ) * 12 = 732)$"
   ]
  },
  {
   "cell_type": "code",
   "execution_count": 12,
   "metadata": {},
   "outputs": [
    {
     "name": "stdout",
     "output_type": "stream",
     "text": [
      "Stats calculated in 0.61 seconds\n"
     ]
    }
   ],
   "source": [
    "# Call stats method on our tas_rdd and return the statistics as a dictionary object\n",
    "t0 = time()\n",
    "stats = tas_rdd.stats().asDict()\n",
    "tt = time() - t0\n",
    "print(\"Stats calculated in {} seconds\".format(round(tt,3)))"
   ]
  },
  {
   "cell_type": "code",
   "execution_count": 13,
   "metadata": {},
   "outputs": [
    {
     "data": {
      "text/plain": [
       "{'count': 732,\n",
       " 'max': array([[[ 258.81048584,  258.8755188 ,  258.76220703, ...,  258.62866211,\n",
       "           258.55703735,  258.59851074],\n",
       "         [ 260.11993408,  260.05078125,  259.91586304, ...,  260.10275269,\n",
       "           260.13079834,  260.12475586],\n",
       "         [ 260.21725464,  260.04022217,  259.67346191, ...,  259.9486084 ,\n",
       "           260.12240601,  260.21176147],\n",
       "         ..., \n",
       "         [ 267.81463623,  267.82263184,  267.84985352, ...,  267.79379272,\n",
       "           267.81878662,  267.82574463],\n",
       "         [ 267.72949219,  267.73959351,  267.77346802, ...,  267.71792603,\n",
       "           267.71633911,  267.71646118],\n",
       "         [ 267.65365601,  267.65750122,  267.6763916 , ...,  267.64300537,\n",
       "           267.63702393,  267.6378479 ]]], dtype=float32),\n",
       " 'mean': array([[[ 225.46681213,  225.42602539,  225.36627197, ...,  225.57104492,\n",
       "           225.57400513,  225.52008057],\n",
       "         [ 226.50375366,  226.39845276,  226.29148865, ...,  226.72172546,\n",
       "           226.6933136 ,  226.60887146],\n",
       "         [ 226.94291687,  226.83609009,  226.71694946, ...,  227.20068359,\n",
       "           227.13087463,  227.0447998 ],\n",
       "         ..., \n",
       "         [ 247.79217529,  247.8140564 ,  247.83401489, ...,  247.73457336,\n",
       "           247.74919128,  247.76838684],\n",
       "         [ 247.77876282,  247.78096008,  247.75949097, ...,  247.74057007,\n",
       "           247.74029541,  247.75305176],\n",
       "         [ 247.87211609,  247.86749268,  247.84742737, ...,  247.86132812,\n",
       "           247.85772705,  247.86134338]]], dtype=float32),\n",
       " 'min': array([[[ 207.54925537,  207.43269348,  207.68765259, ...,  208.08029175,\n",
       "           208.38021851,  208.2731781 ],\n",
       "         [ 208.68994141,  208.44718933,  208.3770752 , ...,  209.4065094 ,\n",
       "           209.00836182,  208.80982971],\n",
       "         [ 209.29344177,  208.98228455,  208.13763428, ...,  209.95249939,\n",
       "           209.41275024,  209.07847595],\n",
       "         ..., \n",
       "         [ 224.01766968,  223.57487488,  223.58137512, ...,  224.29045105,\n",
       "           225.00071716,  224.9098053 ],\n",
       "         [ 224.62380981,  224.46678162,  224.74029541, ...,  224.96087646,\n",
       "           225.3237915 ,  225.21141052],\n",
       "         [ 224.59593201,  224.70637512,  225.2789917 , ...,  225.10072327,\n",
       "           225.11592102,  224.94764709]]], dtype=float32),\n",
       " 'stdev': array([[[ 15.75422859,  15.77198029,  15.79471302, ...,  15.78893185,\n",
       "           15.75182056,  15.74080849],\n",
       "         [ 15.78995609,  15.83291626,  15.8718605 , ...,  15.71584988,\n",
       "           15.71764374,  15.74254704],\n",
       "         [ 15.71566391,  15.77651024,  15.8348465 , ...,  15.52124119,\n",
       "           15.58805752,  15.65256405],\n",
       "         ..., \n",
       "         [ 13.72822666,  13.72583961,  13.72656822, ...,  13.73146248,\n",
       "           13.73261547,  13.73240185],\n",
       "         [ 13.70172024,  13.70196629,  13.71080112, ...,  13.71701527,\n",
       "           13.71593285,  13.71092033],\n",
       "         [ 13.56902313,  13.56892109,  13.577384  , ...,  13.60463238,\n",
       "           13.59109974,  13.57891655]]], dtype=float32),\n",
       " 'sum': array([[[ 165041.703125,  165011.84375 ,  164968.109375, ...,\n",
       "           165118.      ,  165120.171875,  165080.703125],\n",
       "         [ 165800.75    ,  165723.671875,  165645.375   , ...,\n",
       "           165960.296875,  165939.5     ,  165877.6875  ],\n",
       "         [ 166122.21875 ,  166044.015625,  165956.8125  , ...,\n",
       "           166310.90625 ,  166259.796875,  166196.796875],\n",
       "         ..., \n",
       "         [ 181383.875   ,  181399.890625,  181414.5     , ...,\n",
       "           181341.703125,  181352.40625 ,  181366.453125],\n",
       "         [ 181374.046875,  181375.65625 ,  181359.953125, ...,\n",
       "           181346.09375 ,  181345.890625,  181355.234375],\n",
       "         [ 181442.390625,  181439.      ,  181424.3125  , ...,\n",
       "           181434.5     ,  181431.859375,  181434.5     ]]], dtype=float32),\n",
       " 'variance': array([[[ 248.19570923,  248.75537109,  249.47296143, ...,  249.2903595 ,\n",
       "           248.11984253,  247.77304077],\n",
       "         [ 249.32272339,  250.6812439 ,  251.91595459, ...,  246.98794556,\n",
       "           247.04432678,  247.82778931],\n",
       "         [ 246.98208618,  248.89826965,  250.74235535, ...,  240.90892029,\n",
       "           242.98753357,  245.00276184],\n",
       "         ..., \n",
       "         [ 188.46420288,  188.39866638,  188.41867065, ...,  188.55305481,\n",
       "           188.58473206,  188.57885742],\n",
       "         [ 187.73713684,  187.74388123,  187.98606873, ...,  188.1565094 ,\n",
       "           188.1268158 ,  187.98934937],\n",
       "         [ 184.11839294,  184.1156311 ,  184.34535217, ...,  185.08601379,\n",
       "           184.71800232,  184.38696289]]], dtype=float32)}"
      ]
     },
     "execution_count": 13,
     "metadata": {},
     "output_type": "execute_result"
    }
   ],
   "source": [
    "stats"
   ]
  },
  {
   "cell_type": "markdown",
   "metadata": {
    "collapsed": true
   },
   "source": [
    "**What just happened?**\n",
    "\n",
    "To see how the stats method works, let's use the following simple example:"
   ]
  },
  {
   "cell_type": "code",
   "execution_count": 14,
   "metadata": {},
   "outputs": [],
   "source": [
    "# Create three 3-d numpy arrays with shape (3, 3, 3)\n",
    "a = np.ones((3, 3, 3))\n",
    "b = np.full((3, 3, 3), 5)\n",
    "c = np.full((3, 3, 3), 9)"
   ]
  },
  {
   "cell_type": "code",
   "execution_count": 15,
   "metadata": {},
   "outputs": [
    {
     "data": {
      "text/plain": [
       "(array([[[ 1.,  1.,  1.],\n",
       "         [ 1.,  1.,  1.],\n",
       "         [ 1.,  1.,  1.]],\n",
       " \n",
       "        [[ 1.,  1.,  1.],\n",
       "         [ 1.,  1.,  1.],\n",
       "         [ 1.,  1.,  1.]],\n",
       " \n",
       "        [[ 1.,  1.,  1.],\n",
       "         [ 1.,  1.,  1.],\n",
       "         [ 1.,  1.,  1.]]]), array([[[5, 5, 5],\n",
       "         [5, 5, 5],\n",
       "         [5, 5, 5]],\n",
       " \n",
       "        [[5, 5, 5],\n",
       "         [5, 5, 5],\n",
       "         [5, 5, 5]],\n",
       " \n",
       "        [[5, 5, 5],\n",
       "         [5, 5, 5],\n",
       "         [5, 5, 5]]]), array([[[9, 9, 9],\n",
       "         [9, 9, 9],\n",
       "         [9, 9, 9]],\n",
       " \n",
       "        [[9, 9, 9],\n",
       "         [9, 9, 9],\n",
       "         [9, 9, 9]],\n",
       " \n",
       "        [[9, 9, 9],\n",
       "         [9, 9, 9],\n",
       "         [9, 9, 9]]]))"
      ]
     },
     "execution_count": 15,
     "metadata": {},
     "output_type": "execute_result"
    }
   ],
   "source": [
    "a,b,c"
   ]
  },
  {
   "cell_type": "markdown",
   "metadata": {},
   "source": [
    "Let's create a rdd from these three arrays."
   ]
  },
  {
   "cell_type": "code",
   "execution_count": 18,
   "metadata": {
    "collapsed": true
   },
   "outputs": [],
   "source": [
    "arr = sc.parallelize([a, b, c], 4)"
   ]
  },
  {
   "cell_type": "code",
   "execution_count": 19,
   "metadata": {},
   "outputs": [
    {
     "data": {
      "text/plain": [
       "3"
      ]
     },
     "execution_count": 19,
     "metadata": {},
     "output_type": "execute_result"
    }
   ],
   "source": [
    "# How many elements in our rdd?\n",
    "arr.count()"
   ]
  },
  {
   "cell_type": "code",
   "execution_count": 20,
   "metadata": {},
   "outputs": [
    {
     "data": {
      "text/plain": [
       "array([[[ 1.,  1.,  1.],\n",
       "        [ 1.,  1.,  1.],\n",
       "        [ 1.,  1.,  1.]],\n",
       "\n",
       "       [[ 1.,  1.,  1.],\n",
       "        [ 1.,  1.,  1.],\n",
       "        [ 1.,  1.,  1.]],\n",
       "\n",
       "       [[ 1.,  1.,  1.],\n",
       "        [ 1.,  1.,  1.],\n",
       "        [ 1.,  1.,  1.]]])"
      ]
     },
     "execution_count": 20,
     "metadata": {},
     "output_type": "execute_result"
    }
   ],
   "source": [
    "# First element in our rdd\n",
    "arr.first()"
   ]
  },
  {
   "cell_type": "markdown",
   "metadata": {},
   "source": [
    "By applying the stats method to this rdd, Spark is going to return a stats counter object containing a variety of stats.\n",
    "Spark does this in our operation."
   ]
  },
  {
   "cell_type": "code",
   "execution_count": 21,
   "metadata": {
    "collapsed": true
   },
   "outputs": [],
   "source": [
    "arr_stats = arr.stats().asDict()"
   ]
  },
  {
   "cell_type": "code",
   "execution_count": 22,
   "metadata": {},
   "outputs": [
    {
     "data": {
      "text/plain": [
       "{'count': 3, 'max': array([[[ 9.,  9.,  9.],\n",
       "         [ 9.,  9.,  9.],\n",
       "         [ 9.,  9.,  9.]],\n",
       " \n",
       "        [[ 9.,  9.,  9.],\n",
       "         [ 9.,  9.,  9.],\n",
       "         [ 9.,  9.,  9.]],\n",
       " \n",
       "        [[ 9.,  9.,  9.],\n",
       "         [ 9.,  9.,  9.],\n",
       "         [ 9.,  9.,  9.]]]), 'mean': array([[[ 5.,  5.,  5.],\n",
       "         [ 5.,  5.,  5.],\n",
       "         [ 5.,  5.,  5.]],\n",
       " \n",
       "        [[ 5.,  5.,  5.],\n",
       "         [ 5.,  5.,  5.],\n",
       "         [ 5.,  5.,  5.]],\n",
       " \n",
       "        [[ 5.,  5.,  5.],\n",
       "         [ 5.,  5.,  5.],\n",
       "         [ 5.,  5.,  5.]]]), 'min': array([[[ 1.,  1.,  1.],\n",
       "         [ 1.,  1.,  1.],\n",
       "         [ 1.,  1.,  1.]],\n",
       " \n",
       "        [[ 1.,  1.,  1.],\n",
       "         [ 1.,  1.,  1.],\n",
       "         [ 1.,  1.,  1.]],\n",
       " \n",
       "        [[ 1.,  1.,  1.],\n",
       "         [ 1.,  1.,  1.],\n",
       "         [ 1.,  1.,  1.]]]), 'stdev': array([[[ 4.,  4.,  4.],\n",
       "         [ 4.,  4.,  4.],\n",
       "         [ 4.,  4.,  4.]],\n",
       " \n",
       "        [[ 4.,  4.,  4.],\n",
       "         [ 4.,  4.,  4.],\n",
       "         [ 4.,  4.,  4.]],\n",
       " \n",
       "        [[ 4.,  4.,  4.],\n",
       "         [ 4.,  4.,  4.],\n",
       "         [ 4.,  4.,  4.]]]), 'sum': array([[[ 15.,  15.,  15.],\n",
       "         [ 15.,  15.,  15.],\n",
       "         [ 15.,  15.,  15.]],\n",
       " \n",
       "        [[ 15.,  15.,  15.],\n",
       "         [ 15.,  15.,  15.],\n",
       "         [ 15.,  15.,  15.]],\n",
       " \n",
       "        [[ 15.,  15.,  15.],\n",
       "         [ 15.,  15.,  15.],\n",
       "         [ 15.,  15.,  15.]]]), 'variance': array([[[ 16.,  16.,  16.],\n",
       "         [ 16.,  16.,  16.],\n",
       "         [ 16.,  16.,  16.]],\n",
       " \n",
       "        [[ 16.,  16.,  16.],\n",
       "         [ 16.,  16.,  16.],\n",
       "         [ 16.,  16.,  16.]],\n",
       " \n",
       "        [[ 16.,  16.,  16.],\n",
       "         [ 16.,  16.,  16.],\n",
       "         [ 16.,  16.,  16.]]])}"
      ]
     },
     "execution_count": 22,
     "metadata": {},
     "output_type": "execute_result"
    }
   ],
   "source": [
    "arr_stats"
   ]
  },
  {
   "cell_type": "code",
   "execution_count": 23,
   "metadata": {},
   "outputs": [
    {
     "data": {
      "text/plain": [
       "(3, 3, 3, 3)"
      ]
     },
     "execution_count": 23,
     "metadata": {},
     "output_type": "execute_result"
    }
   ],
   "source": [
    "d = np.array([a, b, c])\n",
    "d.shape"
   ]
  },
  {
   "cell_type": "code",
   "execution_count": 24,
   "metadata": {},
   "outputs": [
    {
     "data": {
      "text/plain": [
       "(array([[[ 15.,  15.,  15.],\n",
       "         [ 15.,  15.,  15.],\n",
       "         [ 15.,  15.,  15.]],\n",
       " \n",
       "        [[ 15.,  15.,  15.],\n",
       "         [ 15.,  15.,  15.],\n",
       "         [ 15.,  15.,  15.]],\n",
       " \n",
       "        [[ 15.,  15.,  15.],\n",
       "         [ 15.,  15.,  15.],\n",
       "         [ 15.,  15.,  15.]]]), array([[[ 9.,  9.,  9.],\n",
       "         [ 9.,  9.,  9.],\n",
       "         [ 9.,  9.,  9.]],\n",
       " \n",
       "        [[ 9.,  9.,  9.],\n",
       "         [ 9.,  9.,  9.],\n",
       "         [ 9.,  9.,  9.]],\n",
       " \n",
       "        [[ 9.,  9.,  9.],\n",
       "         [ 9.,  9.,  9.],\n",
       "         [ 9.,  9.,  9.]]]), array([[[ 1.,  1.,  1.],\n",
       "         [ 1.,  1.,  1.],\n",
       "         [ 1.,  1.,  1.]],\n",
       " \n",
       "        [[ 1.,  1.,  1.],\n",
       "         [ 1.,  1.,  1.],\n",
       "         [ 1.,  1.,  1.]],\n",
       " \n",
       "        [[ 1.,  1.,  1.],\n",
       "         [ 1.,  1.,  1.],\n",
       "         [ 1.,  1.,  1.]]]), array([[[ 5.,  5.,  5.],\n",
       "         [ 5.,  5.,  5.],\n",
       "         [ 5.,  5.,  5.]],\n",
       " \n",
       "        [[ 5.,  5.,  5.],\n",
       "         [ 5.,  5.,  5.],\n",
       "         [ 5.,  5.,  5.]],\n",
       " \n",
       "        [[ 5.,  5.,  5.],\n",
       "         [ 5.,  5.,  5.],\n",
       "         [ 5.,  5.,  5.]]]))"
      ]
     },
     "execution_count": 24,
     "metadata": {},
     "output_type": "execute_result"
    }
   ],
   "source": [
    "d.sum(0), d.max(0), d.min(0), d.mean(0)"
   ]
  },
  {
   "cell_type": "markdown",
   "metadata": {},
   "source": [
    "**Conclusion:**\n",
    "- Spark's ```stas()``` method uses an axis running vertically downwards across rows (axis 0) to apply the sum, mean, max, min, std, variance operations."
   ]
  },
  {
   "cell_type": "markdown",
   "metadata": {},
   "source": [
    "## 3.2 Further stats exploration\n",
    "Let's extract mean values from the stats dict object and do some analysis."
   ]
  },
  {
   "cell_type": "code",
   "execution_count": 25,
   "metadata": {},
   "outputs": [
    {
     "data": {
      "text/plain": [
       "array([[[ 225.46681213,  225.42602539,  225.36627197, ...,  225.57104492,\n",
       "          225.57400513,  225.52008057],\n",
       "        [ 226.50375366,  226.39845276,  226.29148865, ...,  226.72172546,\n",
       "          226.6933136 ,  226.60887146],\n",
       "        [ 226.94291687,  226.83609009,  226.71694946, ...,  227.20068359,\n",
       "          227.13087463,  227.0447998 ],\n",
       "        ..., \n",
       "        [ 247.79217529,  247.8140564 ,  247.83401489, ...,  247.73457336,\n",
       "          247.74919128,  247.76838684],\n",
       "        [ 247.77876282,  247.78096008,  247.75949097, ...,  247.74057007,\n",
       "          247.74029541,  247.75305176],\n",
       "        [ 247.87211609,  247.86749268,  247.84742737, ...,  247.86132812,\n",
       "          247.85772705,  247.86134338]]], dtype=float32)"
      ]
     },
     "execution_count": 25,
     "metadata": {},
     "output_type": "execute_result"
    }
   ],
   "source": [
    "means = stats[\"mean\"]\n",
    "means"
   ]
  },
  {
   "cell_type": "code",
   "execution_count": 26,
   "metadata": {},
   "outputs": [
    {
     "name": "stdout",
     "output_type": "stream",
     "text": [
      "Shape: (1, 180, 360)\n",
      "\n",
      "Size: 64800\n",
      "\n"
     ]
    }
   ],
   "source": [
    "print(\"Shape: {}\\n\".format(means.shape))\n",
    "print(\"Size: {}\\n\".format(means.size))"
   ]
  },
  {
   "cell_type": "code",
   "execution_count": 27,
   "metadata": {},
   "outputs": [
    {
     "data": {
      "text/plain": [
       "dtype('float32')"
      ]
     },
     "execution_count": 27,
     "metadata": {},
     "output_type": "execute_result"
    }
   ],
   "source": [
    "means.dtype"
   ]
  },
  {
   "cell_type": "code",
   "execution_count": 30,
   "metadata": {},
   "outputs": [
    {
     "data": {
      "image/png": "[encoded data removed]",
      "text/plain": [
       "<matplotlib.figure.Figure at 0x10c340390>"
      ]
     },
     "metadata": {},
     "output_type": "display_data"
    }
   ],
   "source": [
    "sns.distplot(means[0][:, 0]);"
   ]
  },
  {
   "cell_type": "code",
   "execution_count": 31,
   "metadata": {},
   "outputs": [
    {
     "data": {
      "image/png": "[encoded data removed]",
      "text/plain": [
       "<matplotlib.figure.Figure at 0x10c4a8b90>"
      ]
     },
     "metadata": {},
     "output_type": "display_data"
    }
   ],
   "source": [
    "sns.distplot(means[0][1, :]); "
   ]
  },
  {
   "cell_type": "code",
   "execution_count": 32,
   "metadata": {
    "collapsed": true
   },
   "outputs": [],
   "source": [
    "from datetime import datetime, timedelta\n",
    "from collections import OrderedDict"
   ]
  },
  {
   "cell_type": "code",
   "execution_count": 33,
   "metadata": {
    "collapsed": true
   },
   "outputs": [],
   "source": [
    "def generate_list_of_months(dates_range):\n",
    "    \"\"\"\n",
    "    - Args:  dates interval\n",
    "    - Returns: List of all the months in the given dates interval\n",
    "    \n",
    "    \"\"\"\n",
    "    start, end = [datetime.strptime(_, \"%Y-%m-%d\") for _ in dates_range]\n",
    "    list_of_months = OrderedDict(((start + timedelta(_)).strftime(r\"%b-%y\"), None) \n",
    "                                   for _ in xrange((end - start).days)\n",
    "                                ).keys()\n",
    "    return list_of_months"
   ]
  },
  {
   "cell_type": "code",
   "execution_count": 34,
   "metadata": {
    "collapsed": true
   },
   "outputs": [],
   "source": [
    "dates_range = [\"1948-01-01\", \"2008-12-31\"]\n",
    "list_of_months = generate_list_of_months(dates_range)"
   ]
  },
  {
   "cell_type": "code",
   "execution_count": 35,
   "metadata": {},
   "outputs": [
    {
     "data": {
      "text/plain": [
       "732"
      ]
     },
     "execution_count": 35,
     "metadata": {},
     "output_type": "execute_result"
    }
   ],
   "source": [
    "len(list_of_months)"
   ]
  },
  {
   "cell_type": "code",
   "execution_count": 36,
   "metadata": {},
   "outputs": [
    {
     "data": {
      "text/plain": [
       "['Jan-48',\n",
       " 'Feb-48',\n",
       " 'Mar-48',\n",
       " 'Apr-48',\n",
       " 'May-48',\n",
       " 'Jun-48',\n",
       " 'Jul-48',\n",
       " 'Aug-48',\n",
       " 'Sep-48',\n",
       " 'Oct-48',\n",
       " 'Nov-48',\n",
       " 'Dec-48']"
      ]
     },
     "execution_count": 36,
     "metadata": {},
     "output_type": "execute_result"
    }
   ],
   "source": [
    "list_of_months[0:12]"
   ]
  },
  {
   "cell_type": "code",
   "execution_count": 37,
   "metadata": {
    "collapsed": true
   },
   "outputs": [],
   "source": [
    "# Create an RDD for the months\n",
    "months_rdd = sc.parallelize(list_of_months, 12).sortBy(lambda x: x, numPartitions=12)"
   ]
  },
  {
   "cell_type": "code",
   "execution_count": 38,
   "metadata": {},
   "outputs": [
    {
     "data": {
      "text/plain": [
       "732"
      ]
     },
     "execution_count": 38,
     "metadata": {},
     "output_type": "execute_result"
    }
   ],
   "source": [
    "months_rdd.count()"
   ]
  },
  {
   "cell_type": "code",
   "execution_count": 39,
   "metadata": {},
   "outputs": [
    {
     "data": {
      "text/plain": [
       "['Apr-00']"
      ]
     },
     "execution_count": 39,
     "metadata": {},
     "output_type": "execute_result"
    }
   ],
   "source": [
    "months_rdd.take(1)"
   ]
  },
  {
   "cell_type": "markdown",
   "metadata": {},
   "source": [
    "## Zip Transformation"
   ]
  },
  {
   "cell_type": "markdown",
   "metadata": {
    "collapsed": true
   },
   "source": [
    "Create an new RDD containing pairs whose key is the item in months_rdd, and whose value is that item's corresponding element(same partition, same index) in tas_rdd"
   ]
  },
  {
   "cell_type": "code",
   "execution_count": 40,
   "metadata": {
    "collapsed": true
   },
   "outputs": [],
   "source": [
    "month_ta_rdd = months_rdd.zip(tas_rdd)"
   ]
  },
  {
   "cell_type": "code",
   "execution_count": 41,
   "metadata": {},
   "outputs": [
    {
     "ename": "Py4JJavaError",
     "evalue": "An error occurred while calling z:org.apache.spark.api.python.PythonRDD.runJob.\n: org.apache.spark.SparkException: Job aborted due to stage failure: Task 0 in stage 23.0 failed 1 times, most recent failure: Lost task 0.0 in stage 23.0 (TID 123, localhost, executor driver): org.apache.spark.SparkException: Can only zip RDDs with same number of elements in each partition\n\tat org.apache.spark.rdd.RDD$$anonfun$zip$1$$anonfun$apply$27$$anon$2.hasNext(RDD.scala:860)\n\tat scala.collection.Iterator$class.foreach(Iterator.scala:893)\n\tat org.apache.spark.rdd.RDD$$anonfun$zip$1$$anonfun$apply$27$$anon$2.foreach(RDD.scala:856)\n\tat org.apache.spark.api.python.PythonRDD$.writeIteratorToStream(PythonRDD.scala:504)\n\tat org.apache.spark.api.python.PythonRunner$WriterThread$$anonfun$run$3.apply(PythonRDD.scala:328)\n\tat org.apache.spark.util.Utils$.logUncaughtExceptions(Utils.scala:1951)\n\tat org.apache.spark.api.python.PythonRunner$WriterThread.run(PythonRDD.scala:269)\n\nDriver stacktrace:\n\tat org.apache.spark.scheduler.DAGScheduler.org$apache$spark$scheduler$DAGScheduler$$failJobAndIndependentStages(DAGScheduler.scala:1435)\n\tat org.apache.spark.scheduler.DAGScheduler$$anonfun$abortStage$1.apply(DAGScheduler.scala:1423)\n\tat org.apache.spark.scheduler.DAGScheduler$$anonfun$abortStage$1.apply(DAGScheduler.scala:1422)\n\tat scala.collection.mutable.ResizableArray$class.foreach(ResizableArray.scala:59)\n\tat scala.collection.mutable.ArrayBuffer.foreach(ArrayBuffer.scala:48)\n\tat org.apache.spark.scheduler.DAGScheduler.abortStage(DAGScheduler.scala:1422)\n\tat org.apache.spark.scheduler.DAGScheduler$$anonfun$handleTaskSetFailed$1.apply(DAGScheduler.scala:802)\n\tat org.apache.spark.scheduler.DAGScheduler$$anonfun$handleTaskSetFailed$1.apply(DAGScheduler.scala:802)\n\tat scala.Option.foreach(Option.scala:257)\n\tat org.apache.spark.scheduler.DAGScheduler.handleTaskSetFailed(DAGScheduler.scala:802)\n\tat org.apache.spark.scheduler.DAGSchedulerEventProcessLoop.doOnReceive(DAGScheduler.scala:1650)\n\tat org.apache.spark.scheduler.DAGSchedulerEventProcessLoop.onReceive(DAGScheduler.scala:1605)\n\tat org.apache.spark.scheduler.DAGSchedulerEventProcessLoop.onReceive(DAGScheduler.scala:1594)\n\tat org.apache.spark.util.EventLoop$$anon$1.run(EventLoop.scala:48)\n\tat org.apache.spark.scheduler.DAGScheduler.runJob(DAGScheduler.scala:628)\n\tat org.apache.spark.SparkContext.runJob(SparkContext.scala:1925)\n\tat org.apache.spark.SparkContext.runJob(SparkContext.scala:1938)\n\tat org.apache.spark.SparkContext.runJob(SparkContext.scala:1951)\n\tat org.apache.spark.api.python.PythonRDD$.runJob(PythonRDD.scala:441)\n\tat org.apache.spark.api.python.PythonRDD.runJob(PythonRDD.scala)\n\tat sun.reflect.NativeMethodAccessorImpl.invoke0(Native Method)\n\tat sun.reflect.NativeMethodAccessorImpl.invoke(NativeMethodAccessorImpl.java:62)\n\tat sun.reflect.DelegatingMethodAccessorImpl.invoke(DelegatingMethodAccessorImpl.java:43)\n\tat java.lang.reflect.Method.invoke(Method.java:498)\n\tat py4j.reflection.MethodInvoker.invoke(MethodInvoker.java:244)\n\tat py4j.reflection.ReflectionEngine.invoke(ReflectionEngine.java:357)\n\tat py4j.Gateway.invoke(Gateway.java:280)\n\tat py4j.commands.AbstractCommand.invokeMethod(AbstractCommand.java:132)\n\tat py4j.commands.CallCommand.execute(CallCommand.java:79)\n\tat py4j.GatewayConnection.run(GatewayConnection.java:214)\n\tat java.lang.Thread.run(Thread.java:748)\nCaused by: org.apache.spark.SparkException: Can only zip RDDs with same number of elements in each partition\n\tat org.apache.spark.rdd.RDD$$anonfun$zip$1$$anonfun$apply$27$$anon$2.hasNext(RDD.scala:860)\n\tat scala.collection.Iterator$class.foreach(Iterator.scala:893)\n\tat org.apache.spark.rdd.RDD$$anonfun$zip$1$$anonfun$apply$27$$anon$2.foreach(RDD.scala:856)\n\tat org.apache.spark.api.python.PythonRDD$.writeIteratorToStream(PythonRDD.scala:504)\n\tat org.apache.spark.api.python.PythonRunner$WriterThread$$anonfun$run$3.apply(PythonRDD.scala:328)\n\tat org.apache.spark.util.Utils$.logUncaughtExceptions(Utils.scala:1951)\n\tat org.apache.spark.api.python.PythonRunner$WriterThread.run(PythonRDD.scala:269)\n",
     "output_type": "error",
     "traceback": [
      "\u001b[0;31m---------------------------------------------------------------------------\u001b[0m",
      "\u001b[0;31mPy4JJavaError\u001b[0m                             Traceback (most recent call last)",
      "\u001b[0;32m<ipython-input-41-67eab400e457>\u001b[0m in \u001b[0;36m<module>\u001b[0;34m()\u001b[0m\n\u001b[0;32m----> 1\u001b[0;31m \u001b[0mmonth_ta_rdd\u001b[0m\u001b[0;34m.\u001b[0m\u001b[0mtake\u001b[0m\u001b[0;34m(\u001b[0m\u001b[0;36m1\u001b[0m\u001b[0;34m)\u001b[0m\u001b[0;34m\u001b[0m\u001b[0m\n\u001b[0m",
      "\u001b[0;32m/usr/local/Cellar/apache-spark/2.1.1/libexec/python/pyspark/rdd.pyc\u001b[0m in \u001b[0;36mtake\u001b[0;34m(self, num)\u001b[0m\n\u001b[1;32m   1340\u001b[0m \u001b[0;34m\u001b[0m\u001b[0m\n\u001b[1;32m   1341\u001b[0m             \u001b[0mp\u001b[0m \u001b[0;34m=\u001b[0m \u001b[0mrange\u001b[0m\u001b[0;34m(\u001b[0m\u001b[0mpartsScanned\u001b[0m\u001b[0;34m,\u001b[0m \u001b[0mmin\u001b[0m\u001b[0;34m(\u001b[0m\u001b[0mpartsScanned\u001b[0m \u001b[0;34m+\u001b[0m \u001b[0mnumPartsToTry\u001b[0m\u001b[0;34m,\u001b[0m \u001b[0mtotalParts\u001b[0m\u001b[0;34m)\u001b[0m\u001b[0;34m)\u001b[0m\u001b[0;34m\u001b[0m\u001b[0m\n\u001b[0;32m-> 1342\u001b[0;31m             \u001b[0mres\u001b[0m \u001b[0;34m=\u001b[0m \u001b[0mself\u001b[0m\u001b[0;34m.\u001b[0m\u001b[0mcontext\u001b[0m\u001b[0;34m.\u001b[0m\u001b[0mrunJob\u001b[0m\u001b[0;34m(\u001b[0m\u001b[0mself\u001b[0m\u001b[0;34m,\u001b[0m \u001b[0mtakeUpToNumLeft\u001b[0m\u001b[0;34m,\u001b[0m \u001b[0mp\u001b[0m\u001b[0;34m)\u001b[0m\u001b[0;34m\u001b[0m\u001b[0m\n\u001b[0m\u001b[1;32m   1343\u001b[0m \u001b[0;34m\u001b[0m\u001b[0m\n\u001b[1;32m   1344\u001b[0m             \u001b[0mitems\u001b[0m \u001b[0;34m+=\u001b[0m \u001b[0mres\u001b[0m\u001b[0;34m\u001b[0m\u001b[0m\n",
      "\u001b[0;32m/usr/local/Cellar/apache-spark/2.1.1/libexec/python/pyspark/context.pyc\u001b[0m in \u001b[0;36mrunJob\u001b[0;34m(self, rdd, partitionFunc, partitions, allowLocal)\u001b[0m\n\u001b[1;32m    966\u001b[0m         \u001b[0;31m# SparkContext#runJob.\u001b[0m\u001b[0;34m\u001b[0m\u001b[0;34m\u001b[0m\u001b[0m\n\u001b[1;32m    967\u001b[0m         \u001b[0mmappedRDD\u001b[0m \u001b[0;34m=\u001b[0m \u001b[0mrdd\u001b[0m\u001b[0;34m.\u001b[0m\u001b[0mmapPartitions\u001b[0m\u001b[0;34m(\u001b[0m\u001b[0mpartitionFunc\u001b[0m\u001b[0;34m)\u001b[0m\u001b[0;34m\u001b[0m\u001b[0m\n\u001b[0;32m--> 968\u001b[0;31m         \u001b[0mport\u001b[0m \u001b[0;34m=\u001b[0m \u001b[0mself\u001b[0m\u001b[0;34m.\u001b[0m\u001b[0m_jvm\u001b[0m\u001b[0;34m.\u001b[0m\u001b[0mPythonRDD\u001b[0m\u001b[0;34m.\u001b[0m\u001b[0mrunJob\u001b[0m\u001b[0;34m(\u001b[0m\u001b[0mself\u001b[0m\u001b[0;34m.\u001b[0m\u001b[0m_jsc\u001b[0m\u001b[0;34m.\u001b[0m\u001b[0msc\u001b[0m\u001b[0;34m(\u001b[0m\u001b[0;34m)\u001b[0m\u001b[0;34m,\u001b[0m \u001b[0mmappedRDD\u001b[0m\u001b[0;34m.\u001b[0m\u001b[0m_jrdd\u001b[0m\u001b[0;34m,\u001b[0m \u001b[0mpartitions\u001b[0m\u001b[0;34m)\u001b[0m\u001b[0;34m\u001b[0m\u001b[0m\n\u001b[0m\u001b[1;32m    969\u001b[0m         \u001b[0;32mreturn\u001b[0m \u001b[0mlist\u001b[0m\u001b[0;34m(\u001b[0m\u001b[0m_load_from_socket\u001b[0m\u001b[0;34m(\u001b[0m\u001b[0mport\u001b[0m\u001b[0;34m,\u001b[0m \u001b[0mmappedRDD\u001b[0m\u001b[0;34m.\u001b[0m\u001b[0m_jrdd_deserializer\u001b[0m\u001b[0;34m)\u001b[0m\u001b[0;34m)\u001b[0m\u001b[0;34m\u001b[0m\u001b[0m\n\u001b[1;32m    970\u001b[0m \u001b[0;34m\u001b[0m\u001b[0m\n",
      "\u001b[0;32m/usr/local/Cellar/apache-spark/2.1.1/libexec/python/lib/py4j-0.10.4-src.zip/py4j/java_gateway.py\u001b[0m in \u001b[0;36m__call__\u001b[0;34m(self, *args)\u001b[0m\n\u001b[1;32m   1131\u001b[0m         \u001b[0manswer\u001b[0m \u001b[0;34m=\u001b[0m \u001b[0mself\u001b[0m\u001b[0;34m.\u001b[0m\u001b[0mgateway_client\u001b[0m\u001b[0;34m.\u001b[0m\u001b[0msend_command\u001b[0m\u001b[0;34m(\u001b[0m\u001b[0mcommand\u001b[0m\u001b[0;34m)\u001b[0m\u001b[0;34m\u001b[0m\u001b[0m\n\u001b[1;32m   1132\u001b[0m         return_value = get_return_value(\n\u001b[0;32m-> 1133\u001b[0;31m             answer, self.gateway_client, self.target_id, self.name)\n\u001b[0m\u001b[1;32m   1134\u001b[0m \u001b[0;34m\u001b[0m\u001b[0m\n\u001b[1;32m   1135\u001b[0m         \u001b[0;32mfor\u001b[0m \u001b[0mtemp_arg\u001b[0m \u001b[0;32min\u001b[0m \u001b[0mtemp_args\u001b[0m\u001b[0;34m:\u001b[0m\u001b[0;34m\u001b[0m\u001b[0m\n",
      "\u001b[0;32m/usr/local/Cellar/apache-spark/2.1.1/libexec/python/pyspark/sql/utils.pyc\u001b[0m in \u001b[0;36mdeco\u001b[0;34m(*a, **kw)\u001b[0m\n\u001b[1;32m     61\u001b[0m     \u001b[0;32mdef\u001b[0m \u001b[0mdeco\u001b[0m\u001b[0;34m(\u001b[0m\u001b[0;34m*\u001b[0m\u001b[0ma\u001b[0m\u001b[0;34m,\u001b[0m \u001b[0;34m**\u001b[0m\u001b[0mkw\u001b[0m\u001b[0;34m)\u001b[0m\u001b[0;34m:\u001b[0m\u001b[0;34m\u001b[0m\u001b[0m\n\u001b[1;32m     62\u001b[0m         \u001b[0;32mtry\u001b[0m\u001b[0;34m:\u001b[0m\u001b[0;34m\u001b[0m\u001b[0m\n\u001b[0;32m---> 63\u001b[0;31m             \u001b[0;32mreturn\u001b[0m \u001b[0mf\u001b[0m\u001b[0;34m(\u001b[0m\u001b[0;34m*\u001b[0m\u001b[0ma\u001b[0m\u001b[0;34m,\u001b[0m \u001b[0;34m**\u001b[0m\u001b[0mkw\u001b[0m\u001b[0;34m)\u001b[0m\u001b[0;34m\u001b[0m\u001b[0m\n\u001b[0m\u001b[1;32m     64\u001b[0m         \u001b[0;32mexcept\u001b[0m \u001b[0mpy4j\u001b[0m\u001b[0;34m.\u001b[0m\u001b[0mprotocol\u001b[0m\u001b[0;34m.\u001b[0m\u001b[0mPy4JJavaError\u001b[0m \u001b[0;32mas\u001b[0m \u001b[0me\u001b[0m\u001b[0;34m:\u001b[0m\u001b[0;34m\u001b[0m\u001b[0m\n\u001b[1;32m     65\u001b[0m             \u001b[0ms\u001b[0m \u001b[0;34m=\u001b[0m \u001b[0me\u001b[0m\u001b[0;34m.\u001b[0m\u001b[0mjava_exception\u001b[0m\u001b[0;34m.\u001b[0m\u001b[0mtoString\u001b[0m\u001b[0;34m(\u001b[0m\u001b[0;34m)\u001b[0m\u001b[0;34m\u001b[0m\u001b[0m\n",
      "\u001b[0;32m/usr/local/Cellar/apache-spark/2.1.1/libexec/python/lib/py4j-0.10.4-src.zip/py4j/protocol.py\u001b[0m in \u001b[0;36mget_return_value\u001b[0;34m(answer, gateway_client, target_id, name)\u001b[0m\n\u001b[1;32m    317\u001b[0m                 raise Py4JJavaError(\n\u001b[1;32m    318\u001b[0m                     \u001b[0;34m\"An error occurred while calling {0}{1}{2}.\\n\"\u001b[0m\u001b[0;34m.\u001b[0m\u001b[0;34m\u001b[0m\u001b[0m\n\u001b[0;32m--> 319\u001b[0;31m                     format(target_id, \".\", name), value)\n\u001b[0m\u001b[1;32m    320\u001b[0m             \u001b[0;32melse\u001b[0m\u001b[0;34m:\u001b[0m\u001b[0;34m\u001b[0m\u001b[0m\n\u001b[1;32m    321\u001b[0m                 raise Py4JError(\n",
      "\u001b[0;31mPy4JJavaError\u001b[0m: An error occurred while calling z:org.apache.spark.api.python.PythonRDD.runJob.\n: org.apache.spark.SparkException: Job aborted due to stage failure: Task 0 in stage 23.0 failed 1 times, most recent failure: Lost task 0.0 in stage 23.0 (TID 123, localhost, executor driver): org.apache.spark.SparkException: Can only zip RDDs with same number of elements in each partition\n\tat org.apache.spark.rdd.RDD$$anonfun$zip$1$$anonfun$apply$27$$anon$2.hasNext(RDD.scala:860)\n\tat scala.collection.Iterator$class.foreach(Iterator.scala:893)\n\tat org.apache.spark.rdd.RDD$$anonfun$zip$1$$anonfun$apply$27$$anon$2.foreach(RDD.scala:856)\n\tat org.apache.spark.api.python.PythonRDD$.writeIteratorToStream(PythonRDD.scala:504)\n\tat org.apache.spark.api.python.PythonRunner$WriterThread$$anonfun$run$3.apply(PythonRDD.scala:328)\n\tat org.apache.spark.util.Utils$.logUncaughtExceptions(Utils.scala:1951)\n\tat org.apache.spark.api.python.PythonRunner$WriterThread.run(PythonRDD.scala:269)\n\nDriver stacktrace:\n\tat org.apache.spark.scheduler.DAGScheduler.org$apache$spark$scheduler$DAGScheduler$$failJobAndIndependentStages(DAGScheduler.scala:1435)\n\tat org.apache.spark.scheduler.DAGScheduler$$anonfun$abortStage$1.apply(DAGScheduler.scala:1423)\n\tat org.apache.spark.scheduler.DAGScheduler$$anonfun$abortStage$1.apply(DAGScheduler.scala:1422)\n\tat scala.collection.mutable.ResizableArray$class.foreach(ResizableArray.scala:59)\n\tat scala.collection.mutable.ArrayBuffer.foreach(ArrayBuffer.scala:48)\n\tat org.apache.spark.scheduler.DAGScheduler.abortStage(DAGScheduler.scala:1422)\n\tat org.apache.spark.scheduler.DAGScheduler$$anonfun$handleTaskSetFailed$1.apply(DAGScheduler.scala:802)\n\tat org.apache.spark.scheduler.DAGScheduler$$anonfun$handleTaskSetFailed$1.apply(DAGScheduler.scala:802)\n\tat scala.Option.foreach(Option.scala:257)\n\tat org.apache.spark.scheduler.DAGScheduler.handleTaskSetFailed(DAGScheduler.scala:802)\n\tat org.apache.spark.scheduler.DAGSchedulerEventProcessLoop.doOnReceive(DAGScheduler.scala:1650)\n\tat org.apache.spark.scheduler.DAGSchedulerEventProcessLoop.onReceive(DAGScheduler.scala:1605)\n\tat org.apache.spark.scheduler.DAGSchedulerEventProcessLoop.onReceive(DAGScheduler.scala:1594)\n\tat org.apache.spark.util.EventLoop$$anon$1.run(EventLoop.scala:48)\n\tat org.apache.spark.scheduler.DAGScheduler.runJob(DAGScheduler.scala:628)\n\tat org.apache.spark.SparkContext.runJob(SparkContext.scala:1925)\n\tat org.apache.spark.SparkContext.runJob(SparkContext.scala:1938)\n\tat org.apache.spark.SparkContext.runJob(SparkContext.scala:1951)\n\tat org.apache.spark.api.python.PythonRDD$.runJob(PythonRDD.scala:441)\n\tat org.apache.spark.api.python.PythonRDD.runJob(PythonRDD.scala)\n\tat sun.reflect.NativeMethodAccessorImpl.invoke0(Native Method)\n\tat sun.reflect.NativeMethodAccessorImpl.invoke(NativeMethodAccessorImpl.java:62)\n\tat sun.reflect.DelegatingMethodAccessorImpl.invoke(DelegatingMethodAccessorImpl.java:43)\n\tat java.lang.reflect.Method.invoke(Method.java:498)\n\tat py4j.reflection.MethodInvoker.invoke(MethodInvoker.java:244)\n\tat py4j.reflection.ReflectionEngine.invoke(ReflectionEngine.java:357)\n\tat py4j.Gateway.invoke(Gateway.java:280)\n\tat py4j.commands.AbstractCommand.invokeMethod(AbstractCommand.java:132)\n\tat py4j.commands.CallCommand.execute(CallCommand.java:79)\n\tat py4j.GatewayConnection.run(GatewayConnection.java:214)\n\tat java.lang.Thread.run(Thread.java:748)\nCaused by: org.apache.spark.SparkException: Can only zip RDDs with same number of elements in each partition\n\tat org.apache.spark.rdd.RDD$$anonfun$zip$1$$anonfun$apply$27$$anon$2.hasNext(RDD.scala:860)\n\tat scala.collection.Iterator$class.foreach(Iterator.scala:893)\n\tat org.apache.spark.rdd.RDD$$anonfun$zip$1$$anonfun$apply$27$$anon$2.foreach(RDD.scala:856)\n\tat org.apache.spark.api.python.PythonRDD$.writeIteratorToStream(PythonRDD.scala:504)\n\tat org.apache.spark.api.python.PythonRunner$WriterThread$$anonfun$run$3.apply(PythonRDD.scala:328)\n\tat org.apache.spark.util.Utils$.logUncaughtExceptions(Utils.scala:1951)\n\tat org.apache.spark.api.python.PythonRunner$WriterThread.run(PythonRDD.scala:269)\n"
     ]
    }
   ],
   "source": [
    "month_ta_rdd.take(1)"
   ]
  },
  {
   "cell_type": "code",
   "execution_count": 42,
   "metadata": {
    "collapsed": true
   },
   "outputs": [],
   "source": [
    "f = h5py.File(filepath, 'r')"
   ]
  },
  {
   "cell_type": "code",
   "execution_count": 43,
   "metadata": {
    "collapsed": true
   },
   "outputs": [],
   "source": [
    "time_dset = f[\"time\"]\n",
    "lat_dset = f[\"latitude\"]\n",
    "lon_dset = f[\"longitude\"]\n",
    "z_dset = f[\"z\"]"
   ]
  },
  {
   "cell_type": "code",
   "execution_count": 44,
   "metadata": {},
   "outputs": [
    {
     "data": {
      "text/plain": [
       "(732,)"
      ]
     },
     "execution_count": 44,
     "metadata": {},
     "output_type": "execute_result"
    }
   ],
   "source": [
    "time_dset.shape"
   ]
  },
  {
   "cell_type": "code",
   "execution_count": 45,
   "metadata": {},
   "outputs": [
    {
     "data": {
      "text/plain": [
       "array([   0.,    1.,    2.,    3.,    4.,    5.,    6.,    7.,    8.,\n",
       "          9.,   10.,   11.,   12.,   13.,   14.,   15.,   16.,   17.,\n",
       "         18.,   19.,   20.,   21.,   22.,   23.,   24.,   25.,   26.,\n",
       "         27.,   28.,   29.,   30.,   31.,   32.,   33.,   34.,   35.,\n",
       "         36.,   37.,   38.,   39.,   40.,   41.,   42.,   43.,   44.,\n",
       "         45.,   46.,   47.,   48.,   49.,   50.,   51.,   52.,   53.,\n",
       "         54.,   55.,   56.,   57.,   58.,   59.,   60.,   61.,   62.,\n",
       "         63.,   64.,   65.,   66.,   67.,   68.,   69.,   70.,   71.,\n",
       "         72.,   73.,   74.,   75.,   76.,   77.,   78.,   79.,   80.,\n",
       "         81.,   82.,   83.,   84.,   85.,   86.,   87.,   88.,   89.,\n",
       "         90.,   91.,   92.,   93.,   94.,   95.,   96.,   97.,   98.,\n",
       "         99.,  100.,  101.,  102.,  103.,  104.,  105.,  106.,  107.,\n",
       "        108.,  109.,  110.,  111.,  112.,  113.,  114.,  115.,  116.,\n",
       "        117.,  118.,  119.,  120.,  121.,  122.,  123.,  124.,  125.,\n",
       "        126.,  127.,  128.,  129.,  130.,  131.,  132.,  133.,  134.,\n",
       "        135.,  136.,  137.,  138.,  139.,  140.,  141.,  142.,  143.,\n",
       "        144.,  145.,  146.,  147.,  148.,  149.,  150.,  151.,  152.,\n",
       "        153.,  154.,  155.,  156.,  157.,  158.,  159.,  160.,  161.,\n",
       "        162.,  163.,  164.,  165.,  166.,  167.,  168.,  169.,  170.,\n",
       "        171.,  172.,  173.,  174.,  175.,  176.,  177.,  178.,  179.,\n",
       "        180.,  181.,  182.,  183.,  184.,  185.,  186.,  187.,  188.,\n",
       "        189.,  190.,  191.,  192.,  193.,  194.,  195.,  196.,  197.,\n",
       "        198.,  199.,  200.,  201.,  202.,  203.,  204.,  205.,  206.,\n",
       "        207.,  208.,  209.,  210.,  211.,  212.,  213.,  214.,  215.,\n",
       "        216.,  217.,  218.,  219.,  220.,  221.,  222.,  223.,  224.,\n",
       "        225.,  226.,  227.,  228.,  229.,  230.,  231.,  232.,  233.,\n",
       "        234.,  235.,  236.,  237.,  238.,  239.,  240.,  241.,  242.,\n",
       "        243.,  244.,  245.,  246.,  247.,  248.,  249.,  250.,  251.,\n",
       "        252.,  253.,  254.,  255.,  256.,  257.,  258.,  259.,  260.,\n",
       "        261.,  262.,  263.,  264.,  265.,  266.,  267.,  268.,  269.,\n",
       "        270.,  271.,  272.,  273.,  274.,  275.,  276.,  277.,  278.,\n",
       "        279.,  280.,  281.,  282.,  283.,  284.,  285.,  286.,  287.,\n",
       "        288.,  289.,  290.,  291.,  292.,  293.,  294.,  295.,  296.,\n",
       "        297.,  298.,  299.,  300.,  301.,  302.,  303.,  304.,  305.,\n",
       "        306.,  307.,  308.,  309.,  310.,  311.,  312.,  313.,  314.,\n",
       "        315.,  316.,  317.,  318.,  319.,  320.,  321.,  322.,  323.,\n",
       "        324.,  325.,  326.,  327.,  328.,  329.,  330.,  331.,  332.,\n",
       "        333.,  334.,  335.,  336.,  337.,  338.,  339.,  340.,  341.,\n",
       "        342.,  343.,  344.,  345.,  346.,  347.,  348.,  349.,  350.,\n",
       "        351.,  352.,  353.,  354.,  355.,  356.,  357.,  358.,  359.,\n",
       "        360.,  361.,  362.,  363.,  364.,  365.,  366.,  367.,  368.,\n",
       "        369.,  370.,  371.,  372.,  373.,  374.,  375.,  376.,  377.,\n",
       "        378.,  379.,  380.,  381.,  382.,  383.,  384.,  385.,  386.,\n",
       "        387.,  388.,  389.,  390.,  391.,  392.,  393.,  394.,  395.,\n",
       "        396.,  397.,  398.,  399.,  400.,  401.,  402.,  403.,  404.,\n",
       "        405.,  406.,  407.,  408.,  409.,  410.,  411.,  412.,  413.,\n",
       "        414.,  415.,  416.,  417.,  418.,  419.,  420.,  421.,  422.,\n",
       "        423.,  424.,  425.,  426.,  427.,  428.,  429.,  430.,  431.,\n",
       "        432.,  433.,  434.,  435.,  436.,  437.,  438.,  439.,  440.,\n",
       "        441.,  442.,  443.,  444.,  445.,  446.,  447.,  448.,  449.,\n",
       "        450.,  451.,  452.,  453.,  454.,  455.,  456.,  457.,  458.,\n",
       "        459.,  460.,  461.,  462.,  463.,  464.,  465.,  466.,  467.,\n",
       "        468.,  469.,  470.,  471.,  472.,  473.,  474.,  475.,  476.,\n",
       "        477.,  478.,  479.,  480.,  481.,  482.,  483.,  484.,  485.,\n",
       "        486.,  487.,  488.,  489.,  490.,  491.,  492.,  493.,  494.,\n",
       "        495.,  496.,  497.,  498.,  499.,  500.,  501.,  502.,  503.,\n",
       "        504.,  505.,  506.,  507.,  508.,  509.,  510.,  511.,  512.,\n",
       "        513.,  514.,  515.,  516.,  517.,  518.,  519.,  520.,  521.,\n",
       "        522.,  523.,  524.,  525.,  526.,  527.,  528.,  529.,  530.,\n",
       "        531.,  532.,  533.,  534.,  535.,  536.,  537.,  538.,  539.,\n",
       "        540.,  541.,  542.,  543.,  544.,  545.,  546.,  547.,  548.,\n",
       "        549.,  550.,  551.,  552.,  553.,  554.,  555.,  556.,  557.,\n",
       "        558.,  559.,  560.,  561.,  562.,  563.,  564.,  565.,  566.,\n",
       "        567.,  568.,  569.,  570.,  571.,  572.,  573.,  574.,  575.,\n",
       "        576.,  577.,  578.,  579.,  580.,  581.,  582.,  583.,  584.,\n",
       "        585.,  586.,  587.,  588.,  589.,  590.,  591.,  592.,  593.,\n",
       "        594.,  595.,  596.,  597.,  598.,  599.,  600.,  601.,  602.,\n",
       "        603.,  604.,  605.,  606.,  607.,  608.,  609.,  610.,  611.,\n",
       "        612.,  613.,  614.,  615.,  616.,  617.,  618.,  619.,  620.,\n",
       "        621.,  622.,  623.,  624.,  625.,  626.,  627.,  628.,  629.,\n",
       "        630.,  631.,  632.,  633.,  634.,  635.,  636.,  637.,  638.,\n",
       "        639.,  640.,  641.,  642.,  643.,  644.,  645.,  646.,  647.,\n",
       "        648.,  649.,  650.,  651.,  652.,  653.,  654.,  655.,  656.,\n",
       "        657.,  658.,  659.,  660.,  661.,  662.,  663.,  664.,  665.,\n",
       "        666.,  667.,  668.,  669.,  670.,  671.,  672.,  673.,  674.,\n",
       "        675.,  676.,  677.,  678.,  679.,  680.,  681.,  682.,  683.,\n",
       "        684.,  685.,  686.,  687.,  688.,  689.,  690.,  691.,  692.,\n",
       "        693.,  694.,  695.,  696.,  697.,  698.,  699.,  700.,  701.,\n",
       "        702.,  703.,  704.,  705.,  706.,  707.,  708.,  709.,  710.,\n",
       "        711.,  712.,  713.,  714.,  715.,  716.,  717.,  718.,  719.,\n",
       "        720.,  721.,  722.,  723.,  724.,  725.,  726.,  727.,  728.,\n",
       "        729.,  730.,  731.], dtype=float32)"
      ]
     },
     "execution_count": 45,
     "metadata": {},
     "output_type": "execute_result"
    }
   ],
   "source": [
    "time_dset[...]"
   ]
  },
  {
   "cell_type": "code",
   "execution_count": 46,
   "metadata": {},
   "outputs": [
    {
     "data": {
      "text/plain": [
       "(180,)"
      ]
     },
     "execution_count": 46,
     "metadata": {},
     "output_type": "execute_result"
    }
   ],
   "source": [
    "lat_dset.shape"
   ]
  },
  {
   "cell_type": "code",
   "execution_count": 47,
   "metadata": {},
   "outputs": [
    {
     "data": {
      "text/plain": [
       "array([-89.5, -88.5, -87.5, -86.5, -85.5, -84.5, -83.5, -82.5, -81.5,\n",
       "       -80.5, -79.5, -78.5, -77.5, -76.5, -75.5, -74.5, -73.5, -72.5,\n",
       "       -71.5, -70.5, -69.5, -68.5, -67.5, -66.5, -65.5, -64.5, -63.5,\n",
       "       -62.5, -61.5, -60.5, -59.5, -58.5, -57.5, -56.5, -55.5, -54.5,\n",
       "       -53.5, -52.5, -51.5, -50.5, -49.5, -48.5, -47.5, -46.5, -45.5,\n",
       "       -44.5, -43.5, -42.5, -41.5, -40.5, -39.5, -38.5, -37.5, -36.5,\n",
       "       -35.5, -34.5, -33.5, -32.5, -31.5, -30.5, -29.5, -28.5, -27.5,\n",
       "       -26.5, -25.5, -24.5, -23.5, -22.5, -21.5, -20.5, -19.5, -18.5,\n",
       "       -17.5, -16.5, -15.5, -14.5, -13.5, -12.5, -11.5, -10.5,  -9.5,\n",
       "        -8.5,  -7.5,  -6.5,  -5.5,  -4.5,  -3.5,  -2.5,  -1.5,  -0.5,\n",
       "         0.5,   1.5,   2.5,   3.5,   4.5,   5.5,   6.5,   7.5,   8.5,\n",
       "         9.5,  10.5,  11.5,  12.5,  13.5,  14.5,  15.5,  16.5,  17.5,\n",
       "        18.5,  19.5,  20.5,  21.5,  22.5,  23.5,  24.5,  25.5,  26.5,\n",
       "        27.5,  28.5,  29.5,  30.5,  31.5,  32.5,  33.5,  34.5,  35.5,\n",
       "        36.5,  37.5,  38.5,  39.5,  40.5,  41.5,  42.5,  43.5,  44.5,\n",
       "        45.5,  46.5,  47.5,  48.5,  49.5,  50.5,  51.5,  52.5,  53.5,\n",
       "        54.5,  55.5,  56.5,  57.5,  58.5,  59.5,  60.5,  61.5,  62.5,\n",
       "        63.5,  64.5,  65.5,  66.5,  67.5,  68.5,  69.5,  70.5,  71.5,\n",
       "        72.5,  73.5,  74.5,  75.5,  76.5,  77.5,  78.5,  79.5,  80.5,\n",
       "        81.5,  82.5,  83.5,  84.5,  85.5,  86.5,  87.5,  88.5,  89.5], dtype=float32)"
      ]
     },
     "execution_count": 47,
     "metadata": {},
     "output_type": "execute_result"
    }
   ],
   "source": [
    "lat_dset[...]"
   ]
  },
  {
   "cell_type": "code",
   "execution_count": 48,
   "metadata": {},
   "outputs": [
    {
     "data": {
      "text/plain": [
       "(360,)"
      ]
     },
     "execution_count": 48,
     "metadata": {},
     "output_type": "execute_result"
    }
   ],
   "source": [
    "lon_dset.shape"
   ]
  }
 ],
 "metadata": {
  "kernelspec": {
   "display_name": "Python 2",
   "language": "python",
   "name": "python2"
  },
  "language_info": {
   "codemirror_mode": {
    "name": "ipython",
    "version": 2
   },
   "file_extension": ".py",
   "mimetype": "text/x-python",
   "name": "python",
   "nbconvert_exporter": "python",
   "pygments_lexer": "ipython2",
   "version": "2.7.13"
  }
 },
 "nbformat": 4,
 "nbformat_minor": 2
}
