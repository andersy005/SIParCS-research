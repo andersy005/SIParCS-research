{
 "cells": [
  {
   "cell_type": "code",
   "execution_count": 1,
   "metadata": {
    "collapsed": true
   },
   "outputs": [],
   "source": [
    "from pyspark.sql import SparkSession\n",
    "from pyspark import SparkConf\n",
    "import read\n",
    "import numpy as np\n",
    "from __future__ import print_function\n",
    "import h5py\n",
    "from glob import glob"
   ]
  },
  {
   "cell_type": "code",
   "execution_count": 2,
   "metadata": {
    "collapsed": true
   },
   "outputs": [],
   "source": [
    "spark = SparkSession.builder.appName(\"nino-preprocess\").getOrCreate()\n",
    "sc = spark.sparkContext"
   ]
  },
  {
   "cell_type": "markdown",
   "metadata": {},
   "source": [
    "## A. Read The Data in RDD with H5Spark Package\n",
    "\n",
    "#### 1. Get a list of files"
   ]
  },
  {
   "cell_type": "code",
   "execution_count": 3,
   "metadata": {
    "collapsed": true
   },
   "outputs": [],
   "source": [
    "filelist = glob(\"/Users/abanihi/Desktop/netCDF-datasets/NCEP-OI/v4/*.nc\")"
   ]
  },
  {
   "cell_type": "code",
   "execution_count": 4,
   "metadata": {},
   "outputs": [
    {
     "name": "stdout",
     "output_type": "stream",
     "text": [
      "132\n",
      "/Users/abanihi/Desktop/netCDF-datasets/NCEP-OI/v4/ersst.v4.200601.nc\n"
     ]
    }
   ],
   "source": [
    "print(len(filelist))\n",
    "print(filelist[0])"
   ]
  },
  {
   "cell_type": "markdown",
   "metadata": {},
   "source": [
    "Currently, we have 132 files for months from 01-01-2006 to 12-31-2016. Each file contains monthly means for a particular month."
   ]
  },
  {
   "cell_type": "markdown",
   "metadata": {},
   "source": [
    "#### 2. Explore file metadata with ncdump"
   ]
  },
  {
   "cell_type": "code",
   "execution_count": 5,
   "metadata": {},
   "outputs": [
    {
     "name": "stdout",
     "output_type": "stream",
     "text": [
      "netcdf ersst.v4.200601 {\r\n",
      "dimensions:\r\n",
      "\ttime = 1 ;\r\n",
      "\tzlev = 1 ;\r\n",
      "\tlat = 89 ;\r\n",
      "\tlon = 180 ;\r\n",
      "\tnv = 2 ;\r\n",
      "variables:\r\n",
      "\tfloat time(time) ;\r\n",
      "\t\ttime:long_name = \"Center time of the day\" ;\r\n",
      "\t\ttime:standard_name = \"time\" ;\r\n",
      "\t\ttime:axis = \"T\" ;\r\n",
      "\t\ttime:units = \"days since 1854-01-15\" ;\r\n",
      "\t\ttime:delta_t = \"0000-01-00\" ;\r\n",
      "\t\ttime:avg_period = \"0000-01-00\" ;\r\n",
      "\tfloat zlev(zlev) ;\r\n",
      "\t\tzlev:long_name = \"Depth of sea surface temperature measurements\" ;\r\n",
      "\t\tzlev:standard_name = \"depth\" ;\r\n",
      "\t\tzlev:units = \"meters\" ;\r\n",
      "\t\tzlev:_CoordinateAxisType = \"Height\" ;\r\n",
      "\t\tzlev:comment = \"Measurement depth of in situ sea surface temperature varies\" ;\r\n",
      "\t\tzlev:axis = \"Z\" ;\r\n",
      "\t\tzlev:positive = \"down\" ;\r\n",
      "\tfloat lat(lat) ;\r\n",
      "\t\tlat:long_name = \"Latitude\" ;\r\n",
      "\t\tlat:standard_name = \"latitude\" ;\r\n",
      "\t\tlat:axis = \"Y\" ;\r\n",
      "\t\tlat:bounds = \"lat_bnds\" ;\r\n",
      "\t\tlat:units = \"degrees_north\" ;\r\n",
      "\t\tlat:grids = \"Uniform grid from -88 to 88 by 2\" ;\r\n",
      "\tfloat lon(lon) ;\r\n",
      "\t\tlon:long_name = \"Longitude\" ;\r\n",
      "\t\tlon:standard_name = \"longitude\" ;\r\n",
      "\t\tlon:axis = \"X\" ;\r\n",
      "\t\tlon:bounds = \"lon_bnds\" ;\r\n",
      "\t\tlon:units = \"degrees_east\" ;\r\n",
      "\t\tlon:grids = \"Uniform grid from 0 to 358 by 2\" ;\r\n",
      "\tfloat lat_bnds(lat, nv) ;\r\n",
      "\t\tlat_bnds:units = \"degrees_north\" ;\r\n",
      "\t\tlat_bnds:comment = \"This variable defines the latitude values at the south and north bounds of every 2-degree pixel\" ;\r\n",
      "\tfloat lon_bnds(lon, nv) ;\r\n",
      "\t\tlon_bnds:units = \"degrees_east\" ;\r\n",
      "\t\tlon_bnds:comment = \"This variable defines the longitude values at the west and east bounds of every 2-degree pixel\" ;\r\n",
      "\tshort sst(time, zlev, lat, lon) ;\r\n",
      "\t\tsst:long_name = \"Extended reconstructed sea surface temperature\" ;\r\n",
      "\t\tsst:standard_name = \"sea_surface_temperature\" ;\r\n",
      "\t\tsst:units = \"degree_C\" ;\r\n",
      "\t\tsst:_FillValue = -999s ;\r\n",
      "\t\tsst:add_offset = 0.f ;\r\n",
      "\t\tsst:scale_factor = 0.01f ;\r\n",
      "\t\tsst:valid_min = -300s ;\r\n",
      "\t\tsst:valid_max = 4500s ;\r\n",
      "\tshort anom(time, zlev, lat, lon) ;\r\n",
      "\t\tanom:long_name = \"Extended reconstructed SST anomalies\" ;\r\n",
      "\t\tanom:units = \"degree_C\" ;\r\n",
      "\t\tanom:_FillValue = -999s ;\r\n",
      "\t\tanom:add_offset = 0.f ;\r\n",
      "\t\tanom:scale_factor = 0.01f ;\r\n",
      "\t\tanom:valid_min = -1200s ;\r\n",
      "\t\tanom:valid_max = 1200s ;\r\n",
      "\r\n",
      "// global attributes:\r\n",
      "\t\t:Conventions = \"CF-1.6\" ;\r\n",
      "\t\t:Metadata_Conventions = \"CF-1.6, Unidata Dataset Discovery v1.0\" ;\r\n",
      "\t\t:metadata_link = \"C00884\" ;\r\n",
      "\t\t:id = \"ersst.v4.200601\" ;\r\n",
      "\t\t:naming_authority = \"gov.noaa.ncdc\" ;\r\n",
      "\t\t:title = \"NOAA Extended Reconstructed Sea Surface Temperature (ERSST), Version 4 (in situ only)\" ;\r\n",
      "\t\t:summary = \"ERSST.v4 is developped based on v3b after revisions of 11 parameters using updated data sets and advanced knowledge of ERSST analysis\" ;\r\n",
      "\t\t:institution = \"NOAA/NESDIS/NCDC\" ;\r\n",
      "\t\t:creator_name = \"Boyin Huang\" ;\r\n",
      "\t\t:creator_email = \"boyin.huang@noaa.gov\" ;\r\n",
      "\t\t:date_created = \"2014-10-24\" ;\r\n",
      "\t\t:production_version = \"Beta Version 4\" ;\r\n",
      "\t\t:history = \"Version 4 based on Version 3b\" ;\r\n",
      "\t\t:publisher_name = \"Boyin Huang\" ;\r\n",
      "\t\t:publisher_email = \"boyin.huang@noaa.gov\" ;\r\n",
      "\t\t:publisher_url = \"http://www.ncdc.noaa.gov\" ;\r\n",
      "\t\t:creator_url = \"http://www.ncdc.noaa.gov\" ;\r\n",
      "\t\t:license = \"No constraints on data access or use\" ;\r\n",
      "\t\t:time_coverage_start = \"2006-01-15T000000Z\" ;\r\n",
      "\t\t:time_coverage_end = \"2006-01-15T000000Z\" ;\r\n",
      "\t\t:geospatial_lon_min = \"-1.0f\" ;\r\n",
      "\t\t:geospatial_lon_max = \"359.0f\" ;\r\n",
      "\t\t:geospatial_lat_min = \"-89.0f\" ;\r\n",
      "\t\t:geospatial_lat_max = \"89.0f\" ;\r\n",
      "\t\t:geospatial_lat_units = \"degrees_north\" ;\r\n",
      "\t\t:geospatial_lat_resolution = \"2.0\" ;\r\n",
      "\t\t:geospatial_lon_units = \"degrees_east\" ;\r\n",
      "\t\t:geospatial_lon_resolution = \"2.0\" ;\r\n",
      "\t\t:spatial_resolution = \"2.0 degree grid\" ;\r\n",
      "\t\t:cdm_data_type = \"Grid\" ;\r\n",
      "\t\t:processing_level = \"L4\" ;\r\n",
      "\t\t:standard_name_vocabulary = \"CF Standard Name Table v27\" ;\r\n",
      "\t\t:keywords = \"Earth Science &gt; Oceans &gt; Ocean Temperature &gt; Sea Surface Temperature &gt\" ;\r\n",
      "\t\t:keywords_vocabulary = \"NASA Global Change Master Directory (GCMD) Science Keywords\" ;\r\n",
      "\t\t:project = \"NOAA Extended Reconstructed Sea Surface Temperature (ERSST)\" ;\r\n",
      "\t\t:platform = \"Ship and Buoy SSTs from ICOADS R2.5 and NCEP GTS\" ;\r\n",
      "\t\t:instrument = \"Conventional thermometers\" ;\r\n",
      "\t\t:source = \"ICOADS R2.5 SST, NCEP GTS SST, HadISST ice, NCEP ice\" ;\r\n",
      "\t\t:comment = \"SSTs were observed by conventional thermometers in Buckets (insulated or un-insulated canvas and wooded buckets) or Engine Room Intaker\" ;\r\n",
      "\t\t:references = \"Huang et al, 2014: Extended Reconstructed Sea Surface Temperatures Version 4 (ERSST.v4), Part I. Upgrades and Intercomparisons. Journal of Climate, DOI: 10.1175/JCLI-D-14-00006.1.\" ;\r\n",
      "\t\t:climatology = \"Climatology is based on 1971-2000 SST, Xue, Y., T. M. Smith, and R. W. Reynolds, 2003: Interdecadal changes of 30-yr SST normals during 1871.2000. Journal of Climate, 16, 1601-1612.\" ;\r\n",
      "\t\t:description = \"In situ data: ICOADS2.5 before 2007 and NCEP in situ data from 2008 to present. Ice data: HadISST ice before 2010 and NCEP ice after 2010.\" ;\r\n",
      "}\r\n"
     ]
    }
   ],
   "source": [
    "!ncdump -h /Users/abanihi/Desktop/netCDF-datasets/NCEP-OI/v4/ersst.v4.200601.nc"
   ]
  },
  {
   "cell_type": "markdown",
   "metadata": {},
   "source": [
    "#### 3. Create a list of tuples\n",
    "For H5Spark to read multiple files, we need to create a list of tuples in format ```('filepath','/dataset)```."
   ]
  },
  {
   "cell_type": "code",
   "execution_count": 6,
   "metadata": {},
   "outputs": [
    {
     "data": {
      "text/plain": [
       "('/Users/abanihi/Desktop/netCDF-datasets/NCEP-OI/v4/ersst.v4.200601.nc',\n",
       " '/sst')"
      ]
     },
     "execution_count": 6,
     "metadata": {},
     "output_type": "execute_result"
    }
   ],
   "source": [
    "# sea surface temperature list\n",
    "files_sst = [(file_, \"/sst\") for file_ in filelist]\n",
    "files_sst[0]"
   ]
  },
  {
   "cell_type": "code",
   "execution_count": 7,
   "metadata": {},
   "outputs": [
    {
     "data": {
      "text/plain": [
       "('/Users/abanihi/Desktop/netCDF-datasets/NCEP-OI/v4/ersst.v4.200601.nc',\n",
       " '/anom')"
      ]
     },
     "execution_count": 7,
     "metadata": {},
     "output_type": "execute_result"
    }
   ],
   "source": [
    "# Extended reconstructed SST anomalies list\n",
    "files_anom = [(file_, \"/anom\") for file_ in filelist]\n",
    "files_anom[0]"
   ]
  },
  {
   "cell_type": "markdown",
   "metadata": {},
   "source": [
    "#### 4. Helper Function to parse and read data with H5Spark"
   ]
  },
  {
   "cell_type": "code",
   "execution_count": 8,
   "metadata": {
    "collapsed": true
   },
   "outputs": [],
   "source": [
    "def parse_files(files):\n",
    "    rdd = read.h5read(sc, files, mode='multi', partitions=12)\n",
    "    return rdd"
   ]
  },
  {
   "cell_type": "markdown",
   "metadata": {},
   "source": [
    "#### 5. Create sst RDD and anomalies RDD\n"
   ]
  },
  {
   "cell_type": "code",
   "execution_count": 9,
   "metadata": {
    "collapsed": true
   },
   "outputs": [],
   "source": [
    "sst_rdd = parse_files(files_sst).cache()"
   ]
  },
  {
   "cell_type": "code",
   "execution_count": 10,
   "metadata": {
    "collapsed": true
   },
   "outputs": [],
   "source": [
    "anom_rdd = parse_files(files_anom).cache()"
   ]
  },
  {
   "cell_type": "markdown",
   "metadata": {},
   "source": [
    "## B. Explore the created sst RDD\n",
    "Let's apply some transformations and actions on sst RDD."
   ]
  },
  {
   "cell_type": "markdown",
   "metadata": {},
   "source": [
    "### 1. Some Transformations\n",
    "\n",
    "####  ```.map()``` ---->Return a new distributed dataset formed by passing each element of the source through a function func.\n",
    "\n",
    "By using the map transformation in Spark, we can apply a function to every element in our RDD. Python's lambdas are specially expressive for this particular transformation.\n",
    "\n",
    "For example, in our case, we are interested in region with coordinates [5N-5S, 120-170W] "
   ]
  },
  {
   "cell_type": "markdown",
   "metadata": {},
   "source": [
    "Let's first determine how the latitude and longitude coordinates are stored in our dataset.\n",
    "To accomplish this, we will use **h5py** package."
   ]
  },
  {
   "cell_type": "code",
   "execution_count": 11,
   "metadata": {},
   "outputs": [],
   "source": [
    "import h5py as h5"
   ]
  },
  {
   "cell_type": "code",
   "execution_count": 12,
   "metadata": {
    "collapsed": true
   },
   "outputs": [],
   "source": [
    "f = h5.File(\"/Users/abanihi/Desktop/netCDF-datasets/NCEP-OI/v4/ersst.v4.200601.nc\", 'r')"
   ]
  },
  {
   "cell_type": "code",
   "execution_count": 13,
   "metadata": {},
   "outputs": [],
   "source": [
    "lat_dset = f[\"lat\"]\n",
    "lon_dset = f[\"lon\"]"
   ]
  },
  {
   "cell_type": "code",
   "execution_count": 14,
   "metadata": {},
   "outputs": [
    {
     "name": "stdout",
     "output_type": "stream",
     "text": [
      "Lat Shape: (89,)\n",
      "Lat size: 89\n",
      "Long Shape: (180,)\n"
     ]
    }
   ],
   "source": [
    "print(\"Lat Shape: {}\".format(lat_dset.shape))\n",
    "print(\"Lat size: {}\".format(lat_dset.size))\n",
    "print(\"Long Shape: {}\".format(lon_dset.shape))"
   ]
  },
  {
   "cell_type": "code",
   "execution_count": 15,
   "metadata": {},
   "outputs": [
    {
     "data": {
      "text/plain": [
       "array([-88., -86., -84., -82., -80., -78., -76., -74., -72., -70., -68.,\n",
       "       -66., -64., -62., -60., -58., -56., -54., -52., -50., -48., -46.,\n",
       "       -44., -42., -40., -38., -36., -34., -32., -30., -28., -26., -24.,\n",
       "       -22., -20., -18., -16., -14., -12., -10.,  -8.,  -6.,  -4.,  -2.,\n",
       "         0.,   2.,   4.,   6.,   8.,  10.,  12.,  14.,  16.,  18.,  20.,\n",
       "        22.,  24.,  26.,  28.,  30.,  32.,  34.,  36.,  38.,  40.,  42.,\n",
       "        44.,  46.,  48.,  50.,  52.,  54.,  56.,  58.,  60.,  62.,  64.,\n",
       "        66.,  68.,  70.,  72.,  74.,  76.,  78.,  80.,  82.,  84.,  86.,\n",
       "        88.], dtype=float32)"
      ]
     },
     "execution_count": 15,
     "metadata": {},
     "output_type": "execute_result"
    }
   ],
   "source": [
    "lat_dset[:]"
   ]
  },
  {
   "cell_type": "code",
   "execution_count": 16,
   "metadata": {},
   "outputs": [
    {
     "data": {
      "text/plain": [
       "array([   0.,    2.,    4.,    6.,    8.,   10.,   12.,   14.,   16.,\n",
       "         18.,   20.,   22.,   24.,   26.,   28.,   30.,   32.,   34.,\n",
       "         36.,   38.,   40.,   42.,   44.,   46.,   48.,   50.,   52.,\n",
       "         54.,   56.,   58.,   60.,   62.,   64.,   66.,   68.,   70.,\n",
       "         72.,   74.,   76.,   78.,   80.,   82.,   84.,   86.,   88.,\n",
       "         90.,   92.,   94.,   96.,   98.,  100.,  102.,  104.,  106.,\n",
       "        108.,  110.,  112.,  114.,  116.,  118.,  120.,  122.,  124.,\n",
       "        126.,  128.,  130.,  132.,  134.,  136.,  138.,  140.,  142.,\n",
       "        144.,  146.,  148.,  150.,  152.,  154.,  156.,  158.,  160.,\n",
       "        162.,  164.,  166.,  168.,  170.,  172.,  174.,  176.,  178.,\n",
       "        180.,  182.,  184.,  186.,  188.,  190.,  192.,  194.,  196.,\n",
       "        198.,  200.,  202.,  204.,  206.,  208.,  210.,  212.,  214.,\n",
       "        216.,  218.,  220.,  222.,  224.,  226.,  228.,  230.,  232.,\n",
       "        234.,  236.,  238.,  240.,  242.,  244.,  246.,  248.,  250.,\n",
       "        252.,  254.,  256.,  258.,  260.,  262.,  264.,  266.,  268.,\n",
       "        270.,  272.,  274.,  276.,  278.,  280.,  282.,  284.,  286.,\n",
       "        288.,  290.,  292.,  294.,  296.,  298.,  300.,  302.,  304.,\n",
       "        306.,  308.,  310.,  312.,  314.,  316.,  318.,  320.,  322.,\n",
       "        324.,  326.,  328.,  330.,  332.,  334.,  336.,  338.,  340.,\n",
       "        342.,  344.,  346.,  348.,  350.,  352.,  354.,  356.,  358.], dtype=float32)"
      ]
     },
     "execution_count": 16,
     "metadata": {},
     "output_type": "execute_result"
    }
   ],
   "source": [
    "lon_dset[:]"
   ]
  },
  {
   "cell_type": "markdown",
   "metadata": {},
   "source": [
    "Let's use NumPy's fancy indexing to select the latitude and longitude coordinates of the region we are interested in."
   ]
  },
  {
   "cell_type": "code",
   "execution_count": 17,
   "metadata": {},
   "outputs": [
    {
     "data": {
      "text/plain": [
       "array([-88., -86., -84., -82., -80., -78., -76., -74., -72., -70., -68.,\n",
       "       -66., -64., -62., -60., -58., -56., -54., -52., -50., -48., -46.,\n",
       "       -44., -42., -40., -38., -36., -34., -32., -30., -28., -26., -24.,\n",
       "       -22., -20., -18., -16., -14., -12., -10.,  -8.,  -6.,  -4.,  -2.,\n",
       "         0.,   2.,   4.,   6.,   8.,  10.,  12.,  14.,  16.,  18.,  20.,\n",
       "        22.,  24.,  26.,  28.,  30.,  32.,  34.,  36.,  38.,  40.,  42.,\n",
       "        44.,  46.,  48.,  50.,  52.,  54.,  56.,  58.,  60.,  62.,  64.,\n",
       "        66.,  68.,  70.,  72.,  74.,  76.,  78.,  80.,  82.,  84.,  86.,\n",
       "        88.], dtype=float32)"
      ]
     },
     "execution_count": 17,
     "metadata": {},
     "output_type": "execute_result"
    }
   ],
   "source": [
    "a = lat_dset[:]\n",
    "a"
   ]
  },
  {
   "cell_type": "code",
   "execution_count": 18,
   "metadata": {},
   "outputs": [],
   "source": [
    "masked_lat = a [(a > -7) & (a < 7) ]"
   ]
  },
  {
   "cell_type": "code",
   "execution_count": 19,
   "metadata": {},
   "outputs": [
    {
     "data": {
      "text/plain": [
       "array([-6., -4., -2.,  0.,  2.,  4.,  6.], dtype=float32)"
      ]
     },
     "execution_count": 19,
     "metadata": {},
     "output_type": "execute_result"
    }
   ],
   "source": [
    "masked_lat"
   ]
  },
  {
   "cell_type": "markdown",
   "metadata": {},
   "source": [
    "#### find the indices of these values in the latitude array."
   ]
  },
  {
   "cell_type": "code",
   "execution_count": 20,
   "metadata": {},
   "outputs": [
    {
     "data": {
      "text/plain": [
       "array([41, 42, 43, 44, 45, 46, 47])"
      ]
     },
     "execution_count": 20,
     "metadata": {},
     "output_type": "execute_result"
    }
   ],
   "source": [
    "lat_indices, = np.where((a > -7) & (a < 7))\n",
    "lat_indices"
   ]
  },
  {
   "cell_type": "code",
   "execution_count": 21,
   "metadata": {},
   "outputs": [
    {
     "data": {
      "text/plain": [
       "array([   0.,    2.,    4.,    6.,    8.,   10.,   12.,   14.,   16.,\n",
       "         18.,   20.,   22.,   24.,   26.,   28.,   30.,   32.,   34.,\n",
       "         36.,   38.,   40.,   42.,   44.,   46.,   48.,   50.,   52.,\n",
       "         54.,   56.,   58.,   60.,   62.,   64.,   66.,   68.,   70.,\n",
       "         72.,   74.,   76.,   78.,   80.,   82.,   84.,   86.,   88.,\n",
       "         90.,   92.,   94.,   96.,   98.,  100.,  102.,  104.,  106.,\n",
       "        108.,  110.,  112.,  114.,  116.,  118.,  120.,  122.,  124.,\n",
       "        126.,  128.,  130.,  132.,  134.,  136.,  138.,  140.,  142.,\n",
       "        144.,  146.,  148.,  150.,  152.,  154.,  156.,  158.,  160.,\n",
       "        162.,  164.,  166.,  168.,  170.,  172.,  174.,  176.,  178.,\n",
       "        180.,  182.,  184.,  186.,  188.,  190.,  192.,  194.,  196.,\n",
       "        198.,  200.,  202.,  204.,  206.,  208.,  210.,  212.,  214.,\n",
       "        216.,  218.,  220.,  222.,  224.,  226.,  228.,  230.,  232.,\n",
       "        234.,  236.,  238.,  240.,  242.,  244.,  246.,  248.,  250.,\n",
       "        252.,  254.,  256.,  258.,  260.,  262.,  264.,  266.,  268.,\n",
       "        270.,  272.,  274.,  276.,  278.,  280.,  282.,  284.,  286.,\n",
       "        288.,  290.,  292.,  294.,  296.,  298.,  300.,  302.,  304.,\n",
       "        306.,  308.,  310.,  312.,  314.,  316.,  318.,  320.,  322.,\n",
       "        324.,  326.,  328.,  330.,  332.,  334.,  336.,  338.,  340.,\n",
       "        342.,  344.,  346.,  348.,  350.,  352.,  354.,  356.,  358.], dtype=float32)"
      ]
     },
     "execution_count": 21,
     "metadata": {},
     "output_type": "execute_result"
    }
   ],
   "source": [
    "b = lon_dset[:]\n",
    "b"
   ]
  },
  {
   "cell_type": "code",
   "execution_count": 22,
   "metadata": {},
   "outputs": [
    {
     "data": {
      "text/plain": [
       "array([ 210.,  212.,  214.,  216.,  218.,  220.,  222.,  224.,  226.,\n",
       "        228.,  230.,  232.,  234.,  236.,  238.,  240.], dtype=float32)"
      ]
     },
     "execution_count": 22,
     "metadata": {},
     "output_type": "execute_result"
    }
   ],
   "source": [
    "masked_lon = b[(b > 208) & (b < 242)]\n",
    "masked_lon"
   ]
  },
  {
   "cell_type": "markdown",
   "metadata": {},
   "source": [
    "#### find the indices of these values in the longitude array."
   ]
  },
  {
   "cell_type": "code",
   "execution_count": 23,
   "metadata": {},
   "outputs": [
    {
     "data": {
      "text/plain": [
       "array([105, 106, 107, 108, 109, 110, 111, 112, 113, 114, 115, 116, 117,\n",
       "       118, 119, 120])"
      ]
     },
     "execution_count": 23,
     "metadata": {},
     "output_type": "execute_result"
    }
   ],
   "source": [
    "lon_indices, = np.where( (b > 208) & (b < 242))\n",
    "lon_indices"
   ]
  },
  {
   "cell_type": "markdown",
   "metadata": {},
   "source": [
    "#### Create a new RDD with elements  containing  values from our region of interest ```[5N-5S, 120-170W]```"
   ]
  },
  {
   "cell_type": "code",
   "execution_count": 24,
   "metadata": {
    "collapsed": true
   },
   "outputs": [],
   "source": [
    "roi_sst_rdd = sst_rdd.map(lambda x: x[:, 41:48, 105:121])"
   ]
  },
  {
   "cell_type": "code",
   "execution_count": 25,
   "metadata": {},
   "outputs": [
    {
     "data": {
      "text/plain": [
       "132"
      ]
     },
     "execution_count": 25,
     "metadata": {},
     "output_type": "execute_result"
    }
   ],
   "source": [
    "roi_sst_rdd.count()"
   ]
  },
  {
   "cell_type": "code",
   "execution_count": 26,
   "metadata": {},
   "outputs": [
    {
     "data": {
      "text/plain": [
       "(1, 7, 16)"
      ]
     },
     "execution_count": 26,
     "metadata": {},
     "output_type": "execute_result"
    }
   ],
   "source": [
    "roi_sst_rdd.first().shape"
   ]
  },
  {
   "cell_type": "code",
   "execution_count": 27,
   "metadata": {},
   "outputs": [
    {
     "data": {
      "text/plain": [
       "array([[[2834, 2823, 2812, 2799, 2783, 2766, 2749, 2731, 2711, 2691, 2670,\n",
       "         2648, 2626, 2604, 2581, 2557],\n",
       "        [2806, 2794, 2781, 2768, 2753, 2739, 2721, 2703, 2683, 2661, 2639,\n",
       "         2616, 2594, 2571, 2547, 2523],\n",
       "        [2763, 2749, 2735, 2722, 2707, 2693, 2677, 2660, 2641, 2620, 2598,\n",
       "         2576, 2553, 2530, 2506, 2480],\n",
       "        [2736, 2725, 2712, 2701, 2687, 2675, 2661, 2645, 2627, 2610, 2593,\n",
       "         2575, 2556, 2535, 2510, 2484],\n",
       "        [2760, 2752, 2744, 2736, 2726, 2717, 2707, 2695, 2682, 2669, 2656,\n",
       "         2642, 2627, 2610, 2588, 2566],\n",
       "        [2810, 2806, 2803, 2800, 2794, 2788, 2784, 2778, 2771, 2761, 2749,\n",
       "         2737, 2724, 2709, 2692, 2674],\n",
       "        [2848, 2848, 2850, 2851, 2851, 2849, 2848, 2847, 2844, 2838, 2828,\n",
       "         2818, 2807, 2795, 2780, 2764]]], dtype=int16)"
      ]
     },
     "execution_count": 27,
     "metadata": {},
     "output_type": "execute_result"
    }
   ],
   "source": [
    "roi_sst_rdd.first()"
   ]
  },
  {
   "cell_type": "code",
   "execution_count": 28,
   "metadata": {},
   "outputs": [
    {
     "data": {
      "text/plain": [
       "array([[[-999, -999, -999, ..., -999, -999, -999],\n",
       "        [-999, -999, -999, ..., -999, -999, -999],\n",
       "        [-999, -999, -999, ..., -999, -999, -999],\n",
       "        ..., \n",
       "        [-180, -180, -180, ..., -180, -180, -180],\n",
       "        [-180, -180, -180, ..., -180, -180, -180],\n",
       "        [-180, -180, -180, ..., -180, -180, -180]]], dtype=int16)"
      ]
     },
     "execution_count": 28,
     "metadata": {},
     "output_type": "execute_result"
    }
   ],
   "source": [
    "sst_rdd.first()"
   ]
  },
  {
   "cell_type": "code",
   "execution_count": null,
   "metadata": {
    "collapsed": true
   },
   "outputs": [],
   "source": []
  },
  {
   "cell_type": "markdown",
   "metadata": {},
   "source": [
    "### 2. Some Actions\n",
    "\n",
    "#### ```.count()``` ----> Return the number of elements in the dataset."
   ]
  },
  {
   "cell_type": "code",
   "execution_count": 29,
   "metadata": {},
   "outputs": [
    {
     "data": {
      "text/plain": [
       "132"
      ]
     },
     "execution_count": 29,
     "metadata": {},
     "output_type": "execute_result"
    }
   ],
   "source": [
    "# How many elements are there in our sst_rdd\n",
    "roi_sst_rdd.count()"
   ]
  },
  {
   "cell_type": "markdown",
   "metadata": {},
   "source": [
    "#### ```.collect()```\n",
    "\n",
    "```.collect()``` is one of the expensive actions in Spark because it brings all the data from workers to the driver program. In case of massive data amount, this can cause your program to crash if the data can't fit in the driver program resources such as memory.."
   ]
  },
  {
   "cell_type": "markdown",
   "metadata": {},
   "source": [
    "#### ```.take()``` ----> Return an array with the first n elements of the dataset.\n"
   ]
  },
  {
   "cell_type": "code",
   "execution_count": 31,
   "metadata": {},
   "outputs": [
    {
     "data": {
      "text/plain": [
       "[array([[[2834, 2823, 2812, 2799, 2783, 2766, 2749, 2731, 2711, 2691, 2670,\n",
       "          2648, 2626, 2604, 2581, 2557],\n",
       "         [2806, 2794, 2781, 2768, 2753, 2739, 2721, 2703, 2683, 2661, 2639,\n",
       "          2616, 2594, 2571, 2547, 2523],\n",
       "         [2763, 2749, 2735, 2722, 2707, 2693, 2677, 2660, 2641, 2620, 2598,\n",
       "          2576, 2553, 2530, 2506, 2480],\n",
       "         [2736, 2725, 2712, 2701, 2687, 2675, 2661, 2645, 2627, 2610, 2593,\n",
       "          2575, 2556, 2535, 2510, 2484],\n",
       "         [2760, 2752, 2744, 2736, 2726, 2717, 2707, 2695, 2682, 2669, 2656,\n",
       "          2642, 2627, 2610, 2588, 2566],\n",
       "         [2810, 2806, 2803, 2800, 2794, 2788, 2784, 2778, 2771, 2761, 2749,\n",
       "          2737, 2724, 2709, 2692, 2674],\n",
       "         [2848, 2848, 2850, 2851, 2851, 2849, 2848, 2847, 2844, 2838, 2828,\n",
       "          2818, 2807, 2795, 2780, 2764]]], dtype=int16),\n",
       " array([[[2840, 2826, 2810, 2794, 2778, 2762, 2745, 2727, 2709, 2689, 2667,\n",
       "          2644, 2620, 2595, 2570, 2544],\n",
       "         [2807, 2792, 2776, 2761, 2746, 2731, 2714, 2697, 2678, 2656, 2632,\n",
       "          2607, 2582, 2557, 2530, 2503],\n",
       "         [2760, 2744, 2728, 2713, 2698, 2684, 2668, 2652, 2632, 2609, 2585,\n",
       "          2560, 2533, 2507, 2480, 2453],\n",
       "         [2731, 2718, 2704, 2691, 2678, 2664, 2650, 2633, 2614, 2594, 2573,\n",
       "          2550, 2526, 2501, 2476, 2450],\n",
       "         [2754, 2745, 2736, 2726, 2715, 2704, 2692, 2679, 2664, 2649, 2632,\n",
       "          2613, 2592, 2572, 2550, 2529],\n",
       "         [2806, 2801, 2795, 2789, 2781, 2773, 2766, 2759, 2750, 2738, 2725,\n",
       "          2710, 2692, 2675, 2657, 2641],\n",
       "         [2844, 2844, 2843, 2840, 2837, 2835, 2832, 2829, 2824, 2816, 2806,\n",
       "          2795, 2781, 2767, 2751, 2736]]], dtype=int16)]"
      ]
     },
     "execution_count": 31,
     "metadata": {},
     "output_type": "execute_result"
    }
   ],
   "source": [
    "# Take first 2 elements in our rdd\n",
    "roi_sst_rdd.take(2)"
   ]
  },
  {
   "cell_type": "markdown",
   "metadata": {},
   "source": [
    "Clearly, the first element in our rdd contains so many missing values. This is something to take care of during our data pre-processing steps."
   ]
  },
  {
   "cell_type": "markdown",
   "metadata": {},
   "source": [
    "#### ```.takeSample()``` ----> Return an array with a random sample of num elements of the dataset, with or without replacement, optionally pre-specifying a random number generator seed.\n",
    "\n",
    "If what we need is to grab a sample of raw data from our RDD into local memory in order to be used by other non-Spark libraries, takeSample can be used.\n",
    "\n",
    "We specify the number of items instead of the sample size as a fraction of the complete data size."
   ]
  },
  {
   "cell_type": "code",
   "execution_count": 32,
   "metadata": {},
   "outputs": [
    {
     "data": {
      "text/plain": [
       "10"
      ]
     },
     "execution_count": 32,
     "metadata": {},
     "output_type": "execute_result"
    }
   ],
   "source": [
    "sample = roi_sst_rdd.takeSample(False, 10, 1234)\n",
    "len(sample)"
   ]
  },
  {
   "cell_type": "markdown",
   "metadata": {},
   "source": [
    "#### ```.first()``` ----> Return the first element of the dataset (similar to take(1)).\n",
    "\n",
    "The first method can be useful for sanity checking a data set, but we’re generally\n",
    "interested in bringing back larger samples of an RDD into the client for analysis.\n",
    "When we know that an RDD only contains a small number of records, we can use the\n",
    "collect method to return all of the contents of an RDD to the client as an array."
   ]
  },
  {
   "cell_type": "code",
   "execution_count": 34,
   "metadata": {},
   "outputs": [
    {
     "data": {
      "text/plain": [
       "array([[[2834, 2823, 2812, 2799, 2783, 2766, 2749, 2731, 2711, 2691, 2670,\n",
       "         2648, 2626, 2604, 2581, 2557],\n",
       "        [2806, 2794, 2781, 2768, 2753, 2739, 2721, 2703, 2683, 2661, 2639,\n",
       "         2616, 2594, 2571, 2547, 2523],\n",
       "        [2763, 2749, 2735, 2722, 2707, 2693, 2677, 2660, 2641, 2620, 2598,\n",
       "         2576, 2553, 2530, 2506, 2480],\n",
       "        [2736, 2725, 2712, 2701, 2687, 2675, 2661, 2645, 2627, 2610, 2593,\n",
       "         2575, 2556, 2535, 2510, 2484],\n",
       "        [2760, 2752, 2744, 2736, 2726, 2717, 2707, 2695, 2682, 2669, 2656,\n",
       "         2642, 2627, 2610, 2588, 2566],\n",
       "        [2810, 2806, 2803, 2800, 2794, 2788, 2784, 2778, 2771, 2761, 2749,\n",
       "         2737, 2724, 2709, 2692, 2674],\n",
       "        [2848, 2848, 2850, 2851, 2851, 2849, 2848, 2847, 2844, 2838, 2828,\n",
       "         2818, 2807, 2795, 2780, 2764]]], dtype=int16)"
      ]
     },
     "execution_count": 34,
     "metadata": {},
     "output_type": "execute_result"
    }
   ],
   "source": [
    "roi_sst_rdd.first()"
   ]
  },
  {
   "cell_type": "code",
   "execution_count": 35,
   "metadata": {},
   "outputs": [
    {
     "data": {
      "text/plain": [
       "(1, 7, 16)"
      ]
     },
     "execution_count": 35,
     "metadata": {},
     "output_type": "execute_result"
    }
   ],
   "source": [
    "roi_sst_rdd.first().shape"
   ]
  },
  {
   "cell_type": "markdown",
   "metadata": {},
   "source": [
    "### 3. Stats Counter"
   ]
  },
  {
   "cell_type": "code",
   "execution_count": 36,
   "metadata": {},
   "outputs": [
    {
     "data": {
      "text/plain": [
       "[array([1, 2, 3]), array([5, 4, 3])]"
      ]
     },
     "execution_count": 36,
     "metadata": {},
     "output_type": "execute_result"
    }
   ],
   "source": [
    "m = np.array([1, 2, 3])\n",
    "n = np.array([5, 4, 3])\n",
    "p = sc.parallelize([m, n])\n",
    "p.collect()"
   ]
  },
  {
   "cell_type": "code",
   "execution_count": 37,
   "metadata": {},
   "outputs": [
    {
     "data": {
      "text/plain": [
       "(count: 2, mean: [ 3.  3.  3.], stdev: [ 2.  1.  0.], max: [ 5.  4.  3.], min: [ 1.  2.  3.])"
      ]
     },
     "execution_count": 37,
     "metadata": {},
     "output_type": "execute_result"
    }
   ],
   "source": [
    "p.stats()"
   ]
  },
  {
   "cell_type": "code",
   "execution_count": 38,
   "metadata": {},
   "outputs": [
    {
     "data": {
      "text/plain": [
       "[array([[1, 2, 3],\n",
       "        [6, 7, 8]]), array([[5, 4, 3],\n",
       "        [2, 1, 0]])]"
      ]
     },
     "execution_count": 38,
     "metadata": {},
     "output_type": "execute_result"
    }
   ],
   "source": [
    "m = np.array([[1, 2, 3], [6, 7, 8]])\n",
    "n = np.array([[5, 4, 3],[2, 1, 0]])\n",
    "p = sc.parallelize([m, n])\n",
    "p.collect()"
   ]
  },
  {
   "cell_type": "code",
   "execution_count": 39,
   "metadata": {},
   "outputs": [
    {
     "data": {
      "text/plain": [
       "(count: 2, mean: [[ 3.  3.  3.]\n",
       " [ 4.  4.  4.]], stdev: [[ 2.  1.  0.]\n",
       " [ 2.  3.  4.]], max: [[ 5.  4.  3.]\n",
       " [ 6.  7.  8.]], min: [[ 1.  2.  3.]\n",
       " [ 2.  1.  0.]])"
      ]
     },
     "execution_count": 39,
     "metadata": {},
     "output_type": "execute_result"
    }
   ],
   "source": [
    "p.stats()"
   ]
  },
  {
   "cell_type": "code",
   "execution_count": 40,
   "metadata": {},
   "outputs": [
    {
     "data": {
      "text/plain": [
       "{'count': 132,\n",
       " 'max': array([[[ 3055.,  3049.,  3040.,  3030.,  3019.,  3007.,  2993.,  2977.,\n",
       "           2961.,  2945.,  2930.,  2915.,  2903.,  2893.,  2884.,  2873.],\n",
       "         [ 3008.,  3001.,  2994.,  2988.,  2981.,  2975.,  2965.,  2954.,\n",
       "           2943.,  2933.,  2921.,  2910.,  2900.,  2894.,  2889.,  2881.],\n",
       "         [ 2958.,  2947.,  2937.,  2930.,  2922.,  2915.,  2909.,  2903.,\n",
       "           2896.,  2890.,  2883.,  2875.,  2868.,  2864.,  2861.,  2857.],\n",
       "         [ 2924.,  2914.,  2903.,  2891.,  2878.,  2872.,  2869.,  2866.,\n",
       "           2862.,  2855.,  2850.,  2848.,  2846.,  2843.,  2841.,  2840.],\n",
       "         [ 2940.,  2932.,  2924.,  2915.,  2903.,  2891.,  2879.,  2872.,\n",
       "           2870.,  2867.,  2869.,  2875.,  2879.,  2880.,  2881.,  2884.],\n",
       "         [ 2976.,  2971.,  2965.,  2959.,  2949.,  2940.,  2932.,  2925.,\n",
       "           2918.,  2910.,  2906.,  2911.,  2920.,  2927.,  2932.,  2939.],\n",
       "         [ 2996.,  2992.,  2988.,  2983.,  2977.,  2970.,  2965.,  2960.,\n",
       "           2955.,  2948.,  2945.,  2942.,  2940.,  2943.,  2951.,  2958.]]]),\n",
       " 'mean': array([[[ 2833.10606061,  2821.1969697 ,  2807.86363636,  2794.71212121,\n",
       "           2781.11363636,  2766.91666667,  2751.32575758,  2734.78787879,\n",
       "           2718.22727273,  2701.64393939,  2684.62121212,  2667.63636364,\n",
       "           2652.20454545,  2638.46212121,  2626.02272727,  2613.67424242],\n",
       "         [ 2787.98484848,  2776.09848485,  2763.5530303 ,  2751.12121212,\n",
       "           2738.65151515,  2726.79545455,  2713.50757576,  2698.38636364,\n",
       "           2683.09848485,  2667.63636364,  2651.50757576,  2635.68181818,\n",
       "           2621.63636364,  2609.58333333,  2598.92424242,  2588.17424242],\n",
       "         [ 2730.48484848,  2718.67424242,  2706.59848485,  2694.35606061,\n",
       "           2681.88636364,  2670.20454545,  2658.31818182,  2645.43939394,\n",
       "           2632.02272727,  2618.26515152,  2604.18181818,  2590.72727273,\n",
       "           2578.49242424,  2567.66666667,  2557.9469697 ,  2548.89393939],\n",
       "         [ 2692.3030303 ,  2681.68939394,  2671.00757576,  2660.47727273,\n",
       "           2649.18939394,  2638.68181818,  2628.77272727,  2618.56060606,\n",
       "           2607.61363636,  2596.46969697,  2585.96969697,  2576.60606061,\n",
       "           2568.0530303 ,  2559.41666667,  2551.20454545,  2544.37878788],\n",
       "         [ 2707.08333333,  2698.96969697,  2691.09090909,  2683.38636364,\n",
       "           2674.72727273,  2666.86363636,  2660.5       ,  2654.64393939,\n",
       "           2647.8030303 ,  2640.53030303,  2634.57575758,  2630.08333333,\n",
       "           2625.65909091,  2620.77272727,  2616.21969697,  2612.90151515],\n",
       "         [ 2751.42424242,  2745.84090909,  2740.77272727,  2736.02272727,\n",
       "           2730.01515152,  2724.51515152,  2721.34090909,  2719.31818182,\n",
       "           2716.40909091,  2712.39393939,  2709.34848485,  2707.78787879,\n",
       "           2706.1969697 ,  2704.56060606,  2703.90909091,  2703.75      ],\n",
       "         [ 2781.74242424,  2778.28787879,  2775.65909091,  2772.98484848,\n",
       "           2769.56060606,  2766.25      ,  2764.52272727,  2763.93181818,\n",
       "           2762.83333333,  2761.1969697 ,  2760.28787879,  2760.28787879,\n",
       "           2760.46969697,  2761.3030303 ,  2763.10606061,  2765.11363636]]]),\n",
       " 'min': array([[[ 2648.,  2635.,  2621.,  2608.,  2594.,  2580.,  2563.,  2545.,\n",
       "           2528.,  2510.,  2491.,  2472.,  2456.,  2440.,  2425.,  2410.],\n",
       "         [ 2579.,  2568.,  2558.,  2548.,  2537.,  2526.,  2512.,  2495.,\n",
       "           2479.,  2462.,  2444.,  2427.,  2413.,  2399.,  2386.,  2372.],\n",
       "         [ 2519.,  2509.,  2500.,  2491.,  2480.,  2468.,  2454.,  2439.,\n",
       "           2424.,  2409.,  2394.,  2380.,  2367.,  2356.,  2341.,  2321.],\n",
       "         [ 2487.,  2475.,  2463.,  2453.,  2443.,  2433.,  2424.,  2417.,\n",
       "           2408.,  2393.,  2379.,  2366.,  2354.,  2342.,  2329.,  2318.],\n",
       "         [ 2498.,  2487.,  2478.,  2469.,  2462.,  2454.,  2449.,  2446.,\n",
       "           2441.,  2432.,  2425.,  2419.,  2414.,  2409.,  2401.,  2394.],\n",
       "         [ 2546.,  2537.,  2530.,  2523.,  2515.,  2508.,  2505.,  2503.,\n",
       "           2499.,  2495.,  2493.,  2492.,  2491.,  2493.,  2499.,  2505.],\n",
       "         [ 2593.,  2585.,  2579.,  2571.,  2562.,  2555.,  2551.,  2547.,\n",
       "           2543.,  2540.,  2540.,  2542.,  2544.,  2548.,  2556.,  2568.]]]),\n",
       " 'stdev': array([[[  88.17109128,   89.31900453,   90.36480541,   91.38547919,\n",
       "            92.24044647,   92.84658952,   93.37746563,   93.69888675,\n",
       "            94.29000181,   95.60758958,   97.39606167,   99.74182495,\n",
       "           102.30949443,  105.3685937 ,  108.87940425,  112.63136495],\n",
       "         [  98.10906728,   99.16359063,  100.17605223,  101.0909975 ,\n",
       "           101.91404737,  102.76325261,  103.43788904,  104.14410507,\n",
       "           105.31101592,  107.20902553,  109.39608658,  111.79905079,\n",
       "           114.72544542,  118.34978831,  122.60534472,  127.01995373],\n",
       "         [ 102.97316666,  103.87297705,  104.90925631,  105.62219381,\n",
       "           106.36927236,  107.59017086,  108.63443272,  109.3588712 ,\n",
       "           110.67864671,  112.98563442,  115.6612465 ,  118.19650419,\n",
       "           121.19453142,  124.79104163,  129.22625371,  134.2810234 ],\n",
       "         [ 102.38200726,  103.05894945,  103.84497373,  104.31876178,\n",
       "           104.99946438,  106.00758422,  106.93292404,  107.99323258,\n",
       "           109.6046781 ,  111.80779851,  114.18452586,  116.94350157,\n",
       "           119.61000969,  122.6092933 ,  126.58230516,  131.67097151],\n",
       "         [  98.48765115,   99.11370133,   99.78193434,  100.37971022,\n",
       "           101.02604085,  101.81503756,  102.44801325,  103.30043138,\n",
       "           104.47560359,  106.18387044,  108.59780277,  111.59680983,\n",
       "           114.04337126,  116.27038709,  119.31012347,  123.5615778 ],\n",
       "         [  92.26539229,   92.90961129,   93.51103873,   94.59108183,\n",
       "            95.40744165,   95.88315765,   96.07827832,   96.55804078,\n",
       "            97.38958944,   98.32433925,   99.78740645,  101.91060521,\n",
       "           104.04883171,  105.7718456 ,  107.40914531,  110.16125412],\n",
       "         [  86.44802712,   87.13563441,   87.8045913 ,   88.9966107 ,\n",
       "            89.90650424,   90.21554977,   90.30993841,   90.68519436,\n",
       "            91.0435821 ,   90.93865388,   90.5629999 ,   90.45529707,\n",
       "            90.68875044,   90.88084132,   91.26852066,   91.97017835]]]),\n",
       " 'sum': array([[[ 373970.,  372398.,  370638.,  368902.,  367107.,  365233.,\n",
       "           363175.,  360992.,  358806.,  356617.,  354370.,  352128.,\n",
       "           350091.,  348277.,  346635.,  345005.],\n",
       "         [ 368014.,  366445.,  364789.,  363148.,  361502.,  359937.,\n",
       "           358183.,  356187.,  354169.,  352128.,  349999.,  347910.,\n",
       "           346056.,  344465.,  343058.,  341639.],\n",
       "         [ 360424.,  358865.,  357271.,  355655.,  354009.,  352467.,\n",
       "           350898.,  349198.,  347427.,  345611.,  343752.,  341976.,\n",
       "           340361.,  338932.,  337649.,  336454.],\n",
       "         [ 355384.,  353983.,  352573.,  351183.,  349693.,  348306.,\n",
       "           346998.,  345650.,  344205.,  342734.,  341348.,  340112.,\n",
       "           338983.,  337843.,  336759.,  335858.],\n",
       "         [ 357335.,  356264.,  355224.,  354207.,  353064.,  352026.,\n",
       "           351186.,  350413.,  349510.,  348550.,  347764.,  347171.,\n",
       "           346587.,  345942.,  345341.,  344903.],\n",
       "         [ 363188.,  362451.,  361782.,  361155.,  360362.,  359636.,\n",
       "           359217.,  358950.,  358566.,  358036.,  357634.,  357428.,\n",
       "           357218.,  357002.,  356916.,  356895.],\n",
       "         [ 367190.,  366734.,  366387.,  366034.,  365582.,  365145.,\n",
       "           364917.,  364839.,  364694.,  364478.,  364358.,  364358.,\n",
       "           364382.,  364492.,  364730.,  364995.]]]),\n",
       " 'variance': array([[[  7774.14133703,   7977.8845709 ,   8165.7980569 ,\n",
       "            8351.30580615,   8508.2999653 ,   8620.48918575,\n",
       "            8719.35108721,   8779.48137867,   8890.60444136,\n",
       "            9140.81118436,   9485.99282905,   9948.43164469,\n",
       "           10467.23265094,  11102.54053898,  11854.72467037,  12685.82436965],\n",
       "         [  9625.38908166,   9833.41770761,  10035.24144113,\n",
       "           10219.38977562,  10386.47305112,  10560.28608605,\n",
       "           10699.39688873,  10845.99462179,  11090.41007402,\n",
       "           11493.77515614,  11967.50375896,  12499.0277585 ,\n",
       "           13161.9278279 ,  14006.67239186,  15032.07055286,  16134.06864446],\n",
       "         [ 10603.47305112,  10789.59536202,  11005.95205876,\n",
       "           11156.04782558,  11314.42210271,  11575.64486468,\n",
       "           11801.43997224,  11959.36271108,  12249.76283831,\n",
       "           12765.75358547,  13377.52394171,  13970.41360167,\n",
       "           14688.11444599,  15572.80407125,  16699.42464724,  18031.39324543],\n",
       "         [ 10482.07541059,  10621.14706223,  10783.77856812,\n",
       "           10882.40405968,  11024.88752024,  11237.60791117,\n",
       "           11434.65024289,  11662.5382836 ,  12013.18546149,\n",
       "           12500.98380754,  13038.10594495,  13675.78255841,\n",
       "           14306.55441823,  15033.03880407,  16023.07997918,  17337.24473745],\n",
       "         [  9699.81743003,   9823.52579227,   9956.43442054,\n",
       "           10076.08622484,  10206.26092991,  10366.3018737 ,\n",
       "           10495.59541985,  10670.97912329,  10915.15174647,\n",
       "           11275.01434189,  11793.4827666 ,  12453.84796438,\n",
       "           13005.89052741,  13518.80291464,  14234.90556327,  15267.46350914],\n",
       "         [  8512.90261393,   8632.19587092,   8744.31436502,\n",
       "            8947.47276197,   9102.57992135,   9193.57992135,\n",
       "            9231.03556558,   9323.45523942,   9484.73213046,\n",
       "            9667.67568818,   9957.52648624,  10385.77145501,\n",
       "           10826.15938006,  11187.68332177,  11536.72449688,  12135.5019084 ],\n",
       "         [  7473.26139255,   7592.61878325,   7709.6462526 ,\n",
       "            7920.39671524,   8083.17950497,   8138.84541985,\n",
       "            8155.88497571,   8223.80447606,   8288.93384224,\n",
       "            8269.83876937,   8201.65695119,   8182.16076799,\n",
       "            8224.4494564 ,   8259.32731899,   8329.94286375,   8458.51370576]]])}"
      ]
     },
     "execution_count": 40,
     "metadata": {},
     "output_type": "execute_result"
    }
   ],
   "source": [
    "# Statistics from the roi_sst_rdd without masking the _FillInValue of -999\n",
    "roi_sst_stats = roi_sst_rdd.stats().asDict()\n",
    "roi_sst_stats"
   ]
  },
  {
   "cell_type": "markdown",
   "metadata": {},
   "source": [
    "### 4. Transform our rdd by masking _FillValue"
   ]
  },
  {
   "cell_type": "code",
   "execution_count": 44,
   "metadata": {
    "collapsed": true
   },
   "outputs": [],
   "source": [
    "import numpy.ma as ma  # For masking arrays"
   ]
  },
  {
   "cell_type": "code",
   "execution_count": 45,
   "metadata": {
    "collapsed": true
   },
   "outputs": [],
   "source": [
    "masked_roi_sst_rdd = roi_sst_rdd.map(lambda x: ma.masked_where(x == -999, x))"
   ]
  },
  {
   "cell_type": "code",
   "execution_count": 46,
   "metadata": {},
   "outputs": [
    {
     "data": {
      "text/plain": [
       "masked_array(data =\n",
       " [[[2834 2823 2812 2799 2783 2766 2749 2731 2711 2691 2670 2648 2626 2604\n",
       "   2581 2557]\n",
       "  [2806 2794 2781 2768 2753 2739 2721 2703 2683 2661 2639 2616 2594 2571\n",
       "   2547 2523]\n",
       "  [2763 2749 2735 2722 2707 2693 2677 2660 2641 2620 2598 2576 2553 2530\n",
       "   2506 2480]\n",
       "  [2736 2725 2712 2701 2687 2675 2661 2645 2627 2610 2593 2575 2556 2535\n",
       "   2510 2484]\n",
       "  [2760 2752 2744 2736 2726 2717 2707 2695 2682 2669 2656 2642 2627 2610\n",
       "   2588 2566]\n",
       "  [2810 2806 2803 2800 2794 2788 2784 2778 2771 2761 2749 2737 2724 2709\n",
       "   2692 2674]\n",
       "  [2848 2848 2850 2851 2851 2849 2848 2847 2844 2838 2828 2818 2807 2795\n",
       "   2780 2764]]],\n",
       "             mask =\n",
       " [[[False False False False False False False False False False False False\n",
       "   False False False False]\n",
       "  [False False False False False False False False False False False False\n",
       "   False False False False]\n",
       "  [False False False False False False False False False False False False\n",
       "   False False False False]\n",
       "  [False False False False False False False False False False False False\n",
       "   False False False False]\n",
       "  [False False False False False False False False False False False False\n",
       "   False False False False]\n",
       "  [False False False False False False False False False False False False\n",
       "   False False False False]\n",
       "  [False False False False False False False False False False False False\n",
       "   False False False False]]],\n",
       "       fill_value = 999999)"
      ]
     },
     "execution_count": 46,
     "metadata": {},
     "output_type": "execute_result"
    }
   ],
   "source": [
    "masked_roi_sst_rdd.first()"
   ]
  },
  {
   "cell_type": "markdown",
   "metadata": {},
   "source": [
    "For Sanity check, let's re-calculate our stats."
   ]
  },
  {
   "cell_type": "code",
   "execution_count": 47,
   "metadata": {},
   "outputs": [
    {
     "data": {
      "text/plain": [
       "{'count': 132, 'max': masked_array(data =\n",
       "  [[[ 3055.  3049.  3040.  3030.  3019.  3007.  2993.  2977.  2961.  2945.\n",
       "     2930.  2915.  2903.  2893.  2884.  2873.]\n",
       "   [ 3008.  3001.  2994.  2988.  2981.  2975.  2965.  2954.  2943.  2933.\n",
       "     2921.  2910.  2900.  2894.  2889.  2881.]\n",
       "   [ 2958.  2947.  2937.  2930.  2922.  2915.  2909.  2903.  2896.  2890.\n",
       "     2883.  2875.  2868.  2864.  2861.  2857.]\n",
       "   [ 2924.  2914.  2903.  2891.  2878.  2872.  2869.  2866.  2862.  2855.\n",
       "     2850.  2848.  2846.  2843.  2841.  2840.]\n",
       "   [ 2940.  2932.  2924.  2915.  2903.  2891.  2879.  2872.  2870.  2867.\n",
       "     2869.  2875.  2879.  2880.  2881.  2884.]\n",
       "   [ 2976.  2971.  2965.  2959.  2949.  2940.  2932.  2925.  2918.  2910.\n",
       "     2906.  2911.  2920.  2927.  2932.  2939.]\n",
       "   [ 2996.  2992.  2988.  2983.  2977.  2970.  2965.  2960.  2955.  2948.\n",
       "     2945.  2942.  2940.  2943.  2951.  2958.]]],\n",
       "              mask =\n",
       "  False,\n",
       "        fill_value = 1e+20), 'mean': masked_array(data =\n",
       "  [[[2833.1060606060605 2821.19696969697 2807.8636363636365 2794.712121212121\n",
       "    2781.1136363636365 2766.916666666667 2751.3257575757575\n",
       "    2734.7878787878785 2718.227272727273 2701.64393939394 2684.621212121212\n",
       "    2667.6363636363635 2652.2045454545455 2638.4621212121206\n",
       "    2626.022727272727 2613.6742424242425]\n",
       "   [2787.9848484848485 2776.0984848484845 2763.5530303030305\n",
       "    2751.1212121212125 2738.6515151515155 2726.795454545455\n",
       "    2713.507575757576 2698.386363636364 2683.098484848485 2667.636363636364\n",
       "    2651.507575757576 2635.681818181818 2621.6363636363635 2609.583333333333\n",
       "    2598.9242424242425 2588.1742424242425]\n",
       "   [2730.4848484848485 2718.6742424242425 2706.598484848484\n",
       "    2694.3560606060605 2681.886363636364 2670.204545454545 2658.318181818182\n",
       "    2645.439393939394 2632.0227272727266 2618.2651515151515\n",
       "    2604.181818181818 2590.7272727272725 2578.4924242424245\n",
       "    2567.6666666666665 2557.946969696969 2548.893939393939]\n",
       "   [2692.3030303030296 2681.689393939394 2671.007575757576\n",
       "    2660.4772727272725 2649.189393939394 2638.6818181818185\n",
       "    2628.7727272727275 2618.560606060606 2607.613636363637 2596.469696969697\n",
       "    2585.969696969697 2576.6060606060605 2568.0530303030305\n",
       "    2559.416666666667 2551.2045454545455 2544.378787878788]\n",
       "   [2707.0833333333335 2698.969696969697 2691.090909090909\n",
       "    2683.3863636363635 2674.7272727272725 2666.8636363636365\n",
       "    2660.4999999999995 2654.643939393939 2647.8030303030305\n",
       "    2640.530303030303 2634.575757575758 2630.0833333333335 2625.659090909091\n",
       "    2620.772727272727 2616.2196969696975 2612.9015151515155]\n",
       "   [2751.4242424242425 2745.840909090909 2740.772727272727\n",
       "    2736.0227272727275 2730.0151515151515 2724.515151515152\n",
       "    2721.340909090909 2719.3181818181815 2716.409090909091\n",
       "    2712.3939393939395 2709.3484848484845 2707.7878787878785\n",
       "    2706.19696969697 2704.560606060606 2703.909090909091 2703.7499999999995]\n",
       "   [2781.742424242424 2778.287878787879 2775.659090909091 2772.9848484848485\n",
       "    2769.5606060606056 2766.2500000000005 2764.522727272727\n",
       "    2763.931818181818 2762.833333333333 2761.196969696969 2760.287878787879\n",
       "    2760.287878787879 2760.4696969696975 2761.30303030303 2763.106060606061\n",
       "    2765.113636363636]]],\n",
       "              mask =\n",
       "  [[[False False False False False False False False False False False False\n",
       "    False False False False]\n",
       "   [False False False False False False False False False False False False\n",
       "    False False False False]\n",
       "   [False False False False False False False False False False False False\n",
       "    False False False False]\n",
       "   [False False False False False False False False False False False False\n",
       "    False False False False]\n",
       "   [False False False False False False False False False False False False\n",
       "    False False False False]\n",
       "   [False False False False False False False False False False False False\n",
       "    False False False False]\n",
       "   [False False False False False False False False False False False False\n",
       "    False False False False]]],\n",
       "        fill_value = 1e+20), 'min': masked_array(data =\n",
       "  [[[ 2648.  2635.  2621.  2608.  2594.  2580.  2563.  2545.  2528.  2510.\n",
       "     2491.  2472.  2456.  2440.  2425.  2410.]\n",
       "   [ 2579.  2568.  2558.  2548.  2537.  2526.  2512.  2495.  2479.  2462.\n",
       "     2444.  2427.  2413.  2399.  2386.  2372.]\n",
       "   [ 2519.  2509.  2500.  2491.  2480.  2468.  2454.  2439.  2424.  2409.\n",
       "     2394.  2380.  2367.  2356.  2341.  2321.]\n",
       "   [ 2487.  2475.  2463.  2453.  2443.  2433.  2424.  2417.  2408.  2393.\n",
       "     2379.  2366.  2354.  2342.  2329.  2318.]\n",
       "   [ 2498.  2487.  2478.  2469.  2462.  2454.  2449.  2446.  2441.  2432.\n",
       "     2425.  2419.  2414.  2409.  2401.  2394.]\n",
       "   [ 2546.  2537.  2530.  2523.  2515.  2508.  2505.  2503.  2499.  2495.\n",
       "     2493.  2492.  2491.  2493.  2499.  2505.]\n",
       "   [ 2593.  2585.  2579.  2571.  2562.  2555.  2551.  2547.  2543.  2540.\n",
       "     2540.  2542.  2544.  2548.  2556.  2568.]]],\n",
       "              mask =\n",
       "  False,\n",
       "        fill_value = 1e+20), 'stdev': masked_array(data =\n",
       "  [[[88.17109127732547 89.31900453374885 90.36480541065161 91.38547918653785\n",
       "    92.240446471718 92.84658952137463 93.37746562853341 93.69888675257675\n",
       "    94.29000181016099 95.6075895751102 97.3960616711677 99.74182495167801\n",
       "    102.30949443202645 105.36859370314072 108.87940425244706\n",
       "    112.6313649462294]\n",
       "   [98.10906727543721 99.16359063492231 100.17605223369934\n",
       "    101.09099750036496 101.9140473689565 102.7632526054492\n",
       "    103.43788903846925 104.14410507460528 105.31101591962098\n",
       "    107.20902553489404 109.39608657974783 111.79905079427571\n",
       "    114.72544542470642 118.34978830508106 122.60534471570485\n",
       "    127.01995372562479]\n",
       "   [102.97316665579392 103.8729770537897 104.90925630636926\n",
       "    105.62219381164202 106.36927236146008 107.59017085532163\n",
       "    108.63443271928797 109.35887120430733 110.678646713387\n",
       "    112.98563442081047 115.66124649902042 118.19650418546861\n",
       "    121.19453141947692 124.79104163058666 129.22625370734744\n",
       "    134.2810234002981]\n",
       "   [102.38200726003808 103.05894945236588 103.8449737258572\n",
       "    104.31876178176572 104.99946438073191 106.00758421534182\n",
       "    106.93292403599037 107.99323258241395 109.60467810036711\n",
       "    111.80779850950046 114.18452585593909 116.94350156553595\n",
       "    119.61000969077836 122.60929330222586 126.58230515826894\n",
       "    131.67097150644423]\n",
       "   [98.48765115498215 99.11370133474935 99.78193433954507 100.37971022494469\n",
       "    101.02604085041526 101.81503756174138 102.44801325475929\n",
       "    103.3004313799996 104.47560359467829 106.18387044128785\n",
       "    108.59780277057753 111.59680983064258 114.04337125590209\n",
       "    116.27038709251221 119.31012347351853 123.56157780287998]\n",
       "   [92.26539228727914 92.90961129465008 93.51103873353291 94.59108183106297\n",
       "    95.40744164555991 95.88315765217023 96.07827832335185 96.55804078075046\n",
       "    97.38958943575506 98.32433924608642 99.78740645109676 101.9106052136287\n",
       "    104.04883170925156 105.77184560064786 107.40914531303734\n",
       "    110.16125411594109]\n",
       "   [86.44802711775137 87.13563440551961 87.80459129568537 88.99661069526208\n",
       "    89.90650424175882 90.21554976747268 90.30993841051672 90.68519435970948\n",
       "    91.04358210351342 90.938653879267 90.56299990167786 90.45529706979683\n",
       "    90.68875044015115 90.88084131978225 91.26852066157329 91.97017835015814]]],\n",
       "              mask =\n",
       "  [[[False False False False False False False False False False False False\n",
       "    False False False False]\n",
       "   [False False False False False False False False False False False False\n",
       "    False False False False]\n",
       "   [False False False False False False False False False False False False\n",
       "    False False False False]\n",
       "   [False False False False False False False False False False False False\n",
       "    False False False False]\n",
       "   [False False False False False False False False False False False False\n",
       "    False False False False]\n",
       "   [False False False False False False False False False False False False\n",
       "    False False False False]\n",
       "   [False False False False False False False False False False False False\n",
       "    False False False False]]],\n",
       "        fill_value = 1e+20), 'sum': masked_array(data =\n",
       "  [[[373970.0 372398.00000000006 370638.0 368902.0 367107.0\n",
       "    365233.00000000006 363175.0 360991.99999999994 358806.00000000006\n",
       "    356617.00000000006 354370.0 352128.0 350091.0 348276.99999999994\n",
       "    346634.99999999994 345005.0]\n",
       "   [368014.0 366444.99999999994 364789.0 363148.00000000006\n",
       "    361502.00000000006 359937.00000000006 358183.0 356187.00000000006\n",
       "    354169.0 352128.00000000006 349999.0 347910.0 346056.0\n",
       "    344464.99999999994 343058.0 341639.0]\n",
       "   [360424.0 358865.0 357270.9999999999 355655.0 354009.00000000006\n",
       "    352466.99999999994 350898.0 349198.0 347426.9999999999 345611.0 343752.0\n",
       "    341976.0 340361.00000000006 338932.0 337648.99999999994\n",
       "    336453.99999999994]\n",
       "   [355383.9999999999 353983.0 352573.0 351183.0 349693.0 348306.00000000006\n",
       "    346998.0 345650.0 344205.00000000006 342734.0 341348.0 340112.0 338983.0\n",
       "    337843.00000000006 336759.0 335858.0]\n",
       "   [357335.0 356264.0 355224.0 354207.0 353064.0 352026.0 351185.99999999994\n",
       "    350412.99999999994 349510.0 348550.0 347764.00000000006 347171.0\n",
       "    346587.0 345941.99999999994 345341.00000000006 344903.00000000006]\n",
       "   [363188.0 362451.0 361781.99999999994 361155.0 360362.0\n",
       "    359636.00000000006 359217.0 358949.99999999994 358566.0 358036.0\n",
       "    357633.99999999994 357427.99999999994 357218.00000000006 357002.0\n",
       "    356916.0 356894.99999999994]\n",
       "   [367190.0 366734.0 366387.0 366034.0 365581.99999999994\n",
       "    365145.00000000006 364916.99999999994 364839.0 364693.99999999994\n",
       "    364477.99999999994 364358.0 364358.0 364382.00000000006\n",
       "    364491.99999999994 364730.00000000006 364994.99999999994]]],\n",
       "              mask =\n",
       "  [[[False False False False False False False False False False False False\n",
       "    False False False False]\n",
       "   [False False False False False False False False False False False False\n",
       "    False False False False]\n",
       "   [False False False False False False False False False False False False\n",
       "    False False False False]\n",
       "   [False False False False False False False False False False False False\n",
       "    False False False False]\n",
       "   [False False False False False False False False False False False False\n",
       "    False False False False]\n",
       "   [False False False False False False False False False False False False\n",
       "    False False False False]\n",
       "   [False False False False False False False False False False False False\n",
       "    False False False False]]],\n",
       "        fill_value = 1e+20), 'variance': masked_array(data =\n",
       "  [[[7774.141337034459 7977.884570899849 8165.7980569049305 8351.305806153143\n",
       "    8508.299965301874 8620.489185750634 8719.351087207939 8779.481378672204\n",
       "    8890.604441360163 9140.81118436272 9485.992829053903 9948.43164469118\n",
       "    10467.232650936852 11102.540538977546 11854.724670367787\n",
       "    12685.82436965071]\n",
       "   [9625.389081656265 9833.417707610453 10035.24144112886 10219.389775618794\n",
       "    10386.47305112191 10560.286086051361 10699.396888734678\n",
       "    10845.994621790423 11090.410074022664 11493.775156141563\n",
       "    11967.503758963683 12499.027758501043 13161.92782789729\n",
       "    14006.672391857503 15032.070552856814 16134.068644459861]\n",
       "   [10603.47305112191 10789.595362017122 11005.952058755478\n",
       "    11156.04782558407 11314.422102706476 11575.644864677299\n",
       "    11801.439972241504 11959.362711080279 12249.76283830673\n",
       "    12765.753585473032 13377.523941707163 13970.413601665497\n",
       "    14688.114445986579 15572.804071246812 16699.42464723573 18031.3932454314]\n",
       "   [10482.075410594489 10621.147062225305 10783.778568123973\n",
       "    10882.404059680784 11024.887520240589 11237.607911172789\n",
       "    11434.650242886888 11662.538283599355 12013.185461485094\n",
       "    12500.983807541053 13038.105944945622 13675.782558408511\n",
       "    14306.554418228092 15033.038804071248 16023.079979181119\n",
       "    17337.244737450852]\n",
       "   [9699.817430025456 9823.525792273895 9956.434420541284 10076.086224843864\n",
       "    10206.260929909773 10366.301873698807 10495.595419847334\n",
       "    10670.979123294004 10915.151746472357 11275.014341892205\n",
       "    11793.482766597255 12453.847964376604 13005.890527411515\n",
       "    13518.802914642629 14234.905563266238 15267.463509137164]\n",
       "   [8512.90261392551 8632.19587092297 8744.314365024293 8947.47276197085\n",
       "    9102.57992135092 9193.579921350929 9231.035565579463 9323.45523941707\n",
       "    9484.732130464934 9667.675688179492 9957.526486236387 10385.771455008084\n",
       "    10826.159380060153 11187.683321767292 11536.724496877172\n",
       "    12135.501908396947]\n",
       "   [7473.261392551474 7592.618783252374 7709.646252602347 7920.396715244036\n",
       "    8083.179504973398 8138.845419847339 8155.884975711323 8223.804476058285\n",
       "    8288.933842239188 8269.838769373122 8201.656951191304 8182.160767985195\n",
       "    8224.449456396016 8259.32731899144 8329.94286375203 8458.513705759897]]],\n",
       "              mask =\n",
       "  [[[False False False False False False False False False False False False\n",
       "    False False False False]\n",
       "   [False False False False False False False False False False False False\n",
       "    False False False False]\n",
       "   [False False False False False False False False False False False False\n",
       "    False False False False]\n",
       "   [False False False False False False False False False False False False\n",
       "    False False False False]\n",
       "   [False False False False False False False False False False False False\n",
       "    False False False False]\n",
       "   [False False False False False False False False False False False False\n",
       "    False False False False]\n",
       "   [False False False False False False False False False False False False\n",
       "    False False False False]]],\n",
       "        fill_value = 1e+20)}"
      ]
     },
     "execution_count": 47,
     "metadata": {},
     "output_type": "execute_result"
    }
   ],
   "source": [
    "masked_roi_sst_rdd_stats = masked_roi_sst_rdd.stats().asDict()\n",
    "masked_roi_sst_rdd_stats"
   ]
  },
  {
   "cell_type": "markdown",
   "metadata": {},
   "source": [
    "**Comparison of the mean values before masking _FillValue and "
   ]
  },
  {
   "cell_type": "code",
   "execution_count": 49,
   "metadata": {},
   "outputs": [
    {
     "data": {
      "text/plain": [
       "array([[[ 2833.10606061,  2821.1969697 ,  2807.86363636,  2794.71212121,\n",
       "          2781.11363636,  2766.91666667,  2751.32575758,  2734.78787879,\n",
       "          2718.22727273,  2701.64393939,  2684.62121212,  2667.63636364,\n",
       "          2652.20454545,  2638.46212121,  2626.02272727,  2613.67424242],\n",
       "        [ 2787.98484848,  2776.09848485,  2763.5530303 ,  2751.12121212,\n",
       "          2738.65151515,  2726.79545455,  2713.50757576,  2698.38636364,\n",
       "          2683.09848485,  2667.63636364,  2651.50757576,  2635.68181818,\n",
       "          2621.63636364,  2609.58333333,  2598.92424242,  2588.17424242],\n",
       "        [ 2730.48484848,  2718.67424242,  2706.59848485,  2694.35606061,\n",
       "          2681.88636364,  2670.20454545,  2658.31818182,  2645.43939394,\n",
       "          2632.02272727,  2618.26515152,  2604.18181818,  2590.72727273,\n",
       "          2578.49242424,  2567.66666667,  2557.9469697 ,  2548.89393939],\n",
       "        [ 2692.3030303 ,  2681.68939394,  2671.00757576,  2660.47727273,\n",
       "          2649.18939394,  2638.68181818,  2628.77272727,  2618.56060606,\n",
       "          2607.61363636,  2596.46969697,  2585.96969697,  2576.60606061,\n",
       "          2568.0530303 ,  2559.41666667,  2551.20454545,  2544.37878788],\n",
       "        [ 2707.08333333,  2698.96969697,  2691.09090909,  2683.38636364,\n",
       "          2674.72727273,  2666.86363636,  2660.5       ,  2654.64393939,\n",
       "          2647.8030303 ,  2640.53030303,  2634.57575758,  2630.08333333,\n",
       "          2625.65909091,  2620.77272727,  2616.21969697,  2612.90151515],\n",
       "        [ 2751.42424242,  2745.84090909,  2740.77272727,  2736.02272727,\n",
       "          2730.01515152,  2724.51515152,  2721.34090909,  2719.31818182,\n",
       "          2716.40909091,  2712.39393939,  2709.34848485,  2707.78787879,\n",
       "          2706.1969697 ,  2704.56060606,  2703.90909091,  2703.75      ],\n",
       "        [ 2781.74242424,  2778.28787879,  2775.65909091,  2772.98484848,\n",
       "          2769.56060606,  2766.25      ,  2764.52272727,  2763.93181818,\n",
       "          2762.83333333,  2761.1969697 ,  2760.28787879,  2760.28787879,\n",
       "          2760.46969697,  2761.3030303 ,  2763.10606061,  2765.11363636]]])"
      ]
     },
     "execution_count": 49,
     "metadata": {},
     "output_type": "execute_result"
    }
   ],
   "source": [
    "means = roi_sst_stats[\"mean\"]\n",
    "means"
   ]
  },
  {
   "cell_type": "code",
   "execution_count": 51,
   "metadata": {},
   "outputs": [
    {
     "data": {
      "text/plain": [
       "array([[[ 2833.10606061,  2821.1969697 ,  2807.86363636,  2794.71212121,\n",
       "          2781.11363636,  2766.91666667,  2751.32575758,  2734.78787879,\n",
       "          2718.22727273,  2701.64393939,  2684.62121212,  2667.63636364,\n",
       "          2652.20454545,  2638.46212121,  2626.02272727,  2613.67424242],\n",
       "        [ 2787.98484848,  2776.09848485,  2763.5530303 ,  2751.12121212,\n",
       "          2738.65151515,  2726.79545455,  2713.50757576,  2698.38636364,\n",
       "          2683.09848485,  2667.63636364,  2651.50757576,  2635.68181818,\n",
       "          2621.63636364,  2609.58333333,  2598.92424242,  2588.17424242],\n",
       "        [ 2730.48484848,  2718.67424242,  2706.59848485,  2694.35606061,\n",
       "          2681.88636364,  2670.20454545,  2658.31818182,  2645.43939394,\n",
       "          2632.02272727,  2618.26515152,  2604.18181818,  2590.72727273,\n",
       "          2578.49242424,  2567.66666667,  2557.9469697 ,  2548.89393939],\n",
       "        [ 2692.3030303 ,  2681.68939394,  2671.00757576,  2660.47727273,\n",
       "          2649.18939394,  2638.68181818,  2628.77272727,  2618.56060606,\n",
       "          2607.61363636,  2596.46969697,  2585.96969697,  2576.60606061,\n",
       "          2568.0530303 ,  2559.41666667,  2551.20454545,  2544.37878788],\n",
       "        [ 2707.08333333,  2698.96969697,  2691.09090909,  2683.38636364,\n",
       "          2674.72727273,  2666.86363636,  2660.5       ,  2654.64393939,\n",
       "          2647.8030303 ,  2640.53030303,  2634.57575758,  2630.08333333,\n",
       "          2625.65909091,  2620.77272727,  2616.21969697,  2612.90151515],\n",
       "        [ 2751.42424242,  2745.84090909,  2740.77272727,  2736.02272727,\n",
       "          2730.01515152,  2724.51515152,  2721.34090909,  2719.31818182,\n",
       "          2716.40909091,  2712.39393939,  2709.34848485,  2707.78787879,\n",
       "          2706.1969697 ,  2704.56060606,  2703.90909091,  2703.75      ],\n",
       "        [ 2781.74242424,  2778.28787879,  2775.65909091,  2772.98484848,\n",
       "          2769.56060606,  2766.25      ,  2764.52272727,  2763.93181818,\n",
       "          2762.83333333,  2761.1969697 ,  2760.28787879,  2760.28787879,\n",
       "          2760.46969697,  2761.3030303 ,  2763.10606061,  2765.11363636]]])"
      ]
     },
     "execution_count": 51,
     "metadata": {},
     "output_type": "execute_result"
    }
   ],
   "source": [
    "masked_roi_means = masked_roi_sst_rdd_stats[\"mean\"].data\n",
    "masked_roi_means"
   ]
  },
  {
   "cell_type": "code",
   "execution_count": 52,
   "metadata": {},
   "outputs": [
    {
     "data": {
      "text/plain": [
       "(1, 7, 16)"
      ]
     },
     "execution_count": 52,
     "metadata": {},
     "output_type": "execute_result"
    }
   ],
   "source": [
    "masked_roi_means.shape"
   ]
  },
  {
   "cell_type": "markdown",
   "metadata": {},
   "source": [
    "# C. Global Temperature average from the region of interest"
   ]
  },
  {
   "cell_type": "code",
   "execution_count": 54,
   "metadata": {},
   "outputs": [
    {
     "data": {
      "text/plain": [
       "26.866728896103897"
      ]
     },
     "execution_count": 54,
     "metadata": {},
     "output_type": "execute_result"
    }
   ],
   "source": [
    "# Find the global temperature average from the array of means \n",
    "global_temp_avg = masked_roi_means.mean() * 0.01  # scale_factor = 0.01\n",
    "global_temp_avg"
   ]
  },
  {
   "cell_type": "code",
   "execution_count": null,
   "metadata": {
    "collapsed": true
   },
   "outputs": [],
   "source": []
  }
 ],
 "metadata": {
  "kernelspec": {
   "display_name": "Python 2",
   "language": "python",
   "name": "python2"
  },
  "language_info": {
   "codemirror_mode": {
    "name": "ipython",
    "version": 2
   },
   "file_extension": ".py",
   "mimetype": "text/x-python",
   "name": "python",
   "nbconvert_exporter": "python",
   "pygments_lexer": "ipython2",
   "version": "2.7.13"
  }
 },
 "nbformat": 4,
 "nbformat_minor": 1
}
