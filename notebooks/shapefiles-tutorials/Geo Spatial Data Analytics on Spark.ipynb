{
 "cells": [
  {
   "cell_type": "code",
   "execution_count": 1,
   "metadata": {
    "collapsed": true
   },
   "outputs": [],
   "source": [
    "import os\n",
    "from pyspark.sql import SparkSession"
   ]
  },
  {
   "cell_type": "markdown",
   "metadata": {
    "collapsed": true
   },
   "source": [
    "os.environ['PYSPARK_SUBMIT_ARGS'] = '--packages harsha2010:magellan:1.0.4-s_2.11 pyspark-shell'"
   ]
  },
  {
   "cell_type": "markdown",
   "metadata": {
    "collapsed": true
   },
   "source": [
    "os.environ['PYSPARK_SUBMIT_ARGS'] = '--packages harsha2010:magellan:1.0.1-s_2.10 pyspark-shell'"
   ]
  },
  {
   "cell_type": "code",
   "execution_count": 2,
   "metadata": {
    "collapsed": true
   },
   "outputs": [],
   "source": [
    "spark = SparkSession.builder.appName(\"pyspark-shapefiles\").getOrCreate()"
   ]
  },
  {
   "cell_type": "code",
   "execution_count": 3,
   "metadata": {
    "collapsed": true
   },
   "outputs": [],
   "source": [
    "sc = spark.sparkContext"
   ]
  },
  {
   "cell_type": "code",
   "execution_count": 4,
   "metadata": {
    "collapsed": true
   },
   "outputs": [],
   "source": [
    "from magellan.types import Point, Polygon\n",
    "from pyspark.sql import Row\n",
    "from pyspark.sql.functions import *"
   ]
  },
  {
   "cell_type": "markdown",
   "metadata": {},
   "source": [
    "# Dataset"
   ]
  },
  {
   "cell_type": "code",
   "execution_count": 5,
   "metadata": {
    "collapsed": true
   },
   "outputs": [],
   "source": [
    "df = spark.read.format(\"magellan\").load('/Users/abanihi/Documents/shapefiles/mrb/').cache()"
   ]
  },
  {
   "cell_type": "code",
   "execution_count": 6,
   "metadata": {},
   "outputs": [
    {
     "name": "stdout",
     "output_type": "stream",
     "text": [
      "+-----+--------+--------------------+----------------+-----+\n",
      "|point|polyline|             polygon|        metadata|valid|\n",
      "+-----+--------+--------------------+----------------+-----+\n",
      "| null|    null|magellan.Polygon@...|Map(mrb ->    1)| true|\n",
      "+-----+--------+--------------------+----------------+-----+\n",
      "\n"
     ]
    }
   ],
   "source": [
    "df.show()"
   ]
  },
  {
   "cell_type": "code",
   "execution_count": 7,
   "metadata": {},
   "outputs": [
    {
     "name": "stdout",
     "output_type": "stream",
     "text": [
      "root\n",
      " |-- point: point (nullable = true)\n",
      " |-- polyline: polyline (nullable = true)\n",
      " |-- polygon: polygon (nullable = true)\n",
      " |-- metadata: map (nullable = true)\n",
      " |    |-- key: string\n",
      " |    |-- value: string (valueContainsNull = true)\n",
      " |-- valid: boolean (nullable = true)\n",
      "\n"
     ]
    }
   ],
   "source": [
    "df.printSchema()"
   ]
  },
  {
   "cell_type": "code",
   "execution_count": 8,
   "metadata": {},
   "outputs": [
    {
     "name": "stdout",
     "output_type": "stream",
     "text": [
      "+-------------+--------------------+\n",
      "|metadata[mrb]|             polygon|\n",
      "+-------------+--------------------+\n",
      "|            1|magellan.Polygon@...|\n",
      "+-------------+--------------------+\n",
      "\n"
     ]
    }
   ],
   "source": [
    "states_df = df.select(df['metadata']['mrb'], df['polygon'])\n",
    "states_df.show()"
   ]
  },
  {
   "cell_type": "code",
   "execution_count": 9,
   "metadata": {
    "collapsed": true
   },
   "outputs": [],
   "source": [
    "states_df.createOrReplaceTempView(\"states\")"
   ]
  },
  {
   "cell_type": "code",
   "execution_count": 10,
   "metadata": {},
   "outputs": [
    {
     "name": "stdout",
     "output_type": "stream",
     "text": [
      "+-------------+--------------------+\n",
      "|metadata[mrb]|             polygon|\n",
      "+-------------+--------------------+\n",
      "|            1|magellan.Polygon@...|\n",
      "+-------------+--------------------+\n",
      "\n"
     ]
    }
   ],
   "source": [
    "spark.sql(\"\"\"\n",
    "     SELECT *\n",
    "     FROM states\n",
    "\"\"\").show()"
   ]
  },
  {
   "cell_type": "code",
   "execution_count": 11,
   "metadata": {},
   "outputs": [
    {
     "data": {
      "image/svg+xml": [
       "<svg xmlns=\"http://www.w3.org/2000/svg\" xmlns:xlink=\"http://www.w3.org/1999/xlink\" width=\"100.0\" height=\"100.0\" viewBox=\"39.0 99.0 2.0 2.0\" preserveAspectRatio=\"xMinYMin meet\"><g transform=\"matrix(1,0,0,-1,0,200.0)\"><circle cx=\"40.0\" cy=\"100.0\" r=\"0.06\" stroke=\"#555555\" stroke-width=\"0.02\" fill=\"#66cc99\" opacity=\"0.6\" /></g></svg>"
      ],
      "text/plain": [
       "<shapely.geometry.point.Point at 0x1041220d0>"
      ]
     },
     "execution_count": 11,
     "metadata": {},
     "output_type": "execute_result"
    }
   ],
   "source": [
    "a = Point(40.0, 100.0).toShapely()\n",
    "a"
   ]
  },
  {
   "cell_type": "code",
   "execution_count": 18,
   "metadata": {},
   "outputs": [],
   "source": [
    "c = Polygon([43, 35])"
   ]
  },
  {
   "cell_type": "code",
   "execution_count": 21,
   "metadata": {},
   "outputs": [],
   "source": [
    "square = [\n",
    "  Point(1.0, 1.0),\n",
    "  Point(1.0, -1.0),\n",
    "  Point(-1.0, -1.0),\n",
    "  Point(-1.0, 1.0),\n",
    "  Point(1.0, 1.0)\n",
    "]\n"
   ]
  },
  {
   "cell_type": "code",
   "execution_count": 25,
   "metadata": {},
   "outputs": [],
   "source": [
    "c =  [0, Polygon([0], square)]"
   ]
  },
  {
   "cell_type": "code",
   "execution_count": 31,
   "metadata": {},
   "outputs": [],
   "source": [
    "d = c[1].toShapely()"
   ]
  },
  {
   "cell_type": "code",
   "execution_count": null,
   "metadata": {},
   "outputs": [],
   "source": [
    "b = states_df.select(d.contains(states_df['polygon']))"
   ]
  },
  {
   "cell_type": "code",
   "execution_count": 11,
   "metadata": {},
   "outputs": [
    {
     "name": "stdout",
     "output_type": "stream",
     "text": [
      "+---+--------------------+\n",
      "| id|               point|\n",
      "+---+--------------------+\n",
      "|  0|Point(-30.0, -100.0)|\n",
      "|  1|    Point(31.0, 0.0)|\n",
      "|  2|    Point(1.0, -1.0)|\n",
      "+---+--------------------+\n",
      "\n"
     ]
    }
   ],
   "source": [
    "PointRecord = Row(\"id\", \"point\")\n",
    "points = sc.parallelize([\n",
    "  (0, Point(-30.0, -100.0)),\n",
    "  (1, Point(31.0, 100)),\n",
    "  (2, Point(1.0, -1.0))])\\\n",
    ".map(lambda x: PointRecord(*x))\\\n",
    ".toDF()\n",
    "\n",
    "points.show()"
   ]
  },
  {
   "cell_type": "code",
   "execution_count": 12,
   "metadata": {},
   "outputs": [
    {
     "data": {
      "text/plain": [
       "Point (40.0,100.0)"
      ]
     },
     "execution_count": 12,
     "metadata": {},
     "output_type": "execute_result"
    }
   ],
   "source": [
    "a = Point(40.0, 100.0)\n",
    "a"
   ]
  },
  {
   "cell_type": "code",
   "execution_count": 13,
   "metadata": {
    "collapsed": true
   },
   "outputs": [],
   "source": [
    "a = a.toShapely()"
   ]
  },
  {
   "cell_type": "code",
   "execution_count": 18,
   "metadata": {},
   "outputs": [
    {
     "data": {
      "text/plain": [
       "0.0"
      ]
     },
     "execution_count": 18,
     "metadata": {},
     "output_type": "execute_result"
    }
   ],
   "source": [
    "a."
   ]
  },
  {
   "cell_type": "code",
   "execution_count": 23,
   "metadata": {
    "collapsed": true
   },
   "outputs": [],
   "source": [
    "b = df.select(df['polygon'])"
   ]
  },
  {
   "cell_type": "code",
   "execution_count": 26,
   "metadata": {},
   "outputs": [
    {
     "ename": "AttributeError",
     "evalue": "'Point' object has no attribute '_jdf'",
     "output_type": "error",
     "traceback": [
      "\u001b[0;31m---------------------------------------------------------------------------\u001b[0m",
      "\u001b[0;31mAttributeError\u001b[0m                            Traceback (most recent call last)",
      "\u001b[0;32m<ipython-input-26-e7858d076f07>\u001b[0m in \u001b[0;36m<module>\u001b[0;34m()\u001b[0m\n\u001b[0;32m----> 1\u001b[0;31m \u001b[0mb\u001b[0m\u001b[0;34m.\u001b[0m\u001b[0mintersect\u001b[0m\u001b[0;34m(\u001b[0m\u001b[0ma\u001b[0m\u001b[0;34m)\u001b[0m\u001b[0;34m\u001b[0m\u001b[0m\n\u001b[0m",
      "\u001b[0;32m/usr/local/Cellar/apache-spark/2.1.1/libexec/python/pyspark/sql/dataframe.pyc\u001b[0m in \u001b[0;36mintersect\u001b[0;34m(self, other)\u001b[0m\n\u001b[1;32m   1144\u001b[0m         \u001b[0mThis\u001b[0m \u001b[0;32mis\u001b[0m \u001b[0mequivalent\u001b[0m \u001b[0mto\u001b[0m \u001b[0;34m`\u001b[0m\u001b[0mINTERSECT\u001b[0m\u001b[0;34m`\u001b[0m \u001b[0;32min\u001b[0m \u001b[0mSQL\u001b[0m\u001b[0;34m.\u001b[0m\u001b[0;34m\u001b[0m\u001b[0m\n\u001b[1;32m   1145\u001b[0m         \"\"\"\n\u001b[0;32m-> 1146\u001b[0;31m         \u001b[0;32mreturn\u001b[0m \u001b[0mDataFrame\u001b[0m\u001b[0;34m(\u001b[0m\u001b[0mself\u001b[0m\u001b[0;34m.\u001b[0m\u001b[0m_jdf\u001b[0m\u001b[0;34m.\u001b[0m\u001b[0mintersect\u001b[0m\u001b[0;34m(\u001b[0m\u001b[0mother\u001b[0m\u001b[0;34m.\u001b[0m\u001b[0m_jdf\u001b[0m\u001b[0;34m)\u001b[0m\u001b[0;34m,\u001b[0m \u001b[0mself\u001b[0m\u001b[0;34m.\u001b[0m\u001b[0msql_ctx\u001b[0m\u001b[0;34m)\u001b[0m\u001b[0;34m\u001b[0m\u001b[0m\n\u001b[0m\u001b[1;32m   1147\u001b[0m \u001b[0;34m\u001b[0m\u001b[0m\n\u001b[1;32m   1148\u001b[0m     \u001b[0;34m@\u001b[0m\u001b[0msince\u001b[0m\u001b[0;34m(\u001b[0m\u001b[0;36m1.3\u001b[0m\u001b[0;34m)\u001b[0m\u001b[0;34m\u001b[0m\u001b[0m\n",
      "\u001b[0;31mAttributeError\u001b[0m: 'Point' object has no attribute '_jdf'"
     ]
    }
   ],
   "source": [
    "b."
   ]
  },
  {
   "cell_type": "markdown",
   "metadata": {
    "collapsed": true
   },
   "source": [
    "# Uber Dataset"
   ]
  },
  {
   "cell_type": "code",
   "execution_count": 5,
   "metadata": {
    "collapsed": true
   },
   "outputs": [],
   "source": [
    "uber_df = spark.read.format(\"csv\")\\\n",
    "                    .option(\"delimiter\", \"\\t\")\\\n",
    "                    .option(\"header\", \"false\")\\\n",
    "                    .option(\"nullValue\", \"?\")\\\n",
    "                    .option(\"inferSchema\", \"true\")\\\n",
    "                    .load(\"/Users/abanihi/Documents/shapefiles/uber/all.tsv\").repartition(20).cache()"
   ]
  },
  {
   "cell_type": "code",
   "execution_count": 7,
   "metadata": {
    "collapsed": true
   },
   "outputs": [],
   "source": [
    "uber = sc.textFile(\"/Users/abanihi/Documents/shapefiles/uber/all.tsv\")\\\n",
    "         .map(lambda x: x.split(\"\\t\"))\\\n",
    "         .map(lambda x: Row(tripId = str(x[0]), timestamp = ))"
   ]
  },
  {
   "cell_type": "code",
   "execution_count": 8,
   "metadata": {},
   "outputs": [
    {
     "data": {
      "text/plain": [
       "[u'00001', u'2007-01-07T10:54:50+00:00', u'37.782551', u'-122.445368']"
      ]
     },
     "execution_count": 8,
     "metadata": {},
     "output_type": "execute_result"
    }
   ],
   "source": [
    "uber.first()"
   ]
  },
  {
   "cell_type": "code",
   "execution_count": 6,
   "metadata": {},
   "outputs": [
    {
     "name": "stdout",
     "output_type": "stream",
     "text": [
      "+---+--------------------+---------+-----------+\n",
      "|_c0|                 _c1|      _c2|        _c3|\n",
      "+---+--------------------+---------+-----------+\n",
      "|  1|2007-01-07 03:56:...|37.784965|-122.439938|\n",
      "|  2|2007-01-05 23:23:...|37.800702|-122.436298|\n",
      "|  3|2007-01-01 23:01:...|37.787169|-122.417145|\n",
      "|  4|2007-01-06 01:45:...|37.787282|-122.394426|\n",
      "|  5|2007-01-01 20:54:...|37.776842|-122.438442|\n",
      "|  5|2007-01-01 20:56:...|37.778847|-122.438706|\n",
      "|  6|2007-01-03 18:04:...| 37.79932|-122.429251|\n",
      "|  6|2007-01-03 18:07:...|37.802693|-122.429179|\n",
      "|  7|2007-01-07 09:10:...|37.762278|-122.415127|\n",
      "|  8|2007-01-02 17:54:...|37.771248|-122.424327|\n",
      "|  8|2007-01-02 17:56:...| 37.76658|-122.430211|\n",
      "|  8|2007-01-02 17:59:...|37.759913|-122.444698|\n",
      "|  8|2007-01-02 18:01:...|37.750448|-122.444013|\n",
      "|  9|2007-01-06 22:08:...|37.788483|-122.395963|\n",
      "|  9|2007-01-06 22:10:...|37.785114|-122.394365|\n",
      "| 10|2007-01-04 14:02:...|37.784577|-122.399948|\n",
      "| 11|2007-01-06 02:08:...|37.801069|-122.422785|\n",
      "| 13|2007-01-04 03:00:...| 37.77644|  -122.4118|\n",
      "| 13|2007-01-04 03:02:...|37.779295|-122.404455|\n",
      "| 13|2007-01-04 03:04:...|37.784835|-122.399927|\n",
      "+---+--------------------+---------+-----------+\n",
      "only showing top 20 rows\n",
      "\n"
     ]
    }
   ],
   "source": [
    "uber_df.show()"
   ]
  },
  {
   "cell_type": "code",
   "execution_count": 9,
   "metadata": {},
   "outputs": [
    {
     "name": "stdout",
     "output_type": "stream",
     "text": [
      "root\n",
      " |-- _c0: integer (nullable = true)\n",
      " |-- _c1: timestamp (nullable = true)\n",
      " |-- _c2: double (nullable = true)\n",
      " |-- _c3: double (nullable = true)\n",
      "\n"
     ]
    }
   ],
   "source": [
    "uber_df.printSchema()"
   ]
  },
  {
   "cell_type": "code",
   "execution_count": null,
   "metadata": {
    "collapsed": true
   },
   "outputs": [],
   "source": [
    "df = df.withColumn('joined_column', \n",
    "                    sf.concat(sf.col('colname1'),sf.lit('_'), sf.col('colname2')))\n",
    "df.show()\n"
   ]
  },
  {
   "cell_type": "code",
   "execution_count": 20,
   "metadata": {},
   "outputs": [
    {
     "ename": "Py4JJavaError",
     "evalue": "An error occurred while calling o24.parseDataType.\n: java.lang.ClassNotFoundException: magellan.PointUDT\n\tat java.net.URLClassLoader.findClass(URLClassLoader.java:381)\n\tat java.lang.ClassLoader.loadClass(ClassLoader.java:424)\n\tat java.lang.ClassLoader.loadClass(ClassLoader.java:357)\n\tat java.lang.Class.forName0(Native Method)\n\tat java.lang.Class.forName(Class.java:348)\n\tat org.apache.spark.util.Utils$.classForName(Utils.scala:229)\n\tat org.apache.spark.sql.types.DataType$.parseDataType(DataType.scala:158)\n\tat org.apache.spark.sql.types.DataType$.fromJson(DataType.scala:104)\n\tat org.apache.spark.sql.SparkSession.parseDataType(SparkSession.scala:681)\n\tat sun.reflect.NativeMethodAccessorImpl.invoke0(Native Method)\n\tat sun.reflect.NativeMethodAccessorImpl.invoke(NativeMethodAccessorImpl.java:62)\n\tat sun.reflect.DelegatingMethodAccessorImpl.invoke(DelegatingMethodAccessorImpl.java:43)\n\tat java.lang.reflect.Method.invoke(Method.java:498)\n\tat py4j.reflection.MethodInvoker.invoke(MethodInvoker.java:244)\n\tat py4j.reflection.ReflectionEngine.invoke(ReflectionEngine.java:357)\n\tat py4j.Gateway.invoke(Gateway.java:280)\n\tat py4j.commands.AbstractCommand.invokeMethod(AbstractCommand.java:132)\n\tat py4j.commands.CallCommand.execute(CallCommand.java:79)\n\tat py4j.GatewayConnection.run(GatewayConnection.java:214)\n\tat java.lang.Thread.run(Thread.java:748)\n",
     "output_type": "error",
     "traceback": [
      "\u001b[0;31m-------------------------------------------------------------------------\u001b[0m",
      "\u001b[0;31mPy4JJavaError\u001b[0m                           Traceback (most recent call last)",
      "\u001b[0;32m<ipython-input-20-0f9bdae30c45>\u001b[0m in \u001b[0;36m<module>\u001b[0;34m()\u001b[0m\n\u001b[0;32m----> 1\u001b[0;31m \u001b[0ma\u001b[0m \u001b[0;34m=\u001b[0m \u001b[0muber_df\u001b[0m\u001b[0;34m.\u001b[0m\u001b[0mwithColumn\u001b[0m\u001b[0;34m(\u001b[0m\u001b[0;34m'Joined'\u001b[0m\u001b[0;34m,\u001b[0m \u001b[0mconcat\u001b[0m\u001b[0;34m(\u001b[0m\u001b[0mcol\u001b[0m\u001b[0;34m(\u001b[0m\u001b[0;34m'_c2'\u001b[0m\u001b[0;34m)\u001b[0m\u001b[0;34m,\u001b[0m \u001b[0mlit\u001b[0m\u001b[0;34m(\u001b[0m\u001b[0;34m','\u001b[0m\u001b[0;34m)\u001b[0m\u001b[0;34m,\u001b[0m \u001b[0mcol\u001b[0m\u001b[0;34m(\u001b[0m\u001b[0;34m'_c3'\u001b[0m\u001b[0;34m)\u001b[0m\u001b[0;34m)\u001b[0m\u001b[0;34m.\u001b[0m\u001b[0mcast\u001b[0m\u001b[0;34m(\u001b[0m\u001b[0mPoint\u001b[0m\u001b[0;34m(\u001b[0m\u001b[0;34m)\u001b[0m\u001b[0;34m)\u001b[0m\u001b[0;34m)\u001b[0m\u001b[0;34m\u001b[0m\u001b[0m\n\u001b[0m",
      "\u001b[0;32m/usr/local/Cellar/apache-spark/2.1.1/libexec/python/pyspark/sql/column.pyc\u001b[0m in \u001b[0;36mcast\u001b[0;34m(self, dataType)\u001b[0m\n\u001b[1;32m    331\u001b[0m             \u001b[0;32mfrom\u001b[0m \u001b[0mpyspark\u001b[0m\u001b[0;34m.\u001b[0m\u001b[0msql\u001b[0m \u001b[0;32mimport\u001b[0m \u001b[0mSparkSession\u001b[0m\u001b[0;34m\u001b[0m\u001b[0m\n\u001b[1;32m    332\u001b[0m             \u001b[0mspark\u001b[0m \u001b[0;34m=\u001b[0m \u001b[0mSparkSession\u001b[0m\u001b[0;34m.\u001b[0m\u001b[0mbuilder\u001b[0m\u001b[0;34m.\u001b[0m\u001b[0mgetOrCreate\u001b[0m\u001b[0;34m(\u001b[0m\u001b[0;34m)\u001b[0m\u001b[0;34m\u001b[0m\u001b[0m\n\u001b[0;32m--> 333\u001b[0;31m             \u001b[0mjdt\u001b[0m \u001b[0;34m=\u001b[0m \u001b[0mspark\u001b[0m\u001b[0;34m.\u001b[0m\u001b[0m_jsparkSession\u001b[0m\u001b[0;34m.\u001b[0m\u001b[0mparseDataType\u001b[0m\u001b[0;34m(\u001b[0m\u001b[0mdataType\u001b[0m\u001b[0;34m.\u001b[0m\u001b[0mjson\u001b[0m\u001b[0;34m(\u001b[0m\u001b[0;34m)\u001b[0m\u001b[0;34m)\u001b[0m\u001b[0;34m\u001b[0m\u001b[0m\n\u001b[0m\u001b[1;32m    334\u001b[0m             \u001b[0mjc\u001b[0m \u001b[0;34m=\u001b[0m \u001b[0mself\u001b[0m\u001b[0;34m.\u001b[0m\u001b[0m_jc\u001b[0m\u001b[0;34m.\u001b[0m\u001b[0mcast\u001b[0m\u001b[0;34m(\u001b[0m\u001b[0mjdt\u001b[0m\u001b[0;34m)\u001b[0m\u001b[0;34m\u001b[0m\u001b[0m\n\u001b[1;32m    335\u001b[0m         \u001b[0;32melse\u001b[0m\u001b[0;34m:\u001b[0m\u001b[0;34m\u001b[0m\u001b[0m\n",
      "\u001b[0;32m/usr/local/Cellar/apache-spark/2.1.1/libexec/python/lib/py4j-0.10.4-src.zip/py4j/java_gateway.py\u001b[0m in \u001b[0;36m__call__\u001b[0;34m(self, *args)\u001b[0m\n\u001b[1;32m   1131\u001b[0m         \u001b[0manswer\u001b[0m \u001b[0;34m=\u001b[0m \u001b[0mself\u001b[0m\u001b[0;34m.\u001b[0m\u001b[0mgateway_client\u001b[0m\u001b[0;34m.\u001b[0m\u001b[0msend_command\u001b[0m\u001b[0;34m(\u001b[0m\u001b[0mcommand\u001b[0m\u001b[0;34m)\u001b[0m\u001b[0;34m\u001b[0m\u001b[0m\n\u001b[1;32m   1132\u001b[0m         return_value = get_return_value(\n\u001b[0;32m-> 1133\u001b[0;31m             answer, self.gateway_client, self.target_id, self.name)\n\u001b[0m\u001b[1;32m   1134\u001b[0m \u001b[0;34m\u001b[0m\u001b[0m\n\u001b[1;32m   1135\u001b[0m         \u001b[0;32mfor\u001b[0m \u001b[0mtemp_arg\u001b[0m \u001b[0;32min\u001b[0m \u001b[0mtemp_args\u001b[0m\u001b[0;34m:\u001b[0m\u001b[0;34m\u001b[0m\u001b[0m\n",
      "\u001b[0;32m/usr/local/Cellar/apache-spark/2.1.1/libexec/python/pyspark/sql/utils.pyc\u001b[0m in \u001b[0;36mdeco\u001b[0;34m(*a, **kw)\u001b[0m\n\u001b[1;32m     61\u001b[0m     \u001b[0;32mdef\u001b[0m \u001b[0mdeco\u001b[0m\u001b[0;34m(\u001b[0m\u001b[0;34m*\u001b[0m\u001b[0ma\u001b[0m\u001b[0;34m,\u001b[0m \u001b[0;34m**\u001b[0m\u001b[0mkw\u001b[0m\u001b[0;34m)\u001b[0m\u001b[0;34m:\u001b[0m\u001b[0;34m\u001b[0m\u001b[0m\n\u001b[1;32m     62\u001b[0m         \u001b[0;32mtry\u001b[0m\u001b[0;34m:\u001b[0m\u001b[0;34m\u001b[0m\u001b[0m\n\u001b[0;32m---> 63\u001b[0;31m             \u001b[0;32mreturn\u001b[0m \u001b[0mf\u001b[0m\u001b[0;34m(\u001b[0m\u001b[0;34m*\u001b[0m\u001b[0ma\u001b[0m\u001b[0;34m,\u001b[0m \u001b[0;34m**\u001b[0m\u001b[0mkw\u001b[0m\u001b[0;34m)\u001b[0m\u001b[0;34m\u001b[0m\u001b[0m\n\u001b[0m\u001b[1;32m     64\u001b[0m         \u001b[0;32mexcept\u001b[0m \u001b[0mpy4j\u001b[0m\u001b[0;34m.\u001b[0m\u001b[0mprotocol\u001b[0m\u001b[0;34m.\u001b[0m\u001b[0mPy4JJavaError\u001b[0m \u001b[0;32mas\u001b[0m \u001b[0me\u001b[0m\u001b[0;34m:\u001b[0m\u001b[0;34m\u001b[0m\u001b[0m\n\u001b[1;32m     65\u001b[0m             \u001b[0ms\u001b[0m \u001b[0;34m=\u001b[0m \u001b[0me\u001b[0m\u001b[0;34m.\u001b[0m\u001b[0mjava_exception\u001b[0m\u001b[0;34m.\u001b[0m\u001b[0mtoString\u001b[0m\u001b[0;34m(\u001b[0m\u001b[0;34m)\u001b[0m\u001b[0;34m\u001b[0m\u001b[0m\n",
      "\u001b[0;32m/usr/local/Cellar/apache-spark/2.1.1/libexec/python/lib/py4j-0.10.4-src.zip/py4j/protocol.py\u001b[0m in \u001b[0;36mget_return_value\u001b[0;34m(answer, gateway_client, target_id, name)\u001b[0m\n\u001b[1;32m    317\u001b[0m                 raise Py4JJavaError(\n\u001b[1;32m    318\u001b[0m                     \u001b[0;34m\"An error occurred while calling {0}{1}{2}.\\n\"\u001b[0m\u001b[0;34m.\u001b[0m\u001b[0;34m\u001b[0m\u001b[0m\n\u001b[0;32m--> 319\u001b[0;31m                     format(target_id, \".\", name), value)\n\u001b[0m\u001b[1;32m    320\u001b[0m             \u001b[0;32melse\u001b[0m\u001b[0;34m:\u001b[0m\u001b[0;34m\u001b[0m\u001b[0m\n\u001b[1;32m    321\u001b[0m                 raise Py4JError(\n",
      "\u001b[0;31mPy4JJavaError\u001b[0m: An error occurred while calling o24.parseDataType.\n: java.lang.ClassNotFoundException: magellan.PointUDT\n\tat java.net.URLClassLoader.findClass(URLClassLoader.java:381)\n\tat java.lang.ClassLoader.loadClass(ClassLoader.java:424)\n\tat java.lang.ClassLoader.loadClass(ClassLoader.java:357)\n\tat java.lang.Class.forName0(Native Method)\n\tat java.lang.Class.forName(Class.java:348)\n\tat org.apache.spark.util.Utils$.classForName(Utils.scala:229)\n\tat org.apache.spark.sql.types.DataType$.parseDataType(DataType.scala:158)\n\tat org.apache.spark.sql.types.DataType$.fromJson(DataType.scala:104)\n\tat org.apache.spark.sql.SparkSession.parseDataType(SparkSession.scala:681)\n\tat sun.reflect.NativeMethodAccessorImpl.invoke0(Native Method)\n\tat sun.reflect.NativeMethodAccessorImpl.invoke(NativeMethodAccessorImpl.java:62)\n\tat sun.reflect.DelegatingMethodAccessorImpl.invoke(DelegatingMethodAccessorImpl.java:43)\n\tat java.lang.reflect.Method.invoke(Method.java:498)\n\tat py4j.reflection.MethodInvoker.invoke(MethodInvoker.java:244)\n\tat py4j.reflection.ReflectionEngine.invoke(ReflectionEngine.java:357)\n\tat py4j.Gateway.invoke(Gateway.java:280)\n\tat py4j.commands.AbstractCommand.invokeMethod(AbstractCommand.java:132)\n\tat py4j.commands.CallCommand.execute(CallCommand.java:79)\n\tat py4j.GatewayConnection.run(GatewayConnection.java:214)\n\tat java.lang.Thread.run(Thread.java:748)\n"
     ]
    }
   ],
   "source": [
    "a = uber_df.withColumn('Joined', concat(col('_c2'), lit(','), col('_c3')).cast(Point()))"
   ]
  },
  {
   "cell_type": "code",
   "execution_count": 17,
   "metadata": {},
   "outputs": [
    {
     "name": "stdout",
     "output_type": "stream",
     "text": [
      "+---+--------------------+---------+-----------+--------------------+\n",
      "|_c0|                 _c1|      _c2|        _c3|              Joined|\n",
      "+---+--------------------+---------+-----------+--------------------+\n",
      "|  1|2007-01-07 03:56:...|37.784965|-122.439938|37.784965,-122.43...|\n",
      "|  2|2007-01-05 23:23:...|37.800702|-122.436298|37.800702,-122.43...|\n",
      "|  3|2007-01-01 23:01:...|37.787169|-122.417145|37.787169,-122.41...|\n",
      "|  4|2007-01-06 01:45:...|37.787282|-122.394426|37.787282,-122.39...|\n",
      "|  5|2007-01-01 20:54:...|37.776842|-122.438442|37.776842,-122.43...|\n",
      "|  5|2007-01-01 20:56:...|37.778847|-122.438706|37.778847,-122.43...|\n",
      "|  6|2007-01-03 18:04:...| 37.79932|-122.429251|37.79932,-122.429251|\n",
      "|  6|2007-01-03 18:07:...|37.802693|-122.429179|37.802693,-122.42...|\n",
      "|  7|2007-01-07 09:10:...|37.762278|-122.415127|37.762278,-122.41...|\n",
      "|  8|2007-01-02 17:54:...|37.771248|-122.424327|37.771248,-122.42...|\n",
      "|  8|2007-01-02 17:56:...| 37.76658|-122.430211|37.76658,-122.430211|\n",
      "|  8|2007-01-02 17:59:...|37.759913|-122.444698|37.759913,-122.44...|\n",
      "|  8|2007-01-02 18:01:...|37.750448|-122.444013|37.750448,-122.44...|\n",
      "|  9|2007-01-06 22:08:...|37.788483|-122.395963|37.788483,-122.39...|\n",
      "|  9|2007-01-06 22:10:...|37.785114|-122.394365|37.785114,-122.39...|\n",
      "| 10|2007-01-04 14:02:...|37.784577|-122.399948|37.784577,-122.39...|\n",
      "| 11|2007-01-06 02:08:...|37.801069|-122.422785|37.801069,-122.42...|\n",
      "| 13|2007-01-04 03:00:...| 37.77644|  -122.4118|  37.77644,-122.4118|\n",
      "| 13|2007-01-04 03:02:...|37.779295|-122.404455|37.779295,-122.40...|\n",
      "| 13|2007-01-04 03:04:...|37.784835|-122.399927|37.784835,-122.39...|\n",
      "+---+--------------------+---------+-----------+--------------------+\n",
      "only showing top 20 rows\n",
      "\n"
     ]
    }
   ],
   "source": [
    "a.show()"
   ]
  },
  {
   "cell_type": "code",
   "execution_count": null,
   "metadata": {
    "collapsed": true
   },
   "outputs": [],
   "source": [
    "df = df.selectExpr(\"_c0 as tripId\", \"_c1 as timestamp\", \"_c2 as \")"
   ]
  },
  {
   "cell_type": "code",
   "execution_count": 40,
   "metadata": {
    "collapsed": true
   },
   "outputs": [],
   "source": [
    "df = spark.read.format(\"magellan\").load('/Users/abanihi/Documents/shapefiles/planning_neighborhoods/').cache()"
   ]
  },
  {
   "cell_type": "code",
   "execution_count": 41,
   "metadata": {},
   "outputs": [
    {
     "name": "stdout",
     "output_type": "stream",
     "text": [
      "+-----+--------+--------------------+--------------------+-----+\n",
      "|point|polyline|             polygon|            metadata|valid|\n",
      "+-----+--------+--------------------+--------------------+-----+\n",
      "| null|    null|magellan.Polygon@...|Map(neighborho ->...| true|\n",
      "| null|    null|magellan.Polygon@...|Map(neighborho ->...| true|\n",
      "| null|    null|magellan.Polygon@...|Map(neighborho ->...| true|\n",
      "| null|    null|magellan.Polygon@...|Map(neighborho ->...| true|\n",
      "| null|    null|magellan.Polygon@...|Map(neighborho ->...| true|\n",
      "| null|    null|magellan.Polygon@...|Map(neighborho ->...| true|\n",
      "| null|    null|magellan.Polygon@...|Map(neighborho ->...| true|\n",
      "| null|    null|magellan.Polygon@...|Map(neighborho ->...| true|\n",
      "| null|    null|magellan.Polygon@...|Map(neighborho ->...| true|\n",
      "| null|    null|magellan.Polygon@...|Map(neighborho ->...| true|\n",
      "| null|    null|magellan.Polygon@...|Map(neighborho ->...| true|\n",
      "| null|    null|magellan.Polygon@...|Map(neighborho ->...| true|\n",
      "| null|    null|magellan.Polygon@...|Map(neighborho ->...| true|\n",
      "| null|    null|magellan.Polygon@...|Map(neighborho ->...| true|\n",
      "| null|    null|magellan.Polygon@...|Map(neighborho ->...| true|\n",
      "| null|    null|magellan.Polygon@...|Map(neighborho ->...| true|\n",
      "| null|    null|magellan.Polygon@...|Map(neighborho ->...| true|\n",
      "| null|    null|magellan.Polygon@...|Map(neighborho ->...| true|\n",
      "| null|    null|magellan.Polygon@...|Map(neighborho ->...| true|\n",
      "| null|    null|magellan.Polygon@...|Map(neighborho ->...| true|\n",
      "+-----+--------+--------------------+--------------------+-----+\n",
      "only showing top 20 rows\n",
      "\n"
     ]
    }
   ],
   "source": [
    "df.show()"
   ]
  },
  {
   "cell_type": "code",
   "execution_count": 42,
   "metadata": {
    "collapsed": true
   },
   "outputs": [],
   "source": []
  },
  {
   "cell_type": "code",
   "execution_count": 43,
   "metadata": {},
   "outputs": [
    {
     "name": "stdout",
     "output_type": "stream",
     "text": [
      "+----------+--------------------+\n",
      "|         k|                   v|\n",
      "+----------+--------------------+\n",
      "|neighborho|Twin Peaks       ...|\n",
      "|neighborho|Pacific Heights  ...|\n",
      "|neighborho|Visitacion Valley...|\n",
      "|neighborho|Potrero Hill     ...|\n",
      "|neighborho|Crocker Amazon   ...|\n",
      "|neighborho|Outer Mission    ...|\n",
      "|neighborho|Bayview          ...|\n",
      "|neighborho|Lakeshore        ...|\n",
      "|neighborho|Russian Hill     ...|\n",
      "|neighborho|Golden Gate Park ...|\n",
      "|neighborho|Outer Sunset     ...|\n",
      "|neighborho|Inner Sunset     ...|\n",
      "|neighborho|Excelsior        ...|\n",
      "|neighborho|Outer Richmond   ...|\n",
      "|neighborho|Parkside         ...|\n",
      "|neighborho|Bernal Heights   ...|\n",
      "|neighborho|Noe Valley       ...|\n",
      "|neighborho|Presidio         ...|\n",
      "|neighborho|Nob Hill         ...|\n",
      "|neighborho|Financial Distric...|\n",
      "+----------+--------------------+\n",
      "only showing top 20 rows\n",
      "\n"
     ]
    }
   ],
   "source": [
    "df.select(explode(df['metadata']).alias(\"k\", \"v\")).show()"
   ]
  },
  {
   "cell_type": "code",
   "execution_count": 37,
   "metadata": {},
   "outputs": [
    {
     "name": "stdout",
     "output_type": "stream",
     "text": [
      "+----------+--------------------+\n",
      "|         k|                   v|\n",
      "+----------+--------------------+\n",
      "|neighborho|Twin Peaks       ...|\n",
      "|neighborho|Pacific Heights  ...|\n",
      "|neighborho|Visitacion Valley...|\n",
      "|neighborho|Potrero Hill     ...|\n",
      "|neighborho|Crocker Amazon   ...|\n",
      "|neighborho|Outer Mission    ...|\n",
      "|neighborho|Bayview          ...|\n",
      "|neighborho|Lakeshore        ...|\n",
      "|neighborho|Russian Hill     ...|\n",
      "|neighborho|Golden Gate Park ...|\n",
      "|neighborho|Outer Sunset     ...|\n",
      "|neighborho|Inner Sunset     ...|\n",
      "|neighborho|Excelsior        ...|\n",
      "|neighborho|Outer Richmond   ...|\n",
      "|neighborho|Parkside         ...|\n",
      "|neighborho|Bernal Heights   ...|\n",
      "|neighborho|Noe Valley       ...|\n",
      "|neighborho|Presidio         ...|\n",
      "|neighborho|Nob Hill         ...|\n",
      "|neighborho|Financial Distric...|\n",
      "+----------+--------------------+\n",
      "only showing top 20 rows\n",
      "\n"
     ]
    }
   ],
   "source": [
    "df.join()"
   ]
  },
  {
   "cell_type": "code",
   "execution_count": null,
   "metadata": {
    "collapsed": true
   },
   "outputs": [],
   "source": []
  }
 ],
 "metadata": {
  "kernelspec": {
   "display_name": "Python 2",
   "language": "python",
   "name": "python2"
  },
  "language_info": {
   "codemirror_mode": {
    "name": "ipython",
    "version": 2
   },
   "file_extension": ".py",
   "mimetype": "text/x-python",
   "name": "python",
   "nbconvert_exporter": "python",
   "pygments_lexer": "ipython2",
   "version": "2.7.13"
  }
 },
 "nbformat": 4,
 "nbformat_minor": 2
}
